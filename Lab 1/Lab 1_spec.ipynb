{
 "cells": [
  {
   "cell_type": "code",
   "execution_count": 1,
   "id": "cc8c3fea",
   "metadata": {},
   "outputs": [],
   "source": [
    "import pandas as pd\n",
    "import re\n",
    "from sklearn.feature_extraction.text import TfidfVectorizer\n",
    "from sklearn.naive_bayes import MultinomialNB\n",
    "from sklearn.metrics import accuracy_score, classification_report\n",
    "from sklearn.model_selection import GridSearchCV"
   ]
  },
  {
   "cell_type": "markdown",
   "id": "fd951ccc",
   "metadata": {},
   "source": [
    "<br/>\n",
    "Uncomment the following cell to always display the whole dataframe, but this makes my laptop run slowly."
   ]
  },
  {
   "cell_type": "code",
   "execution_count": null,
   "id": "f5325397",
   "metadata": {},
   "outputs": [],
   "source": [
    "# pd.set_option('display.max_rows', None)\n",
    "# pd.set_option('display.max_columns', None)\n",
    "# pd.set_option('display.expand_frame_repr', False) \n",
    "# pd.set_option('display.max_colwidth', None)"
   ]
  },
  {
   "cell_type": "markdown",
   "id": "3e9d0732",
   "metadata": {},
   "source": [
    "# Data cleaning\n",
    "Read training, test, evaluation sets, check whether there exist nulls or abnormal values. It seems that the given datasets are very clean."
   ]
  },
  {
   "cell_type": "code",
   "execution_count": 2,
   "id": "bbb9acca",
   "metadata": {},
   "outputs": [
    {
     "name": "stdout",
     "output_type": "stream",
     "text": [
      "1    3752\n",
      "0    3748\n",
      "Name: score, dtype: int64 \n",
      " score    0\n",
      "text     0\n",
      "dtype: int64\n",
      " \n",
      "0    1252\n",
      "1    1248\n",
      "Name: score, dtype: int64 \n",
      " score    0\n",
      "text     0\n",
      "dtype: int64\n",
      " \n",
      "1    2518\n",
      "0    2482\n",
      "Name: score, dtype: int64 \n",
      " score    0\n",
      "text     0\n",
      "dtype: int64\n"
     ]
    }
   ],
   "source": [
    "training_set = pd.read_csv('train.csv')\n",
    "test_set = pd.read_csv('test.csv')\n",
    "evaluation_set = pd.read_csv('evaluation.csv')\n",
    "\n",
    "print(training_set['score'].value_counts(), '\\n', # This is to count all different values in 'score'.\n",
    "      training_set.isna().sum())                  # This is to count all nulls.\n",
    "print(' ')\n",
    "print(test_set['score'].value_counts(), '\\n',\n",
    "      test_set.isna().sum())\n",
    "print(' ')\n",
    "print(evaluation_set['score'].value_counts(), '\\n',\n",
    "      evaluation_set.isna().sum())"
   ]
  },
  {
   "cell_type": "markdown",
   "id": "e8f75f61",
   "metadata": {},
   "source": [
    "\n",
    "<br/>\n",
    "Defining a function for cleaning the 'text' feature.\n"
   ]
  },
  {
   "cell_type": "code",
   "execution_count": 3,
   "id": "bf28ced6",
   "metadata": {},
   "outputs": [],
   "source": [
    "def clean_text(text):\n",
    "    text = re.sub(r'<.*?>', ' ', text)                           # substitute HTML tags with spaces\n",
    "    text = re.sub(r'@[\\w_]+', ' ', text)                         # substitute mentions with spaces\n",
    "    text = re.sub(r'http[s]?://\\S+|www\\.\\S+', ' ', text)         # substitute URLs with spaces\n",
    "    text = re.sub(r'[^\\w\\s\\d\\U0001F000-\\U0001F9FF]', ' ', text)  # substitute punctuations with spaces\n",
    "    return text"
   ]
  },
  {
   "cell_type": "markdown",
   "id": "49398ca9",
   "metadata": {},
   "source": [
    "<br/>\n",
    "Apply clean_text function to all datasets."
   ]
  },
  {
   "cell_type": "code",
   "execution_count": 4,
   "id": "fcadd353",
   "metadata": {},
   "outputs": [],
   "source": [
    "training_set['text'] = training_set['text'].apply(clean_text)\n",
    "test_set['text'] = test_set['text'].apply(clean_text)\n",
    "evaluation_set['text'] = evaluation_set['text'].apply(clean_text)"
   ]
  },
  {
   "cell_type": "markdown",
   "id": "a702e6a4",
   "metadata": {},
   "source": [
    "# Feature engineering\n",
    "Use TF-IDF to encode the 'text' features, with 6000 as max features, 'english' library as stop words, and consider both 1 and 2 grams. The encoding method is then fit for the training set and saved in tfidf_vectorizer. After that, use the same tfidf_vectorizer (the same encoding method) to encode the test and evaluation set."
   ]
  },
  {
   "cell_type": "code",
   "execution_count": 5,
   "id": "0eb7648c",
   "metadata": {},
   "outputs": [],
   "source": [
    "tfidf_vectorizer = TfidfVectorizer(max_features=6000, stop_words='english', ngram_range=(1, 2))\n",
    "\n",
    "X_train = tfidf_vectorizer.fit_transform(training_set['text'])\n",
    "y_train = training_set['score']\n",
    "\n",
    "X_test = tfidf_vectorizer.transform(test_set['text'])\n",
    "y_test = test_set['score']\n",
    "\n",
    "X_evaluation = tfidf_vectorizer.transform(evaluation_set['text'])\n",
    "y_evaluation = evaluation_set['score']"
   ]
  },
  {
   "cell_type": "markdown",
   "id": "7669a831",
   "metadata": {},
   "source": [
    "# Training\n",
    "Use MultnomialNB as the naive bayes classifier. Apply grid search with 5-fold cross validation to find the best smoothing paramter alpha for MultnomialNB. It turns out that the best alpha is 2.9."
   ]
  },
  {
   "cell_type": "code",
   "execution_count": 6,
   "id": "c0a61b69",
   "metadata": {},
   "outputs": [
    {
     "data": {
      "text/plain": [
       "2.9"
      ]
     },
     "execution_count": 6,
     "metadata": {},
     "output_type": "execute_result"
    }
   ],
   "source": [
    "param_grid = {'alpha': [0.1, 0.5, 1.0, 2.0, 2.8, 2.9, 3.0, 4.0]}\n",
    "grid_search = GridSearchCV(MultinomialNB(), param_grid, cv=5)\n",
    "grid_search.fit(X_train, y_train)\n",
    "\n",
    "best_alpha = grid_search.best_params_['alpha']\n",
    "best_alpha"
   ]
  },
  {
   "cell_type": "markdown",
   "id": "6f4d0e1f",
   "metadata": {},
   "source": [
    "<br/>\n",
    "Then train MultinomialNB with the best alpha 2.9, and save the model as nb_classifier."
   ]
  },
  {
   "cell_type": "code",
   "execution_count": 7,
   "id": "6c6afecd",
   "metadata": {},
   "outputs": [
    {
     "data": {
      "text/plain": [
       "MultinomialNB(alpha=2.9)"
      ]
     },
     "execution_count": 7,
     "metadata": {},
     "output_type": "execute_result"
    }
   ],
   "source": [
    "nb_classifier = MultinomialNB(alpha=best_alpha)\n",
    "nb_classifier.fit(X_train, y_train)"
   ]
  },
  {
   "cell_type": "markdown",
   "id": "95944cd0",
   "metadata": {},
   "source": [
    "# Testing and evaluation\n",
    "Use nb_classifier to predict for test and evaluation set, and check the accuracy."
   ]
  },
  {
   "cell_type": "code",
   "execution_count": 8,
   "id": "31749b44",
   "metadata": {},
   "outputs": [
    {
     "name": "stdout",
     "output_type": "stream",
     "text": [
      "0.8432\n"
     ]
    }
   ],
   "source": [
    "y_pred = nb_classifier.predict(X_test)\n",
    "\n",
    "accuracy = accuracy_score(y_test, y_pred)\n",
    "print(accuracy)"
   ]
  },
  {
   "cell_type": "code",
   "execution_count": 9,
   "id": "c9f04e3f",
   "metadata": {},
   "outputs": [
    {
     "name": "stdout",
     "output_type": "stream",
     "text": [
      "0.8388\n"
     ]
    }
   ],
   "source": [
    "y_pred_evaluation = nb_classifier.predict(X_evaluation)\n",
    "\n",
    "accuracy_evaluation = accuracy_score(y_evaluation, y_pred_evaluation)\n",
    "print(accuracy_evaluation)"
   ]
  }
 ],
 "metadata": {
  "kernelspec": {
   "display_name": "Python 3 (ipykernel)",
   "language": "python",
   "name": "python3"
  },
  "language_info": {
   "codemirror_mode": {
    "name": "ipython",
    "version": 3
   },
   "file_extension": ".py",
   "mimetype": "text/x-python",
   "name": "python",
   "nbconvert_exporter": "python",
   "pygments_lexer": "ipython3",
   "version": "3.8.5"
  }
 },
 "nbformat": 4,
 "nbformat_minor": 5
}
