{
 "cells": [
  {
   "cell_type": "code",
   "execution_count": 1,
   "metadata": {},
   "outputs": [],
   "source": [
    "import pandas as pd"
   ]
  },
  {
   "cell_type": "markdown",
   "metadata": {},
   "source": [
    "Data exploration"
   ]
  },
  {
   "cell_type": "code",
   "execution_count": 2,
   "metadata": {},
   "outputs": [],
   "source": [
    "df = pd.read_csv('pairing_food_combined.csv')"
   ]
  },
  {
   "cell_type": "code",
   "execution_count": 3,
   "metadata": {},
   "outputs": [
    {
     "data": {
      "text/html": [
       "<div>\n",
       "<style scoped>\n",
       "    .dataframe tbody tr th:only-of-type {\n",
       "        vertical-align: middle;\n",
       "    }\n",
       "\n",
       "    .dataframe tbody tr th {\n",
       "        vertical-align: top;\n",
       "    }\n",
       "\n",
       "    .dataframe thead th {\n",
       "        text-align: right;\n",
       "    }\n",
       "</style>\n",
       "<table border=\"1\" class=\"dataframe\">\n",
       "  <thead>\n",
       "    <tr style=\"text-align: right;\">\n",
       "      <th></th>\n",
       "      <th>Pairing Food</th>\n",
       "      <th>Product</th>\n",
       "      <th>Grape</th>\n",
       "      <th>Popularity</th>\n",
       "      <th>Critics' Score</th>\n",
       "      <th>Avg. Price kr / 750ml</th>\n",
       "    </tr>\n",
       "  </thead>\n",
       "  <tbody>\n",
       "    <tr>\n",
       "      <th>0</th>\n",
       "      <td>beef and venison</td>\n",
       "      <td>Chateau Mouton Rothschild, Pauillac, France</td>\n",
       "      <td>Bordeaux Blend Red</td>\n",
       "      <td>1st</td>\n",
       "      <td>96 / 100</td>\n",
       "      <td>7,926</td>\n",
       "    </tr>\n",
       "    <tr>\n",
       "      <th>1</th>\n",
       "      <td>beef and venison</td>\n",
       "      <td>Chateau Lafite Rothschild, Pauillac, France</td>\n",
       "      <td>Bordeaux Blend Red</td>\n",
       "      <td>3rd</td>\n",
       "      <td>96 / 100</td>\n",
       "      <td>10,564</td>\n",
       "    </tr>\n",
       "    <tr>\n",
       "      <th>2</th>\n",
       "      <td>beef and venison</td>\n",
       "      <td>Petrus, Pomerol, France</td>\n",
       "      <td>Merlot</td>\n",
       "      <td>4th</td>\n",
       "      <td>96 / 100</td>\n",
       "      <td>47,971</td>\n",
       "    </tr>\n",
       "    <tr>\n",
       "      <th>3</th>\n",
       "      <td>beef and venison</td>\n",
       "      <td>Tenuta San Guido Sassicaia Bolgheri, Tuscany, ...</td>\n",
       "      <td>Cabernet Franc - Cabernet Sauvignon</td>\n",
       "      <td>5th</td>\n",
       "      <td>95 / 100</td>\n",
       "      <td>3,930</td>\n",
       "    </tr>\n",
       "    <tr>\n",
       "      <th>4</th>\n",
       "      <td>beef and venison</td>\n",
       "      <td>Chateau Margaux, Margaux, France</td>\n",
       "      <td>Bordeaux Blend Red</td>\n",
       "      <td>6th</td>\n",
       "      <td>96 / 100</td>\n",
       "      <td>8,419</td>\n",
       "    </tr>\n",
       "  </tbody>\n",
       "</table>\n",
       "</div>"
      ],
      "text/plain": [
       "       Pairing Food                                            Product  \\\n",
       "0  beef and venison        Chateau Mouton Rothschild, Pauillac, France   \n",
       "1  beef and venison        Chateau Lafite Rothschild, Pauillac, France   \n",
       "2  beef and venison                            Petrus, Pomerol, France   \n",
       "3  beef and venison  Tenuta San Guido Sassicaia Bolgheri, Tuscany, ...   \n",
       "4  beef and venison                   Chateau Margaux, Margaux, France   \n",
       "\n",
       "                                 Grape Popularity Critics' Score  \\\n",
       "0                   Bordeaux Blend Red        1st       96 / 100   \n",
       "1                   Bordeaux Blend Red        3rd       96 / 100   \n",
       "2                               Merlot        4th       96 / 100   \n",
       "3  Cabernet Franc - Cabernet Sauvignon        5th       95 / 100   \n",
       "4                   Bordeaux Blend Red        6th       96 / 100   \n",
       "\n",
       "  Avg. Price kr / 750ml  \n",
       "0                 7,926  \n",
       "1                10,564  \n",
       "2                47,971  \n",
       "3                 3,930  \n",
       "4                 8,419  "
      ]
     },
     "execution_count": 3,
     "metadata": {},
     "output_type": "execute_result"
    }
   ],
   "source": [
    "df.head(5)"
   ]
  },
  {
   "cell_type": "code",
   "execution_count": 4,
   "metadata": {},
   "outputs": [
    {
     "data": {
      "text/plain": [
       "331"
      ]
     },
     "execution_count": 4,
     "metadata": {},
     "output_type": "execute_result"
    }
   ],
   "source": [
    "unique_grapes = df['Grape'].unique()\n",
    "unique_grapes\n",
    "length_grapes = len(unique_grapes)\n",
    "length_grapes\n",
    "#331 unique grapes, so maybe we can use that to predict? \n",
    "#-> We can make a model that predicts for the grape kind which pairing food works best\n",
    "#For example: It would say for (new) product x, the best pairing food is y, based on the grape z being used in the product"
   ]
  },
  {
   "cell_type": "code",
   "execution_count": 5,
   "metadata": {
    "scrolled": true
   },
   "outputs": [
    {
     "data": {
      "text/plain": [
       "9741"
      ]
     },
     "execution_count": 5,
     "metadata": {},
     "output_type": "execute_result"
    }
   ],
   "source": [
    "unique_products = df['Product'].unique()\n",
    "unique_products\n",
    "length_products = len(unique_products)\n",
    "length_products\n",
    "#there are 9741 unique products, out of 9750 total entries in the dataframe (so almost all of them are unique)"
   ]
  },
  {
   "cell_type": "markdown",
   "metadata": {},
   "source": [
    "# Data cleaning"
   ]
  },
  {
   "cell_type": "markdown",
   "metadata": {},
   "source": [
    "So the grapes are spanning across multiple categories of food, while each wine mostly fits to just one category. \n",
    "maybe we can try to combine grape with country, and see if we find some more combinations there\n",
    "-> so: a french Merlot works for beef, but a spanish Merlot works for some cheese?"
   ]
  },
  {
   "cell_type": "markdown",
   "metadata": {},
   "source": [
    "lets start by trying to separate the \"products\" column into columns \"wine\", \"region\", and \"country\"."
   ]
  },
  {
   "cell_type": "code",
   "execution_count": 6,
   "metadata": {},
   "outputs": [
    {
     "data": {
      "text/html": [
       "<div>\n",
       "<style scoped>\n",
       "    .dataframe tbody tr th:only-of-type {\n",
       "        vertical-align: middle;\n",
       "    }\n",
       "\n",
       "    .dataframe tbody tr th {\n",
       "        vertical-align: top;\n",
       "    }\n",
       "\n",
       "    .dataframe thead th {\n",
       "        text-align: right;\n",
       "    }\n",
       "</style>\n",
       "<table border=\"1\" class=\"dataframe\">\n",
       "  <thead>\n",
       "    <tr style=\"text-align: right;\">\n",
       "      <th></th>\n",
       "      <th>Pairing Food</th>\n",
       "      <th>Grape</th>\n",
       "      <th>Popularity</th>\n",
       "      <th>Critics' Score</th>\n",
       "      <th>Avg. Price kr / 750ml</th>\n",
       "      <th>Wine</th>\n",
       "      <th>Region</th>\n",
       "      <th>Country</th>\n",
       "    </tr>\n",
       "  </thead>\n",
       "  <tbody>\n",
       "    <tr>\n",
       "      <th>0</th>\n",
       "      <td>beef and venison</td>\n",
       "      <td>Bordeaux Blend Red</td>\n",
       "      <td>1st</td>\n",
       "      <td>96 / 100</td>\n",
       "      <td>7,926</td>\n",
       "      <td>Chateau Mouton Rothschild</td>\n",
       "      <td>Pauillac</td>\n",
       "      <td>France</td>\n",
       "    </tr>\n",
       "    <tr>\n",
       "      <th>1</th>\n",
       "      <td>beef and venison</td>\n",
       "      <td>Bordeaux Blend Red</td>\n",
       "      <td>3rd</td>\n",
       "      <td>96 / 100</td>\n",
       "      <td>10,564</td>\n",
       "      <td>Chateau Lafite Rothschild</td>\n",
       "      <td>Pauillac</td>\n",
       "      <td>France</td>\n",
       "    </tr>\n",
       "    <tr>\n",
       "      <th>2</th>\n",
       "      <td>beef and venison</td>\n",
       "      <td>Merlot</td>\n",
       "      <td>4th</td>\n",
       "      <td>96 / 100</td>\n",
       "      <td>47,971</td>\n",
       "      <td>Petrus</td>\n",
       "      <td>Pomerol</td>\n",
       "      <td>France</td>\n",
       "    </tr>\n",
       "    <tr>\n",
       "      <th>3</th>\n",
       "      <td>beef and venison</td>\n",
       "      <td>Cabernet Franc - Cabernet Sauvignon</td>\n",
       "      <td>5th</td>\n",
       "      <td>95 / 100</td>\n",
       "      <td>3,930</td>\n",
       "      <td>Tenuta San Guido Sassicaia Bolgheri</td>\n",
       "      <td>Tuscany</td>\n",
       "      <td>Italy</td>\n",
       "    </tr>\n",
       "    <tr>\n",
       "      <th>4</th>\n",
       "      <td>beef and venison</td>\n",
       "      <td>Bordeaux Blend Red</td>\n",
       "      <td>6th</td>\n",
       "      <td>96 / 100</td>\n",
       "      <td>8,419</td>\n",
       "      <td>Chateau Margaux</td>\n",
       "      <td>Margaux</td>\n",
       "      <td>France</td>\n",
       "    </tr>\n",
       "  </tbody>\n",
       "</table>\n",
       "</div>"
      ],
      "text/plain": [
       "       Pairing Food                                Grape Popularity  \\\n",
       "0  beef and venison                   Bordeaux Blend Red        1st   \n",
       "1  beef and venison                   Bordeaux Blend Red        3rd   \n",
       "2  beef and venison                               Merlot        4th   \n",
       "3  beef and venison  Cabernet Franc - Cabernet Sauvignon        5th   \n",
       "4  beef and venison                   Bordeaux Blend Red        6th   \n",
       "\n",
       "  Critics' Score Avg. Price kr / 750ml                                 Wine  \\\n",
       "0       96 / 100                 7,926            Chateau Mouton Rothschild   \n",
       "1       96 / 100                10,564            Chateau Lafite Rothschild   \n",
       "2       96 / 100                47,971                               Petrus   \n",
       "3       95 / 100                 3,930  Tenuta San Guido Sassicaia Bolgheri   \n",
       "4       96 / 100                 8,419                      Chateau Margaux   \n",
       "\n",
       "      Region  Country  \n",
       "0   Pauillac   France  \n",
       "1   Pauillac   France  \n",
       "2    Pomerol   France  \n",
       "3    Tuscany    Italy  \n",
       "4    Margaux   France  "
      ]
     },
     "execution_count": 6,
     "metadata": {},
     "output_type": "execute_result"
    }
   ],
   "source": [
    "# Split the values in \"column_name\" by commas and expand them into separate columns\n",
    "df[['Wine', 'Region', 'Country']] = df['Product'].str.split(',',n = 2, expand=True)\n",
    "\n",
    "# Drop the original \"column_name\" column if needed\n",
    "df.drop(columns=['Product'], inplace=True)\n",
    "\n",
    "df.head(5)"
   ]
  },
  {
   "cell_type": "code",
   "execution_count": 8,
   "metadata": {},
   "outputs": [
    {
     "data": {
      "text/plain": [
       "(9750, 8)"
      ]
     },
     "execution_count": 8,
     "metadata": {},
     "output_type": "execute_result"
    }
   ],
   "source": [
    "df.shape"
   ]
  },
  {
   "cell_type": "code",
   "execution_count": 7,
   "metadata": {},
   "outputs": [
    {
     "data": {
      "text/plain": [
       "array([' France', ' Italy', ' USA', None, ' Spain', ' Chile',\n",
       "       ' Argentina', ' Australia', ' South Africa', ' Portugal',\n",
       "       ' New Zealand', ' Tuscany, Italy', ' Canada', ' Germany', ' China',\n",
       "       ' Romania', ' Austria', ' Georgian Republic', ' Moldova',\n",
       "       ' Israel', ' Sweden', ' UK', ' England', ' Switzerland',\n",
       "       ' Hungary', ' Greece', ' Czech Republic', ' Brazil', ' Russia',\n",
       "       ' Japan', ' Vin de France', ' Montenegro', ' Monterey, USA',\n",
       "       ' Uruguay', ' Vin de france', ' Slovenia', ' Croatia', ' India',\n",
       "       ' Cyprus', ' Turkey', ' Marlborough, New Zealand', ' Lebanon',\n",
       "       ' Sicily, Italy', ' Veneto, Italy', ' Slovakia'], dtype=object)"
      ]
     },
     "execution_count": 7,
     "metadata": {},
     "output_type": "execute_result"
    }
   ],
   "source": [
    "unique_countries = df['Country'].unique()\n",
    "unique_countries\n",
    "#we can see there are 45 unique entries in the countries column.\n",
    "#there are three from italy: \"sicily, Italy\" and \"veneto, Italy\" and \"Tuscany, Italy\"\n",
    "#-> as well as of course just \"italy\".\n",
    "#there are also three entries from France: \"France\", \"Vin de France\", and \"Vin de france\". We should make those all the same\n"
   ]
  },
  {
   "cell_type": "markdown",
   "metadata": {},
   "source": [
    "Time to clean the code for the \"country\" column"
   ]
  },
  {
   "cell_type": "code",
   "execution_count": 9,
   "metadata": {},
   "outputs": [],
   "source": [
    "#first, showing all the columns where the country is Tuscany, italy\n",
    "condition = df['Country'] == ' Tuscany, Italy' \n",
    "filtered_df = df[condition]\n",
    "filtered_df\n",
    "    #just one data entry, and it shows that something went wrong with the separating of columns since the wine had an additional\n",
    "        #comma in its name. We will drop this wine for consistency.\n",
    "df = df[df['Country'] != ' Tuscany, Italy']\n",
    "\n",
    "#next, showing columns where the country is \"Sicily, Italy\"\n",
    "condition = df['Country'] == ' Sicily, Italy'\n",
    "filtered_df = df[condition]\n",
    "filtered_df\n",
    "    #again, just a single entry where something likely went wrong with splitting. We will drop this entry as well\n",
    "df = df[df['Country'] != ' Sicily, Italy']\n",
    "\n",
    "#lastly, showing columns where the country is \"Veneto, Italy\"\n",
    "condition = df['Country'] == ' Veneto, Italy'\n",
    "filtered_df = df[condition]\n",
    "filtered_df\n",
    "    #just one entry, so dropping that as well\n",
    "df = df[df['Country'] != ' Veneto, Italy']\n",
    "\n",
    "#showing columns where the country is marlborough, NZ\n",
    "condition = df['Country'] == ' Marlborough, New Zealand'\n",
    "filtered_df = df[condition]\n",
    "filtered_df\n",
    "    #again one entry, but region is correct. So, renaming it\n",
    "df['Country'].replace({' Marlborough, New Zealand': ' New Zealand'}, inplace=True)\n",
    "\n",
    "#next, solving the issue of three france countries\n",
    "df['Country'].replace({' Vin de France': ' France', ' Vin de france': ' France'}, inplace=True)\n",
    "\n",
    "#next, looking at the difference between 'UK' and 'England'\n",
    "condition = df['Country'] == ' UK'\n",
    "filtered_df = df[condition]\n",
    "filtered_df\n",
    "    #UK has only two entries, where region is set to england and wine is Bulmers cider\n",
    "condition = df['Country'] == ' England'\n",
    "filtered_df = df[condition]\n",
    "filtered_df\n",
    "    #England has a bunch of entries with actual regions. To make data analysis easier, we are changing UK to england.\n",
    "df['Country'].replace({' UK': ' England'}, inplace=True)\n",
    "\n",
    "#finally, looking at ' Monterey, USA'\n",
    "condition = df['Country'] == ' Monterey, USA'\n",
    "filtered_df = df[condition]\n",
    "filtered_df\n",
    "    #just one entry, with region of california. So, changing Monteray to just USA\n",
    "df['Country'].replace({' Monterey, USA': ' USA'}, inplace=True)"
   ]
  },
  {
   "cell_type": "markdown",
   "metadata": {},
   "source": [
    "Next, time to check if the country column is cleaned now:"
   ]
  },
  {
   "cell_type": "code",
   "execution_count": 10,
   "metadata": {},
   "outputs": [
    {
     "data": {
      "text/plain": [
       "37"
      ]
     },
     "execution_count": 10,
     "metadata": {},
     "output_type": "execute_result"
    }
   ],
   "source": [
    "unique_countries = df['Country'].unique()\n",
    "unique_countries\n",
    "#looks much better now!\n",
    "length_countries = len(unique_countries)\n",
    "length_countries\n",
    "#37 unique countries in the dataset"
   ]
  },
  {
   "cell_type": "markdown",
   "metadata": {},
   "source": [
    "Now let's see how many different wines there are in the dataset now that we split off country and region."
   ]
  },
  {
   "cell_type": "code",
   "execution_count": 11,
   "metadata": {},
   "outputs": [
    {
     "data": {
      "text/plain": [
       "9734"
      ]
     },
     "execution_count": 11,
     "metadata": {},
     "output_type": "execute_result"
    }
   ],
   "source": [
    "unique_wines = df['Wine'].unique()\n",
    "unique_wines\n",
    "length_wines = len(unique_wines)\n",
    "length_wines\n",
    "#still 9734 unique wines in the dataset, thus mostly all unique wines."
   ]
  },
  {
   "cell_type": "code",
   "execution_count": 12,
   "metadata": {},
   "outputs": [
    {
     "data": {
      "text/html": [
       "<div>\n",
       "<style scoped>\n",
       "    .dataframe tbody tr th:only-of-type {\n",
       "        vertical-align: middle;\n",
       "    }\n",
       "\n",
       "    .dataframe tbody tr th {\n",
       "        vertical-align: top;\n",
       "    }\n",
       "\n",
       "    .dataframe thead th {\n",
       "        text-align: right;\n",
       "    }\n",
       "</style>\n",
       "<table border=\"1\" class=\"dataframe\">\n",
       "  <thead>\n",
       "    <tr style=\"text-align: right;\">\n",
       "      <th></th>\n",
       "      <th>Pairing Food</th>\n",
       "      <th>Grape</th>\n",
       "      <th>Popularity</th>\n",
       "      <th>Critics' Score</th>\n",
       "      <th>Avg. Price kr / 750ml</th>\n",
       "      <th>Wine</th>\n",
       "      <th>Region</th>\n",
       "      <th>Country</th>\n",
       "    </tr>\n",
       "  </thead>\n",
       "  <tbody>\n",
       "    <tr>\n",
       "      <th>0</th>\n",
       "      <td>beef and venison</td>\n",
       "      <td>Bordeaux Blend Red</td>\n",
       "      <td>1st</td>\n",
       "      <td>96 / 100</td>\n",
       "      <td>7,926</td>\n",
       "      <td>Chateau Mouton Rothschild</td>\n",
       "      <td>Pauillac</td>\n",
       "      <td>France</td>\n",
       "    </tr>\n",
       "    <tr>\n",
       "      <th>1</th>\n",
       "      <td>beef and venison</td>\n",
       "      <td>Bordeaux Blend Red</td>\n",
       "      <td>3rd</td>\n",
       "      <td>96 / 100</td>\n",
       "      <td>10,564</td>\n",
       "      <td>Chateau Lafite Rothschild</td>\n",
       "      <td>Pauillac</td>\n",
       "      <td>France</td>\n",
       "    </tr>\n",
       "    <tr>\n",
       "      <th>2</th>\n",
       "      <td>beef and venison</td>\n",
       "      <td>Merlot</td>\n",
       "      <td>4th</td>\n",
       "      <td>96 / 100</td>\n",
       "      <td>47,971</td>\n",
       "      <td>Petrus</td>\n",
       "      <td>Pomerol</td>\n",
       "      <td>France</td>\n",
       "    </tr>\n",
       "    <tr>\n",
       "      <th>3</th>\n",
       "      <td>beef and venison</td>\n",
       "      <td>Cabernet Franc - Cabernet Sauvignon</td>\n",
       "      <td>5th</td>\n",
       "      <td>95 / 100</td>\n",
       "      <td>3,930</td>\n",
       "      <td>Tenuta San Guido Sassicaia Bolgheri</td>\n",
       "      <td>Tuscany</td>\n",
       "      <td>Italy</td>\n",
       "    </tr>\n",
       "    <tr>\n",
       "      <th>4</th>\n",
       "      <td>beef and venison</td>\n",
       "      <td>Bordeaux Blend Red</td>\n",
       "      <td>6th</td>\n",
       "      <td>96 / 100</td>\n",
       "      <td>8,419</td>\n",
       "      <td>Chateau Margaux</td>\n",
       "      <td>Margaux</td>\n",
       "      <td>France</td>\n",
       "    </tr>\n",
       "    <tr>\n",
       "      <th>...</th>\n",
       "      <td>...</td>\n",
       "      <td>...</td>\n",
       "      <td>...</td>\n",
       "      <td>...</td>\n",
       "      <td>...</td>\n",
       "      <td>...</td>\n",
       "      <td>...</td>\n",
       "      <td>...</td>\n",
       "    </tr>\n",
       "    <tr>\n",
       "      <th>9745</th>\n",
       "      <td>white fish</td>\n",
       "      <td>Pinot Grigio</td>\n",
       "      <td>22,922nd</td>\n",
       "      <td>81 / 100</td>\n",
       "      <td>160</td>\n",
       "      <td>Torresella Pinot Grigio Veneto IGT</td>\n",
       "      <td>Italy</td>\n",
       "      <td>None</td>\n",
       "    </tr>\n",
       "    <tr>\n",
       "      <th>9746</th>\n",
       "      <td>white fish</td>\n",
       "      <td>Verdicchio</td>\n",
       "      <td>23,113th</td>\n",
       "      <td>89 / 100</td>\n",
       "      <td>213</td>\n",
       "      <td>Allegrini 'Oasi Mantellina' Lugana</td>\n",
       "      <td>Lombardy</td>\n",
       "      <td>Italy</td>\n",
       "    </tr>\n",
       "    <tr>\n",
       "      <th>9747</th>\n",
       "      <td>white fish</td>\n",
       "      <td>Biancolella</td>\n",
       "      <td>23,113th</td>\n",
       "      <td>91 / 100</td>\n",
       "      <td>226</td>\n",
       "      <td>Casa d'Ambra Frassitelli Biancolella Ischia</td>\n",
       "      <td>Campania</td>\n",
       "      <td>Italy</td>\n",
       "    </tr>\n",
       "    <tr>\n",
       "      <th>9748</th>\n",
       "      <td>white fish</td>\n",
       "      <td>Soave Blend</td>\n",
       "      <td>23,113th</td>\n",
       "      <td>85 / 100</td>\n",
       "      <td>80</td>\n",
       "      <td>Bolla Soave Classico</td>\n",
       "      <td>Veneto</td>\n",
       "      <td>Italy</td>\n",
       "    </tr>\n",
       "    <tr>\n",
       "      <th>9749</th>\n",
       "      <td>white fish</td>\n",
       "      <td>Vermentino (Rolle)</td>\n",
       "      <td>23,113th</td>\n",
       "      <td>88 / 100</td>\n",
       "      <td>160</td>\n",
       "      <td>Rocca di Montemassi 'Calasole' Vermentino Mare...</td>\n",
       "      <td>Tuscany</td>\n",
       "      <td>Italy</td>\n",
       "    </tr>\n",
       "  </tbody>\n",
       "</table>\n",
       "<p>9747 rows × 8 columns</p>\n",
       "</div>"
      ],
      "text/plain": [
       "          Pairing Food                                Grape Popularity  \\\n",
       "0     beef and venison                   Bordeaux Blend Red        1st   \n",
       "1     beef and venison                   Bordeaux Blend Red        3rd   \n",
       "2     beef and venison                               Merlot        4th   \n",
       "3     beef and venison  Cabernet Franc - Cabernet Sauvignon        5th   \n",
       "4     beef and venison                   Bordeaux Blend Red        6th   \n",
       "...                ...                                  ...        ...   \n",
       "9745        white fish                         Pinot Grigio   22,922nd   \n",
       "9746        white fish                           Verdicchio   23,113th   \n",
       "9747        white fish                          Biancolella   23,113th   \n",
       "9748        white fish                          Soave Blend   23,113th   \n",
       "9749        white fish                   Vermentino (Rolle)   23,113th   \n",
       "\n",
       "     Critics' Score Avg. Price kr / 750ml  \\\n",
       "0          96 / 100                 7,926   \n",
       "1          96 / 100                10,564   \n",
       "2          96 / 100                47,971   \n",
       "3          95 / 100                 3,930   \n",
       "4          96 / 100                 8,419   \n",
       "...             ...                   ...   \n",
       "9745       81 / 100                   160   \n",
       "9746       89 / 100                   213   \n",
       "9747       91 / 100                   226   \n",
       "9748       85 / 100                    80   \n",
       "9749       88 / 100                   160   \n",
       "\n",
       "                                                   Wine     Region  Country  \n",
       "0                             Chateau Mouton Rothschild   Pauillac   France  \n",
       "1                             Chateau Lafite Rothschild   Pauillac   France  \n",
       "2                                                Petrus    Pomerol   France  \n",
       "3                   Tenuta San Guido Sassicaia Bolgheri    Tuscany    Italy  \n",
       "4                                       Chateau Margaux    Margaux   France  \n",
       "...                                                 ...        ...      ...  \n",
       "9745                 Torresella Pinot Grigio Veneto IGT      Italy     None  \n",
       "9746                 Allegrini 'Oasi Mantellina' Lugana   Lombardy    Italy  \n",
       "9747        Casa d'Ambra Frassitelli Biancolella Ischia   Campania    Italy  \n",
       "9748                               Bolla Soave Classico     Veneto    Italy  \n",
       "9749  Rocca di Montemassi 'Calasole' Vermentino Mare...    Tuscany    Italy  \n",
       "\n",
       "[9747 rows x 8 columns]"
      ]
     },
     "execution_count": 12,
     "metadata": {},
     "output_type": "execute_result"
    }
   ],
   "source": [
    "df"
   ]
  },
  {
   "cell_type": "code",
   "execution_count": 13,
   "metadata": {},
   "outputs": [],
   "source": [
    "df.to_csv('pairing_food.csv', index=False)"
   ]
  }
 ],
 "metadata": {
  "kernelspec": {
   "display_name": "Python 3 (ipykernel)",
   "language": "python",
   "name": "python3"
  },
  "language_info": {
   "codemirror_mode": {
    "name": "ipython",
    "version": 3
   },
   "file_extension": ".py",
   "mimetype": "text/x-python",
   "name": "python",
   "nbconvert_exporter": "python",
   "pygments_lexer": "ipython3",
   "version": "3.8.5"
  }
 },
 "nbformat": 4,
 "nbformat_minor": 2
}
