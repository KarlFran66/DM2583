{
 "cells": [
  {
   "cell_type": "code",
   "execution_count": 1,
   "id": "516d6f8b",
   "metadata": {},
   "outputs": [
    {
     "name": "stderr",
     "output_type": "stream",
     "text": [
      "C:\\Users\\Karl Zhang\\anaconda3\\lib\\site-packages\\numpy\\_distributor_init.py:30: UserWarning: loaded more than 1 DLL from .libs:\n",
      "C:\\Users\\Karl Zhang\\anaconda3\\lib\\site-packages\\numpy\\.libs\\libopenblas.NOIJJG62EMASZI6NYURL6JBKM4EVBGM7.gfortran-win_amd64.dll\n",
      "C:\\Users\\Karl Zhang\\anaconda3\\lib\\site-packages\\numpy\\.libs\\libopenblas64__v0.3.21-gcc_10_3_0.dll\n",
      "  warnings.warn(\"loaded more than 1 DLL from .libs:\"\n"
     ]
    }
   ],
   "source": [
    "import pandas as pd\n",
    "from sklearn.preprocessing import StandardScaler, MinMaxScaler, LabelEncoder, label_binarize\n",
    "from sklearn.model_selection import train_test_split, GridSearchCV, RandomizedSearchCV, learning_curve\n",
    "from sklearn.svm import SVC\n",
    "from sklearn.multiclass import OneVsRestClassifier\n",
    "from sklearn.metrics import accuracy_score, classification_report, confusion_matrix, roc_curve, auc, mean_squared_error, r2_score\n",
    "from sklearn.linear_model import LogisticRegression\n",
    "from sklearn.naive_bayes import MultinomialNB, GaussianNB\n",
    "from sklearn.ensemble import RandomForestClassifier, GradientBoostingClassifier, AdaBoostClassifier, VotingClassifier, RandomForestRegressor\n",
    "import numpy as np\n",
    "import matplotlib.pyplot as plt\n",
    "from sklearn.cluster import DBSCAN\n",
    "from prettytable import PrettyTable"
   ]
  },
  {
   "cell_type": "markdown",
   "id": "a503458c",
   "metadata": {},
   "source": [
    "<br>\n",
    "Firstly, read the pairing dataset, only keep the names of food & wines, and their taste features."
   ]
  },
  {
   "cell_type": "code",
   "execution_count": 2,
   "id": "5528ed42",
   "metadata": {},
   "outputs": [
    {
     "data": {
      "text/html": [
       "<div>\n",
       "<style scoped>\n",
       "    .dataframe tbody tr th:only-of-type {\n",
       "        vertical-align: middle;\n",
       "    }\n",
       "\n",
       "    .dataframe tbody tr th {\n",
       "        vertical-align: top;\n",
       "    }\n",
       "\n",
       "    .dataframe thead th {\n",
       "        text-align: right;\n",
       "    }\n",
       "</style>\n",
       "<table border=\"1\" class=\"dataframe\">\n",
       "  <thead>\n",
       "    <tr style=\"text-align: right;\">\n",
       "      <th></th>\n",
       "      <th>Pairing Food</th>\n",
       "      <th>name_pair</th>\n",
       "      <th>sweetness</th>\n",
       "      <th>acidity</th>\n",
       "      <th>piquancy</th>\n",
       "      <th>fattiness</th>\n",
       "      <th>bitterness</th>\n",
       "      <th>sweetness_food</th>\n",
       "      <th>acidity_food</th>\n",
       "      <th>salinity_food</th>\n",
       "      <th>piquancy_food</th>\n",
       "      <th>fattiness_food</th>\n",
       "      <th>bitterness_food</th>\n",
       "    </tr>\n",
       "  </thead>\n",
       "  <tbody>\n",
       "    <tr>\n",
       "      <th>0</th>\n",
       "      <td>beef and venison</td>\n",
       "      <td>Bordeaux Blend Red Chateau Mouton Rothschild P...</td>\n",
       "      <td>-27.316847</td>\n",
       "      <td>-0.000972</td>\n",
       "      <td>-5.65303</td>\n",
       "      <td>-4.383264</td>\n",
       "      <td>-10.966054</td>\n",
       "      <td>0.141897</td>\n",
       "      <td>0.318145</td>\n",
       "      <td>0.655264</td>\n",
       "      <td>0.473096</td>\n",
       "      <td>0.420863</td>\n",
       "      <td>0.228206</td>\n",
       "    </tr>\n",
       "  </tbody>\n",
       "</table>\n",
       "</div>"
      ],
      "text/plain": [
       "       Pairing Food                                          name_pair  \\\n",
       "0  beef and venison  Bordeaux Blend Red Chateau Mouton Rothschild P...   \n",
       "\n",
       "   sweetness   acidity  piquancy  fattiness  bitterness  sweetness_food  \\\n",
       "0 -27.316847 -0.000972  -5.65303  -4.383264  -10.966054        0.141897   \n",
       "\n",
       "   acidity_food  salinity_food  piquancy_food  fattiness_food  bitterness_food  \n",
       "0      0.318145       0.655264       0.473096        0.420863         0.228206  "
      ]
     },
     "execution_count": 2,
     "metadata": {},
     "output_type": "execute_result"
    }
   ],
   "source": [
    "df = pd.read_csv('pairing_food_final.csv')\n",
    "columns_taste = ['Pairing Food', 'name_pair', 'sweetness', 'acidity', 'piquancy', 'fattiness', 'bitterness', 'sweetness_food', 'acidity_food', 'salinity_food', 'piquancy_food', 'fattiness_food', 'bitterness_food']\n",
    "df_taste = df.loc[:, columns_taste]\n",
    "df_taste.head(1)"
   ]
  },
  {
   "cell_type": "markdown",
   "id": "1205cefa",
   "metadata": {},
   "source": [
    "<br>\n",
    "Apply some basic EDA, firstly, there shows no null values in the tastes features, good."
   ]
  },
  {
   "cell_type": "code",
   "execution_count": 3,
   "id": "6352b516",
   "metadata": {},
   "outputs": [
    {
     "data": {
      "text/plain": [
       "Pairing Food       0\n",
       "name_pair          0\n",
       "sweetness          0\n",
       "acidity            0\n",
       "piquancy           0\n",
       "fattiness          0\n",
       "bitterness         0\n",
       "sweetness_food     0\n",
       "acidity_food       0\n",
       "salinity_food      0\n",
       "piquancy_food      0\n",
       "fattiness_food     0\n",
       "bitterness_food    0\n",
       "dtype: int64"
      ]
     },
     "execution_count": 3,
     "metadata": {},
     "output_type": "execute_result"
    }
   ],
   "source": [
    "df_taste.isna().sum()"
   ]
  },
  {
   "cell_type": "markdown",
   "id": "fb26c68f",
   "metadata": {},
   "source": [
    "<br>\n",
    "Then, check the distribution of the tastes features. With Roald's method of food features extraction, tastes features of food shows good distribution. However, tastes features of wines are really awful as their Q1, Q2, Q3 are mostly the same, which means there exist many same values in these features."
   ]
  },
  {
   "cell_type": "code",
   "execution_count": 4,
   "id": "f3e2090f",
   "metadata": {},
   "outputs": [
    {
     "data": {
      "text/html": [
       "<div>\n",
       "<style scoped>\n",
       "    .dataframe tbody tr th:only-of-type {\n",
       "        vertical-align: middle;\n",
       "    }\n",
       "\n",
       "    .dataframe tbody tr th {\n",
       "        vertical-align: top;\n",
       "    }\n",
       "\n",
       "    .dataframe thead th {\n",
       "        text-align: right;\n",
       "    }\n",
       "</style>\n",
       "<table border=\"1\" class=\"dataframe\">\n",
       "  <thead>\n",
       "    <tr style=\"text-align: right;\">\n",
       "      <th></th>\n",
       "      <th>sweetness</th>\n",
       "      <th>acidity</th>\n",
       "      <th>piquancy</th>\n",
       "      <th>fattiness</th>\n",
       "      <th>bitterness</th>\n",
       "      <th>sweetness_food</th>\n",
       "      <th>acidity_food</th>\n",
       "      <th>salinity_food</th>\n",
       "      <th>piquancy_food</th>\n",
       "      <th>fattiness_food</th>\n",
       "      <th>bitterness_food</th>\n",
       "    </tr>\n",
       "  </thead>\n",
       "  <tbody>\n",
       "    <tr>\n",
       "      <th>count</th>\n",
       "      <td>9747.000000</td>\n",
       "      <td>9747.000000</td>\n",
       "      <td>9747.000000</td>\n",
       "      <td>9747.000000</td>\n",
       "      <td>9747.000000</td>\n",
       "      <td>9747.000000</td>\n",
       "      <td>9747.000000</td>\n",
       "      <td>9747.000000</td>\n",
       "      <td>9747.000000</td>\n",
       "      <td>9747.000000</td>\n",
       "      <td>9747.000000</td>\n",
       "    </tr>\n",
       "    <tr>\n",
       "      <th>mean</th>\n",
       "      <td>-0.269340</td>\n",
       "      <td>-0.572159</td>\n",
       "      <td>-1.122507</td>\n",
       "      <td>0.615890</td>\n",
       "      <td>-2.819392</td>\n",
       "      <td>0.405325</td>\n",
       "      <td>0.493997</td>\n",
       "      <td>0.647601</td>\n",
       "      <td>0.550990</td>\n",
       "      <td>0.537180</td>\n",
       "      <td>0.413934</td>\n",
       "    </tr>\n",
       "    <tr>\n",
       "      <th>std</th>\n",
       "      <td>16.314167</td>\n",
       "      <td>16.242193</td>\n",
       "      <td>15.669770</td>\n",
       "      <td>18.416241</td>\n",
       "      <td>15.680012</td>\n",
       "      <td>0.269025</td>\n",
       "      <td>0.143926</td>\n",
       "      <td>0.215015</td>\n",
       "      <td>0.155203</td>\n",
       "      <td>0.200176</td>\n",
       "      <td>0.176753</td>\n",
       "    </tr>\n",
       "    <tr>\n",
       "      <th>min</th>\n",
       "      <td>-27.316847</td>\n",
       "      <td>-3.860968</td>\n",
       "      <td>-5.679004</td>\n",
       "      <td>-4.400361</td>\n",
       "      <td>-10.984265</td>\n",
       "      <td>0.006519</td>\n",
       "      <td>0.148080</td>\n",
       "      <td>0.287492</td>\n",
       "      <td>0.320373</td>\n",
       "      <td>0.253903</td>\n",
       "      <td>0.061735</td>\n",
       "    </tr>\n",
       "    <tr>\n",
       "      <th>25%</th>\n",
       "      <td>-0.000151</td>\n",
       "      <td>-3.860945</td>\n",
       "      <td>-5.653030</td>\n",
       "      <td>-4.383264</td>\n",
       "      <td>-10.966054</td>\n",
       "      <td>0.276137</td>\n",
       "      <td>0.449720</td>\n",
       "      <td>0.431853</td>\n",
       "      <td>0.429155</td>\n",
       "      <td>0.383053</td>\n",
       "      <td>0.326453</td>\n",
       "    </tr>\n",
       "    <tr>\n",
       "      <th>50%</th>\n",
       "      <td>-0.000151</td>\n",
       "      <td>-3.860945</td>\n",
       "      <td>-5.653030</td>\n",
       "      <td>-4.383264</td>\n",
       "      <td>-10.966054</td>\n",
       "      <td>0.356151</td>\n",
       "      <td>0.489548</td>\n",
       "      <td>0.655264</td>\n",
       "      <td>0.544681</td>\n",
       "      <td>0.515151</td>\n",
       "      <td>0.440083</td>\n",
       "    </tr>\n",
       "    <tr>\n",
       "      <th>75%</th>\n",
       "      <td>-0.000151</td>\n",
       "      <td>-0.000972</td>\n",
       "      <td>-5.653030</td>\n",
       "      <td>-4.383264</td>\n",
       "      <td>-10.966054</td>\n",
       "      <td>0.447529</td>\n",
       "      <td>0.570953</td>\n",
       "      <td>0.823910</td>\n",
       "      <td>0.636063</td>\n",
       "      <td>0.663687</td>\n",
       "      <td>0.553515</td>\n",
       "    </tr>\n",
       "    <tr>\n",
       "      <th>max</th>\n",
       "      <td>44.017020</td>\n",
       "      <td>186.186600</td>\n",
       "      <td>53.092190</td>\n",
       "      <td>68.468850</td>\n",
       "      <td>27.357250</td>\n",
       "      <td>1.000000</td>\n",
       "      <td>0.759665</td>\n",
       "      <td>1.000000</td>\n",
       "      <td>1.000000</td>\n",
       "      <td>0.983158</td>\n",
       "      <td>0.733272</td>\n",
       "    </tr>\n",
       "  </tbody>\n",
       "</table>\n",
       "</div>"
      ],
      "text/plain": [
       "         sweetness      acidity     piquancy    fattiness   bitterness  \\\n",
       "count  9747.000000  9747.000000  9747.000000  9747.000000  9747.000000   \n",
       "mean     -0.269340    -0.572159    -1.122507     0.615890    -2.819392   \n",
       "std      16.314167    16.242193    15.669770    18.416241    15.680012   \n",
       "min     -27.316847    -3.860968    -5.679004    -4.400361   -10.984265   \n",
       "25%      -0.000151    -3.860945    -5.653030    -4.383264   -10.966054   \n",
       "50%      -0.000151    -3.860945    -5.653030    -4.383264   -10.966054   \n",
       "75%      -0.000151    -0.000972    -5.653030    -4.383264   -10.966054   \n",
       "max      44.017020   186.186600    53.092190    68.468850    27.357250   \n",
       "\n",
       "       sweetness_food  acidity_food  salinity_food  piquancy_food  \\\n",
       "count     9747.000000   9747.000000    9747.000000    9747.000000   \n",
       "mean         0.405325      0.493997       0.647601       0.550990   \n",
       "std          0.269025      0.143926       0.215015       0.155203   \n",
       "min          0.006519      0.148080       0.287492       0.320373   \n",
       "25%          0.276137      0.449720       0.431853       0.429155   \n",
       "50%          0.356151      0.489548       0.655264       0.544681   \n",
       "75%          0.447529      0.570953       0.823910       0.636063   \n",
       "max          1.000000      0.759665       1.000000       1.000000   \n",
       "\n",
       "       fattiness_food  bitterness_food  \n",
       "count     9747.000000      9747.000000  \n",
       "mean         0.537180         0.413934  \n",
       "std          0.200176         0.176753  \n",
       "min          0.253903         0.061735  \n",
       "25%          0.383053         0.326453  \n",
       "50%          0.515151         0.440083  \n",
       "75%          0.663687         0.553515  \n",
       "max          0.983158         0.733272  "
      ]
     },
     "execution_count": 4,
     "metadata": {},
     "output_type": "execute_result"
    }
   ],
   "source": [
    "df_taste.describe()"
   ]
  },
  {
   "cell_type": "code",
   "execution_count": 5,
   "id": "9a0ed903",
   "metadata": {},
   "outputs": [
    {
     "data": {
      "image/png": "[encoded data removed]",
      "text/plain": [
       "<Figure size 720x432 with 1 Axes>"
      ]
     },
     "metadata": {
      "needs_background": "light"
     },
     "output_type": "display_data"
    }
   ],
   "source": [
    "plt.figure(figsize=(10, 6))\n",
    "\n",
    "columns_to_plot = ['sweetness', 'acidity', 'piquancy', 'fattiness', 'bitterness']\n",
    "\n",
    "df_taste[columns_to_plot].boxplot(sym='k.')\n",
    "plt.title('Box plot for tastes features of wines') \n",
    "plt.ylabel('values of tastes features') \n",
    "plt.xticks(rotation=45)\n",
    "\n",
    "plt.show()"
   ]
  },
  {
   "cell_type": "code",
   "execution_count": 6,
   "id": "e78b42fb",
   "metadata": {},
   "outputs": [
    {
     "data": {
      "image/png": "[encoded data removed]",
      "text/plain": [
       "<Figure size 720x432 with 1 Axes>"
      ]
     },
     "metadata": {
      "needs_background": "light"
     },
     "output_type": "display_data"
    }
   ],
   "source": [
    "plt.figure(figsize=(10, 6)) \n",
    "\n",
    "columns_to_plot = ['sweetness_food', 'acidity_food', 'salinity_food', 'piquancy_food', 'fattiness_food', 'bitterness_food']\n",
    "\n",
    "df_taste[columns_to_plot].boxplot(sym='k.')\n",
    "plt.title('Box plot for tastes features of food') \n",
    "plt.ylabel('values of tastes features') \n",
    "plt.xticks(rotation=45)\n",
    "\n",
    "plt.show()"
   ]
  },
  {
   "cell_type": "markdown",
   "id": "bb9f73de",
   "metadata": {},
   "source": [
    "<br>\n",
    "Therefore, here I use DBSCAN to cluster each record in the dataset to make a new feature for wines, hopefully this would add more distinction between each record."
   ]
  },
  {
   "cell_type": "code",
   "execution_count": 7,
   "id": "0fffa0ea",
   "metadata": {},
   "outputs": [
    {
     "name": "stdout",
     "output_type": "stream",
     "text": [
      "Cluster 0: 975 data points\n",
      "Cluster 1: 4863 data points\n",
      "Cluster 2: 1355 data points\n",
      "Cluster 3: 413 data points\n",
      "Cluster 4: 487 data points\n",
      "Cluster 5: 282 data points\n",
      "Cluster -1: 503 data points\n",
      "Cluster 6: 590 data points\n",
      "Cluster 7: 179 data points\n",
      "Cluster 8: 100 data points\n"
     ]
    }
   ],
   "source": [
    "input_features = df_taste[['sweetness', 'acidity', 'piquancy', 'fattiness', 'bitterness']]\n",
    "\n",
    "scaler = StandardScaler()\n",
    "input_features_scaled = scaler.fit_transform(input_features)\n",
    "\n",
    "dbscan = DBSCAN(eps=0.5, min_samples=100)\n",
    "\n",
    "df_taste['dbscan_cluster'] = dbscan.fit_predict(input_features_scaled)\n",
    "\n",
    "cluster_labels = df_taste['dbscan_cluster'].unique()\n",
    "for label in cluster_labels:\n",
    "    cluster_data = df_taste[df_taste['dbscan_cluster'] == label]\n",
    "    print(f'Cluster {label}: {len(cluster_data)} data points')"
   ]
  },
  {
   "cell_type": "markdown",
   "id": "cc56e17c",
   "metadata": {},
   "source": [
    "<br>\n",
    "Drop all records in cluster -1, which are noises."
   ]
  },
  {
   "cell_type": "code",
   "execution_count": 8,
   "id": "f17e3fcd",
   "metadata": {},
   "outputs": [],
   "source": [
    "df_taste = df_taste[df_taste['dbscan_cluster'] != -1]"
   ]
  },
  {
   "cell_type": "markdown",
   "id": "e281c924",
   "metadata": {},
   "source": [
    "<br>\n",
    "Then, scale the wine tastes features from 0 to 1, that would be the same scale as the food tastes features."
   ]
  },
  {
   "cell_type": "code",
   "execution_count": 9,
   "id": "8a0e8915",
   "metadata": {},
   "outputs": [],
   "source": [
    "numeric_features = df_taste.columns[2:7]\n",
    "scaler = MinMaxScaler()\n",
    "df_taste[numeric_features] = scaler.fit_transform(df_taste[numeric_features])"
   ]
  },
  {
   "cell_type": "code",
   "execution_count": 10,
   "id": "1250a9f8",
   "metadata": {},
   "outputs": [
    {
     "data": {
      "text/html": [
       "<div>\n",
       "<style scoped>\n",
       "    .dataframe tbody tr th:only-of-type {\n",
       "        vertical-align: middle;\n",
       "    }\n",
       "\n",
       "    .dataframe tbody tr th {\n",
       "        vertical-align: top;\n",
       "    }\n",
       "\n",
       "    .dataframe thead th {\n",
       "        text-align: right;\n",
       "    }\n",
       "</style>\n",
       "<table border=\"1\" class=\"dataframe\">\n",
       "  <thead>\n",
       "    <tr style=\"text-align: right;\">\n",
       "      <th></th>\n",
       "      <th>sweetness</th>\n",
       "      <th>acidity</th>\n",
       "      <th>piquancy</th>\n",
       "      <th>fattiness</th>\n",
       "      <th>bitterness</th>\n",
       "      <th>sweetness_food</th>\n",
       "      <th>acidity_food</th>\n",
       "      <th>salinity_food</th>\n",
       "      <th>piquancy_food</th>\n",
       "      <th>fattiness_food</th>\n",
       "      <th>bitterness_food</th>\n",
       "      <th>dbscan_cluster</th>\n",
       "    </tr>\n",
       "  </thead>\n",
       "  <tbody>\n",
       "    <tr>\n",
       "      <th>count</th>\n",
       "      <td>9244.000000</td>\n",
       "      <td>9244.000000</td>\n",
       "      <td>9244.000000</td>\n",
       "      <td>9244.000000</td>\n",
       "      <td>9244.000000</td>\n",
       "      <td>9244.000000</td>\n",
       "      <td>9244.000000</td>\n",
       "      <td>9244.000000</td>\n",
       "      <td>9244.000000</td>\n",
       "      <td>9244.000000</td>\n",
       "      <td>9244.000000</td>\n",
       "      <td>9244.000000</td>\n",
       "    </tr>\n",
       "    <tr>\n",
       "      <th>mean</th>\n",
       "      <td>0.376598</td>\n",
       "      <td>0.463083</td>\n",
       "      <td>0.064430</td>\n",
       "      <td>0.052893</td>\n",
       "      <td>0.207645</td>\n",
       "      <td>0.406760</td>\n",
       "      <td>0.493628</td>\n",
       "      <td>0.647248</td>\n",
       "      <td>0.550070</td>\n",
       "      <td>0.538116</td>\n",
       "      <td>0.414166</td>\n",
       "      <td>1.921571</td>\n",
       "    </tr>\n",
       "    <tr>\n",
       "      <th>std</th>\n",
       "      <td>0.219917</td>\n",
       "      <td>0.497977</td>\n",
       "      <td>0.244636</td>\n",
       "      <td>0.223308</td>\n",
       "      <td>0.405178</td>\n",
       "      <td>0.271228</td>\n",
       "      <td>0.143978</td>\n",
       "      <td>0.215343</td>\n",
       "      <td>0.153894</td>\n",
       "      <td>0.199799</td>\n",
       "      <td>0.177211</td>\n",
       "      <td>1.834908</td>\n",
       "    </tr>\n",
       "    <tr>\n",
       "      <th>min</th>\n",
       "      <td>0.000000</td>\n",
       "      <td>0.000000</td>\n",
       "      <td>0.000000</td>\n",
       "      <td>0.000000</td>\n",
       "      <td>0.000000</td>\n",
       "      <td>0.006519</td>\n",
       "      <td>0.148080</td>\n",
       "      <td>0.287492</td>\n",
       "      <td>0.320373</td>\n",
       "      <td>0.253903</td>\n",
       "      <td>0.061735</td>\n",
       "      <td>0.000000</td>\n",
       "    </tr>\n",
       "    <tr>\n",
       "      <th>25%</th>\n",
       "      <td>0.382941</td>\n",
       "      <td>0.000006</td>\n",
       "      <td>0.000442</td>\n",
       "      <td>0.000235</td>\n",
       "      <td>0.000475</td>\n",
       "      <td>0.276137</td>\n",
       "      <td>0.449720</td>\n",
       "      <td>0.431853</td>\n",
       "      <td>0.429155</td>\n",
       "      <td>0.383053</td>\n",
       "      <td>0.326453</td>\n",
       "      <td>1.000000</td>\n",
       "    </tr>\n",
       "    <tr>\n",
       "      <th>50%</th>\n",
       "      <td>0.382941</td>\n",
       "      <td>0.000006</td>\n",
       "      <td>0.000442</td>\n",
       "      <td>0.000235</td>\n",
       "      <td>0.000475</td>\n",
       "      <td>0.356151</td>\n",
       "      <td>0.489548</td>\n",
       "      <td>0.655264</td>\n",
       "      <td>0.544681</td>\n",
       "      <td>0.515151</td>\n",
       "      <td>0.440083</td>\n",
       "      <td>1.000000</td>\n",
       "    </tr>\n",
       "    <tr>\n",
       "      <th>75%</th>\n",
       "      <td>0.382941</td>\n",
       "      <td>0.998532</td>\n",
       "      <td>0.000442</td>\n",
       "      <td>0.000235</td>\n",
       "      <td>0.000475</td>\n",
       "      <td>0.447529</td>\n",
       "      <td>0.570953</td>\n",
       "      <td>0.823910</td>\n",
       "      <td>0.636063</td>\n",
       "      <td>0.663687</td>\n",
       "      <td>0.553515</td>\n",
       "      <td>2.000000</td>\n",
       "    </tr>\n",
       "    <tr>\n",
       "      <th>max</th>\n",
       "      <td>1.000000</td>\n",
       "      <td>1.000000</td>\n",
       "      <td>1.000000</td>\n",
       "      <td>1.000000</td>\n",
       "      <td>1.000000</td>\n",
       "      <td>1.000000</td>\n",
       "      <td>0.759665</td>\n",
       "      <td>1.000000</td>\n",
       "      <td>1.000000</td>\n",
       "      <td>0.983158</td>\n",
       "      <td>0.733272</td>\n",
       "      <td>8.000000</td>\n",
       "    </tr>\n",
       "  </tbody>\n",
       "</table>\n",
       "</div>"
      ],
      "text/plain": [
       "         sweetness      acidity     piquancy    fattiness   bitterness  \\\n",
       "count  9244.000000  9244.000000  9244.000000  9244.000000  9244.000000   \n",
       "mean      0.376598     0.463083     0.064430     0.052893     0.207645   \n",
       "std       0.219917     0.497977     0.244636     0.223308     0.405178   \n",
       "min       0.000000     0.000000     0.000000     0.000000     0.000000   \n",
       "25%       0.382941     0.000006     0.000442     0.000235     0.000475   \n",
       "50%       0.382941     0.000006     0.000442     0.000235     0.000475   \n",
       "75%       0.382941     0.998532     0.000442     0.000235     0.000475   \n",
       "max       1.000000     1.000000     1.000000     1.000000     1.000000   \n",
       "\n",
       "       sweetness_food  acidity_food  salinity_food  piquancy_food  \\\n",
       "count     9244.000000   9244.000000    9244.000000    9244.000000   \n",
       "mean         0.406760      0.493628       0.647248       0.550070   \n",
       "std          0.271228      0.143978       0.215343       0.153894   \n",
       "min          0.006519      0.148080       0.287492       0.320373   \n",
       "25%          0.276137      0.449720       0.431853       0.429155   \n",
       "50%          0.356151      0.489548       0.655264       0.544681   \n",
       "75%          0.447529      0.570953       0.823910       0.636063   \n",
       "max          1.000000      0.759665       1.000000       1.000000   \n",
       "\n",
       "       fattiness_food  bitterness_food  dbscan_cluster  \n",
       "count     9244.000000      9244.000000     9244.000000  \n",
       "mean         0.538116         0.414166        1.921571  \n",
       "std          0.199799         0.177211        1.834908  \n",
       "min          0.253903         0.061735        0.000000  \n",
       "25%          0.383053         0.326453        1.000000  \n",
       "50%          0.515151         0.440083        1.000000  \n",
       "75%          0.663687         0.553515        2.000000  \n",
       "max          0.983158         0.733272        8.000000  "
      ]
     },
     "execution_count": 10,
     "metadata": {},
     "output_type": "execute_result"
    }
   ],
   "source": [
    "df_taste.describe()"
   ]
  },
  {
   "cell_type": "markdown",
   "id": "a21d1223",
   "metadata": {},
   "source": [
    "<br>\n",
    "Apply the pairing ruls from wine experts, this may adjust the dataset more patterned."
   ]
  },
  {
   "cell_type": "code",
   "execution_count": 11,
   "id": "143746c8",
   "metadata": {},
   "outputs": [
    {
     "data": {
      "text/plain": [
       "(3083, 14)"
      ]
     },
     "execution_count": 11,
     "metadata": {},
     "output_type": "execute_result"
    }
   ],
   "source": [
    "df_taste = df_taste.loc[df_taste['sweetness'] >= df_taste['sweetness_food']]\n",
    "#df_taste = df_taste.loc[df_taste['acidity'] >= df_taste['acidity_food']]\n",
    "df_taste = df_taste.loc[(df_taste['bitterness'] >= 2 * df_taste['bitterness_food']) | (2 * df_taste['bitterness'] <= df_taste['bitterness_food'])]\n",
    "df_taste = df_taste.loc[(df_taste['acidity'] >= 2 * df_taste['bitterness_food']) | (2 * df_taste['acidity'] <= df_taste['bitterness_food'])]\n",
    "df_taste = df_taste.loc[(df_taste['bitterness'] >= 2 * df_taste['acidity_food']) | (2 * df_taste['bitterness'] <= df_taste['acidity_food'])]\n",
    "df_taste = df_taste.loc[(df_taste['acidity'] >= 2 * df_taste['piquancy_food']) | (2 * df_taste['acidity'] <= df_taste['piquancy_food'])]\n",
    "df_taste = df_taste.loc[(df_taste['piquancy'] >= 2 * df_taste['acidity_food']) | (2 * df_taste['piquancy'] <= df_taste['acidity_food'])]\n",
    "df_taste = df_taste.loc[(df_taste['bitterness'] >= 2 * df_taste['salinity_food']) | (2 * df_taste['bitterness'] <= df_taste['salinity_food'])]\n",
    "df_taste.shape"
   ]
  },
  {
   "cell_type": "markdown",
   "id": "9f50002c",
   "metadata": {},
   "source": [
    "<br>\n",
    "Then drop all kinds of food that exist less than 100 times, since their data would be too little."
   ]
  },
  {
   "cell_type": "code",
   "execution_count": 12,
   "id": "85177194",
   "metadata": {},
   "outputs": [
    {
     "data": {
      "text/plain": [
       "lamb                            401\n",
       "duck, goose and game birds      378\n",
       "chicken and turkey              349\n",
       "beef and venison                269\n",
       "blue cheeses                    247\n",
       "manchego and parmesan           211\n",
       "mushrooms                       190\n",
       "shellfish, crab and lobster     179\n",
       "cheddar and gruyere             156\n",
       "chilis and hot spicy foods      152\n",
       "goats' cheese and feta          137\n",
       "pork, ham and cold meats        132\n",
       "meaty and oily fish             112\n",
       "chocolate and caramel            50\n",
       "fruit-based desserts             25\n",
       "white fish                       23\n",
       "cakes and cream                  17\n",
       "salads and green vegetables      17\n",
       "tomato-based dishes              17\n",
       "root vegetables and squashes     13\n",
       "brie and camembert                8\n",
       "Name: Pairing Food, dtype: int64"
      ]
     },
     "execution_count": 12,
     "metadata": {},
     "output_type": "execute_result"
    }
   ],
   "source": [
    "df_taste['Pairing Food'].value_counts()"
   ]
  },
  {
   "cell_type": "code",
   "execution_count": 13,
   "id": "1e0cfc25",
   "metadata": {},
   "outputs": [],
   "source": [
    "df_taste = df_taste[df_taste['Pairing Food'] != 'white fish']\n",
    "df_taste = df_taste[df_taste['Pairing Food'] != 'salads and green vegetables']\n",
    "df_taste = df_taste[df_taste['Pairing Food'] != 'tomato-based dishes']\n",
    "df_taste = df_taste[df_taste['Pairing Food'] != 'root vegetables and squashes']\n",
    "df_taste = df_taste[df_taste['Pairing Food'] != 'cakes and cream']\n",
    "df_taste = df_taste[df_taste['Pairing Food'] != 'fruit-based desserts']\n",
    "df_taste = df_taste[df_taste['Pairing Food'] != 'brie and camembert']\n",
    "df_taste = df_taste[df_taste['Pairing Food'] != 'chocolate and caramel']"
   ]
  },
  {
   "cell_type": "markdown",
   "id": "b7baa0e7",
   "metadata": {},
   "source": [
    "<br>\n",
    "Only 13 kinds of food left now."
   ]
  },
  {
   "cell_type": "code",
   "execution_count": 14,
   "id": "994e9490",
   "metadata": {},
   "outputs": [
    {
     "data": {
      "text/plain": [
       "13"
      ]
     },
     "execution_count": 14,
     "metadata": {},
     "output_type": "execute_result"
    }
   ],
   "source": [
    "df_taste['Pairing Food'].nunique()"
   ]
  },
  {
   "cell_type": "markdown",
   "id": "3b1e2d6c",
   "metadata": {},
   "source": [
    "<br>\n",
    "Now it's time to create two dataframes, one is for classification and the other one is for regression."
   ]
  },
  {
   "cell_type": "code",
   "execution_count": 15,
   "id": "8def8d37",
   "metadata": {},
   "outputs": [],
   "source": [
    "columns_classification = ['Pairing Food', 'name_pair', 'sweetness', 'acidity', 'piquancy', 'fattiness', 'bitterness', 'dbscan_cluster']\n",
    "columns_regression = ['Pairing Food', 'name_pair', 'sweetness', 'acidity', 'piquancy', 'fattiness', 'bitterness', 'sweetness_food', 'acidity_food', 'salinity_food', 'piquancy_food', 'fattiness_food', 'bitterness_food']\n",
    "df_classification = df_taste.loc[:, columns_classification]\n",
    "df_regression = df_taste.loc[:, columns_regression]"
   ]
  },
  {
   "cell_type": "markdown",
   "id": "6af367df",
   "metadata": {},
   "source": [
    "# Classification\n",
    "Let's classify first."
   ]
  },
  {
   "cell_type": "code",
   "execution_count": 16,
   "id": "86bc110d",
   "metadata": {},
   "outputs": [
    {
     "data": {
      "text/html": [
       "<div>\n",
       "<style scoped>\n",
       "    .dataframe tbody tr th:only-of-type {\n",
       "        vertical-align: middle;\n",
       "    }\n",
       "\n",
       "    .dataframe tbody tr th {\n",
       "        vertical-align: top;\n",
       "    }\n",
       "\n",
       "    .dataframe thead th {\n",
       "        text-align: right;\n",
       "    }\n",
       "</style>\n",
       "<table border=\"1\" class=\"dataframe\">\n",
       "  <thead>\n",
       "    <tr style=\"text-align: right;\">\n",
       "      <th></th>\n",
       "      <th>Pairing Food</th>\n",
       "      <th>name_pair</th>\n",
       "      <th>sweetness</th>\n",
       "      <th>acidity</th>\n",
       "      <th>piquancy</th>\n",
       "      <th>fattiness</th>\n",
       "      <th>bitterness</th>\n",
       "      <th>dbscan_cluster</th>\n",
       "    </tr>\n",
       "  </thead>\n",
       "  <tbody>\n",
       "    <tr>\n",
       "      <th>1</th>\n",
       "      <td>beef and venison</td>\n",
       "      <td>Bordeaux Blend Red Chateau Lafite Rothschild P...</td>\n",
       "      <td>0.382941</td>\n",
       "      <td>0.998532</td>\n",
       "      <td>0.000442</td>\n",
       "      <td>0.000235</td>\n",
       "      <td>0.000475</td>\n",
       "      <td>1</td>\n",
       "    </tr>\n",
       "    <tr>\n",
       "      <th>3</th>\n",
       "      <td>beef and venison</td>\n",
       "      <td>Cabernet Franc - Cabernet Sauvignon Tenuta San...</td>\n",
       "      <td>0.382941</td>\n",
       "      <td>0.000006</td>\n",
       "      <td>0.999605</td>\n",
       "      <td>0.000235</td>\n",
       "      <td>0.000475</td>\n",
       "      <td>3</td>\n",
       "    </tr>\n",
       "    <tr>\n",
       "      <th>4</th>\n",
       "      <td>beef and venison</td>\n",
       "      <td>Bordeaux Blend Red Chateau Margaux Margaux France</td>\n",
       "      <td>0.382941</td>\n",
       "      <td>0.000006</td>\n",
       "      <td>0.000442</td>\n",
       "      <td>0.000235</td>\n",
       "      <td>0.000475</td>\n",
       "      <td>1</td>\n",
       "    </tr>\n",
       "    <tr>\n",
       "      <th>5</th>\n",
       "      <td>beef and venison</td>\n",
       "      <td>Bordeaux Blend Red Opus One Napa Valley USA</td>\n",
       "      <td>0.382941</td>\n",
       "      <td>0.998532</td>\n",
       "      <td>0.000442</td>\n",
       "      <td>0.000235</td>\n",
       "      <td>0.000475</td>\n",
       "      <td>1</td>\n",
       "    </tr>\n",
       "    <tr>\n",
       "      <th>6</th>\n",
       "      <td>beef and venison</td>\n",
       "      <td>Cabernet Sauvignon - Merlot Chateau Latour Pau...</td>\n",
       "      <td>0.382941</td>\n",
       "      <td>0.000006</td>\n",
       "      <td>0.000442</td>\n",
       "      <td>0.000235</td>\n",
       "      <td>0.000475</td>\n",
       "      <td>1</td>\n",
       "    </tr>\n",
       "  </tbody>\n",
       "</table>\n",
       "</div>"
      ],
      "text/plain": [
       "       Pairing Food                                          name_pair  \\\n",
       "1  beef and venison  Bordeaux Blend Red Chateau Lafite Rothschild P...   \n",
       "3  beef and venison  Cabernet Franc - Cabernet Sauvignon Tenuta San...   \n",
       "4  beef and venison  Bordeaux Blend Red Chateau Margaux Margaux France   \n",
       "5  beef and venison        Bordeaux Blend Red Opus One Napa Valley USA   \n",
       "6  beef and venison  Cabernet Sauvignon - Merlot Chateau Latour Pau...   \n",
       "\n",
       "   sweetness   acidity  piquancy  fattiness  bitterness  dbscan_cluster  \n",
       "1   0.382941  0.998532  0.000442   0.000235    0.000475               1  \n",
       "3   0.382941  0.000006  0.999605   0.000235    0.000475               3  \n",
       "4   0.382941  0.000006  0.000442   0.000235    0.000475               1  \n",
       "5   0.382941  0.998532  0.000442   0.000235    0.000475               1  \n",
       "6   0.382941  0.000006  0.000442   0.000235    0.000475               1  "
      ]
     },
     "execution_count": 16,
     "metadata": {},
     "output_type": "execute_result"
    }
   ],
   "source": [
    "df_classification.head()"
   ]
  },
  {
   "cell_type": "code",
   "execution_count": 17,
   "id": "e8f6f4e8",
   "metadata": {},
   "outputs": [
    {
     "data": {
      "text/html": [
       "<div>\n",
       "<style scoped>\n",
       "    .dataframe tbody tr th:only-of-type {\n",
       "        vertical-align: middle;\n",
       "    }\n",
       "\n",
       "    .dataframe tbody tr th {\n",
       "        vertical-align: top;\n",
       "    }\n",
       "\n",
       "    .dataframe thead th {\n",
       "        text-align: right;\n",
       "    }\n",
       "</style>\n",
       "<table border=\"1\" class=\"dataframe\">\n",
       "  <thead>\n",
       "    <tr style=\"text-align: right;\">\n",
       "      <th></th>\n",
       "      <th>sweetness</th>\n",
       "      <th>acidity</th>\n",
       "      <th>piquancy</th>\n",
       "      <th>fattiness</th>\n",
       "      <th>bitterness</th>\n",
       "      <th>dbscan_cluster</th>\n",
       "    </tr>\n",
       "  </thead>\n",
       "  <tbody>\n",
       "    <tr>\n",
       "      <th>count</th>\n",
       "      <td>2913.000000</td>\n",
       "      <td>2913.000000</td>\n",
       "      <td>2913.000000</td>\n",
       "      <td>2913.000000</td>\n",
       "      <td>2913.000000</td>\n",
       "      <td>2913.000000</td>\n",
       "    </tr>\n",
       "    <tr>\n",
       "      <th>mean</th>\n",
       "      <td>0.427517</td>\n",
       "      <td>0.260178</td>\n",
       "      <td>0.056351</td>\n",
       "      <td>0.061998</td>\n",
       "      <td>0.082825</td>\n",
       "      <td>1.786131</td>\n",
       "    </tr>\n",
       "    <tr>\n",
       "      <th>std</th>\n",
       "      <td>0.160045</td>\n",
       "      <td>0.438367</td>\n",
       "      <td>0.229684</td>\n",
       "      <td>0.240706</td>\n",
       "      <td>0.274872</td>\n",
       "      <td>1.589561</td>\n",
       "    </tr>\n",
       "    <tr>\n",
       "      <th>min</th>\n",
       "      <td>0.256977</td>\n",
       "      <td>0.000000</td>\n",
       "      <td>0.000000</td>\n",
       "      <td>0.000000</td>\n",
       "      <td>0.000000</td>\n",
       "      <td>1.000000</td>\n",
       "    </tr>\n",
       "    <tr>\n",
       "      <th>25%</th>\n",
       "      <td>0.382941</td>\n",
       "      <td>0.000006</td>\n",
       "      <td>0.000442</td>\n",
       "      <td>0.000235</td>\n",
       "      <td>0.000475</td>\n",
       "      <td>1.000000</td>\n",
       "    </tr>\n",
       "    <tr>\n",
       "      <th>50%</th>\n",
       "      <td>0.382941</td>\n",
       "      <td>0.000006</td>\n",
       "      <td>0.000442</td>\n",
       "      <td>0.000235</td>\n",
       "      <td>0.000475</td>\n",
       "      <td>1.000000</td>\n",
       "    </tr>\n",
       "    <tr>\n",
       "      <th>75%</th>\n",
       "      <td>0.382941</td>\n",
       "      <td>0.998532</td>\n",
       "      <td>0.000442</td>\n",
       "      <td>0.000235</td>\n",
       "      <td>0.000475</td>\n",
       "      <td>2.000000</td>\n",
       "    </tr>\n",
       "    <tr>\n",
       "      <th>max</th>\n",
       "      <td>1.000000</td>\n",
       "      <td>1.000000</td>\n",
       "      <td>0.999605</td>\n",
       "      <td>0.999767</td>\n",
       "      <td>1.000000</td>\n",
       "      <td>8.000000</td>\n",
       "    </tr>\n",
       "  </tbody>\n",
       "</table>\n",
       "</div>"
      ],
      "text/plain": [
       "         sweetness      acidity     piquancy    fattiness   bitterness  \\\n",
       "count  2913.000000  2913.000000  2913.000000  2913.000000  2913.000000   \n",
       "mean      0.427517     0.260178     0.056351     0.061998     0.082825   \n",
       "std       0.160045     0.438367     0.229684     0.240706     0.274872   \n",
       "min       0.256977     0.000000     0.000000     0.000000     0.000000   \n",
       "25%       0.382941     0.000006     0.000442     0.000235     0.000475   \n",
       "50%       0.382941     0.000006     0.000442     0.000235     0.000475   \n",
       "75%       0.382941     0.998532     0.000442     0.000235     0.000475   \n",
       "max       1.000000     1.000000     0.999605     0.999767     1.000000   \n",
       "\n",
       "       dbscan_cluster  \n",
       "count     2913.000000  \n",
       "mean         1.786131  \n",
       "std          1.589561  \n",
       "min          1.000000  \n",
       "25%          1.000000  \n",
       "50%          1.000000  \n",
       "75%          2.000000  \n",
       "max          8.000000  "
      ]
     },
     "execution_count": 17,
     "metadata": {},
     "output_type": "execute_result"
    }
   ],
   "source": [
    "df_classification.describe()"
   ]
  },
  {
   "cell_type": "markdown",
   "id": "647f431c",
   "metadata": {},
   "source": [
    "<br>\n",
    "Simply encode 'Pairing Food' with LabelEncoder()."
   ]
  },
  {
   "cell_type": "code",
   "execution_count": 18,
   "id": "42b17b7c",
   "metadata": {},
   "outputs": [],
   "source": [
    "# df_classification = pd.get_dummies(df_classification, columns=['Pairing Food'])\n",
    "label_encoder = LabelEncoder()\n",
    "label_encoder.fit(df_classification['Pairing Food'])\n",
    "df_classification['Pairing Food Encoded'] = label_encoder.transform(df_classification['Pairing Food'])"
   ]
  },
  {
   "cell_type": "code",
   "execution_count": 19,
   "id": "1b844621",
   "metadata": {},
   "outputs": [
    {
     "data": {
      "text/html": [
       "<div>\n",
       "<style scoped>\n",
       "    .dataframe tbody tr th:only-of-type {\n",
       "        vertical-align: middle;\n",
       "    }\n",
       "\n",
       "    .dataframe tbody tr th {\n",
       "        vertical-align: top;\n",
       "    }\n",
       "\n",
       "    .dataframe thead th {\n",
       "        text-align: right;\n",
       "    }\n",
       "</style>\n",
       "<table border=\"1\" class=\"dataframe\">\n",
       "  <thead>\n",
       "    <tr style=\"text-align: right;\">\n",
       "      <th></th>\n",
       "      <th>Pairing Food</th>\n",
       "      <th>name_pair</th>\n",
       "      <th>sweetness</th>\n",
       "      <th>acidity</th>\n",
       "      <th>piquancy</th>\n",
       "      <th>fattiness</th>\n",
       "      <th>bitterness</th>\n",
       "      <th>dbscan_cluster</th>\n",
       "      <th>Pairing Food Encoded</th>\n",
       "    </tr>\n",
       "  </thead>\n",
       "  <tbody>\n",
       "    <tr>\n",
       "      <th>1</th>\n",
       "      <td>beef and venison</td>\n",
       "      <td>Bordeaux Blend Red Chateau Lafite Rothschild P...</td>\n",
       "      <td>0.382941</td>\n",
       "      <td>0.998532</td>\n",
       "      <td>0.000442</td>\n",
       "      <td>0.000235</td>\n",
       "      <td>0.000475</td>\n",
       "      <td>1</td>\n",
       "      <td>0</td>\n",
       "    </tr>\n",
       "    <tr>\n",
       "      <th>3</th>\n",
       "      <td>beef and venison</td>\n",
       "      <td>Cabernet Franc - Cabernet Sauvignon Tenuta San...</td>\n",
       "      <td>0.382941</td>\n",
       "      <td>0.000006</td>\n",
       "      <td>0.999605</td>\n",
       "      <td>0.000235</td>\n",
       "      <td>0.000475</td>\n",
       "      <td>3</td>\n",
       "      <td>0</td>\n",
       "    </tr>\n",
       "    <tr>\n",
       "      <th>4</th>\n",
       "      <td>beef and venison</td>\n",
       "      <td>Bordeaux Blend Red Chateau Margaux Margaux France</td>\n",
       "      <td>0.382941</td>\n",
       "      <td>0.000006</td>\n",
       "      <td>0.000442</td>\n",
       "      <td>0.000235</td>\n",
       "      <td>0.000475</td>\n",
       "      <td>1</td>\n",
       "      <td>0</td>\n",
       "    </tr>\n",
       "    <tr>\n",
       "      <th>5</th>\n",
       "      <td>beef and venison</td>\n",
       "      <td>Bordeaux Blend Red Opus One Napa Valley USA</td>\n",
       "      <td>0.382941</td>\n",
       "      <td>0.998532</td>\n",
       "      <td>0.000442</td>\n",
       "      <td>0.000235</td>\n",
       "      <td>0.000475</td>\n",
       "      <td>1</td>\n",
       "      <td>0</td>\n",
       "    </tr>\n",
       "    <tr>\n",
       "      <th>6</th>\n",
       "      <td>beef and venison</td>\n",
       "      <td>Cabernet Sauvignon - Merlot Chateau Latour Pau...</td>\n",
       "      <td>0.382941</td>\n",
       "      <td>0.000006</td>\n",
       "      <td>0.000442</td>\n",
       "      <td>0.000235</td>\n",
       "      <td>0.000475</td>\n",
       "      <td>1</td>\n",
       "      <td>0</td>\n",
       "    </tr>\n",
       "  </tbody>\n",
       "</table>\n",
       "</div>"
      ],
      "text/plain": [
       "       Pairing Food                                          name_pair  \\\n",
       "1  beef and venison  Bordeaux Blend Red Chateau Lafite Rothschild P...   \n",
       "3  beef and venison  Cabernet Franc - Cabernet Sauvignon Tenuta San...   \n",
       "4  beef and venison  Bordeaux Blend Red Chateau Margaux Margaux France   \n",
       "5  beef and venison        Bordeaux Blend Red Opus One Napa Valley USA   \n",
       "6  beef and venison  Cabernet Sauvignon - Merlot Chateau Latour Pau...   \n",
       "\n",
       "   sweetness   acidity  piquancy  fattiness  bitterness  dbscan_cluster  \\\n",
       "1   0.382941  0.998532  0.000442   0.000235    0.000475               1   \n",
       "3   0.382941  0.000006  0.999605   0.000235    0.000475               3   \n",
       "4   0.382941  0.000006  0.000442   0.000235    0.000475               1   \n",
       "5   0.382941  0.998532  0.000442   0.000235    0.000475               1   \n",
       "6   0.382941  0.000006  0.000442   0.000235    0.000475               1   \n",
       "\n",
       "   Pairing Food Encoded  \n",
       "1                     0  \n",
       "3                     0  \n",
       "4                     0  \n",
       "5                     0  \n",
       "6                     0  "
      ]
     },
     "execution_count": 19,
     "metadata": {},
     "output_type": "execute_result"
    }
   ],
   "source": [
    "df_classification.head()"
   ]
  },
  {
   "cell_type": "markdown",
   "id": "93f4911c",
   "metadata": {},
   "source": [
    "<br>\n",
    "Split training / test sets."
   ]
  },
  {
   "cell_type": "code",
   "execution_count": 20,
   "id": "ad02d55d",
   "metadata": {},
   "outputs": [],
   "source": [
    "X = df_classification[['sweetness', 'acidity', 'piquancy', 'fattiness', 'bitterness', 'dbscan_cluster']]\n",
    "y = df_classification[['Pairing Food Encoded']]\n",
    "\n",
    "X_train, X_test, y_train, y_test = train_test_split(X, y, test_size=0.2, random_state=42)"
   ]
  },
  {
   "cell_type": "markdown",
   "id": "6141bdf6",
   "metadata": {},
   "source": [
    "<br>\n",
    "I met some problem with my jupyter notebook environment, thus saving these files and train models in another environment using IDE."
   ]
  },
  {
   "cell_type": "code",
   "execution_count": 21,
   "id": "76f70c53",
   "metadata": {},
   "outputs": [],
   "source": [
    "X_train.to_csv('X_train.csv', index=False)\n",
    "\n",
    "X_test.to_csv('X_test.csv', index=False)\n",
    "\n",
    "y_train.to_csv('y_train.csv', index=False)  \n",
    "\n",
    "y_test.to_csv('y_test.csv', index=False)  "
   ]
  },
  {
   "cell_type": "markdown",
   "id": "768de131",
   "metadata": {},
   "source": [
    "<br>\n",
    "I use ensemble learning here with combination of Random Forest, Gradient Boosting, and AdaBoost."
   ]
  },
  {
   "cell_type": "code",
   "execution_count": 22,
   "id": "7abad0c0",
   "metadata": {},
   "outputs": [
    {
     "name": "stdout",
     "output_type": "stream",
     "text": [
      "0.2538593481989708\n",
      "              precision    recall  f1-score   support\n",
      "\n",
      "           0       0.29      0.69      0.41        55\n",
      "           1       0.45      0.38      0.41        60\n",
      "           2       0.00      0.00      0.00        31\n",
      "           3       0.64      0.14      0.23        63\n",
      "           4       0.26      0.35      0.30        26\n",
      "           5       0.46      0.07      0.13        81\n",
      "           6       0.00      0.00      0.00        18\n",
      "           7       0.58      0.23      0.32        80\n",
      "           8       0.14      0.80      0.24        51\n",
      "           9       0.00      0.00      0.00        30\n",
      "          10       0.17      0.14      0.16        28\n",
      "          11       0.00      0.00      0.00        25\n",
      "          12       0.00      0.00      0.00        35\n",
      "\n",
      "    accuracy                           0.25       583\n",
      "   macro avg       0.23      0.22      0.17       583\n",
      "weighted avg       0.32      0.25      0.21       583\n",
      "\n"
     ]
    },
    {
     "name": "stderr",
     "output_type": "stream",
     "text": [
      "C:\\Users\\Karl Zhang\\anaconda3\\lib\\site-packages\\sklearn\\metrics\\_classification.py:1248: UndefinedMetricWarning: Precision and F-score are ill-defined and being set to 0.0 in labels with no predicted samples. Use `zero_division` parameter to control this behavior.\n",
      "  _warn_prf(average, modifier, msg_start, len(result))\n",
      "C:\\Users\\Karl Zhang\\anaconda3\\lib\\site-packages\\sklearn\\metrics\\_classification.py:1248: UndefinedMetricWarning: Precision and F-score are ill-defined and being set to 0.0 in labels with no predicted samples. Use `zero_division` parameter to control this behavior.\n",
      "  _warn_prf(average, modifier, msg_start, len(result))\n",
      "C:\\Users\\Karl Zhang\\anaconda3\\lib\\site-packages\\sklearn\\metrics\\_classification.py:1248: UndefinedMetricWarning: Precision and F-score are ill-defined and being set to 0.0 in labels with no predicted samples. Use `zero_division` parameter to control this behavior.\n",
      "  _warn_prf(average, modifier, msg_start, len(result))\n"
     ]
    }
   ],
   "source": [
    "rf_classifier = RandomForestClassifier(n_estimators=1000, random_state=42)\n",
    "\n",
    "gb_classifier = GradientBoostingClassifier(n_estimators=1000, learning_rate=1, max_depth=10, random_state=42)\n",
    "\n",
    "adaboost_classifier = AdaBoostClassifier(n_estimators=100, learning_rate=1, random_state=42)\n",
    "\n",
    "# create ensemble learning model with voting\n",
    "voting_classifier = VotingClassifier(estimators=[\n",
    "    ('Random Forest', rf_classifier),\n",
    "    ('Gradient Boosting', gb_classifier),\n",
    "    ('AdaBoost', adaboost_classifier)\n",
    "], voting='soft')\n",
    "\n",
    "voting_classifier.fit(X_train, y_train.values.ravel())\n",
    "\n",
    "y_pred = voting_classifier.predict(X_test)\n",
    "\n",
    "accuracy = accuracy_score(y_test, y_pred)\n",
    "print(accuracy)\n",
    "\n",
    "report = classification_report(y_test, y_pred)\n",
    "print(report)"
   ]
  },
  {
   "cell_type": "markdown",
   "id": "fde0b61a",
   "metadata": {},
   "source": [
    "<br>\n",
    "ROC and AUC for each category."
   ]
  },
  {
   "cell_type": "code",
   "execution_count": 23,
   "id": "af955e69",
   "metadata": {},
   "outputs": [
    {
     "data": {
      "image/png": "[encoded data removed]",
      "text/plain": [
       "<Figure size 576x432 with 1 Axes>"
      ]
     },
     "metadata": {
      "needs_background": "light"
     },
     "output_type": "display_data"
    }
   ],
   "source": [
    "y_test = label_binarize(y_test, classes=range(13))\n",
    "y_pred = label_binarize(y_pred, classes=range(13))\n",
    "\n",
    "fpr = dict()\n",
    "tpr = dict()\n",
    "roc_auc = dict()\n",
    "\n",
    "for i in range(13):\n",
    "    fpr[i], tpr[i], _ = roc_curve(y_test[:, i], y_pred[:, i])\n",
    "    roc_auc[i] = auc(fpr[i], tpr[i])\n",
    "\n",
    "fpr[\"micro\"], tpr[\"micro\"], _ = roc_curve(y_test.ravel(), y_pred.ravel())\n",
    "roc_auc[\"micro\"] = auc(fpr[\"micro\"], tpr[\"micro\"])\n",
    "\n",
    "all_fpr = np.unique(np.concatenate([fpr[i] for i in range(13)]))\n",
    "mean_tpr = np.zeros_like(all_fpr)\n",
    "for i in range(13):\n",
    "    mean_tpr += np.interp(all_fpr, fpr[i], tpr[i])\n",
    "mean_tpr /= 13\n",
    "fpr[\"macro\"] = all_fpr\n",
    "tpr[\"macro\"] = mean_tpr\n",
    "roc_auc[\"macro\"] = auc(fpr[\"macro\"], tpr[\"macro\"])\n",
    "\n",
    "plt.figure(figsize=(8, 6))\n",
    "for i in range(13):\n",
    "    plt.plot(fpr[i], tpr[i], lw=2, label=f'Class {i} (AUC = {roc_auc[i]:.2f})')\n",
    "\n",
    "plt.plot(fpr[\"micro\"], tpr[\"micro\"],\n",
    "         label=f'Micro-Average (AUC = {roc_auc[\"micro\"]:.2f})', color='deeppink', linestyle='--', lw=2)\n",
    "\n",
    "plt.plot(fpr[\"macro\"], tpr[\"macro\"],\n",
    "         label=f'Macro-Average (AUC = {roc_auc[\"macro\"]:.2f})', color='navy', linestyle='--', lw=2)\n",
    "\n",
    "plt.plot([0, 1], [0, 1], 'k--', lw=2)\n",
    "plt.xlim([0.0, 1.0])\n",
    "plt.ylim([0.0, 1.05])\n",
    "plt.xlabel('False Positive Rate')\n",
    "plt.ylabel('True Positive Rate')\n",
    "plt.title('Receiver Operating Characteristic (ROC) Curve')\n",
    "plt.legend(loc='lower right')\n",
    "plt.show()"
   ]
  },
  {
   "cell_type": "markdown",
   "id": "a28037a8",
   "metadata": {},
   "source": [
    "<br>\n",
    "Learning curve of the classifier:"
   ]
  },
  {
   "cell_type": "code",
   "execution_count": 24,
   "id": "6f604b71",
   "metadata": {},
   "outputs": [
    {
     "data": {
      "image/png": "[encoded data removed]",
      "text/plain": [
       "<Figure size 432x288 with 1 Axes>"
      ]
     },
     "metadata": {
      "needs_background": "light"
     },
     "output_type": "display_data"
    }
   ],
   "source": [
    "def plot_learning_curve(estimator, title, X, y, ylim=None, cv=None, n_jobs=None, train_sizes=np.linspace(.1, 1.0, 5)):\n",
    "    plt.figure()\n",
    "    plt.title(title)\n",
    "    if ylim is not None:\n",
    "        plt.ylim(*ylim)\n",
    "    plt.xlabel(\"Training examples\")\n",
    "    plt.ylabel(\"Score\")\n",
    "    train_sizes, train_scores, test_scores = learning_curve(\n",
    "        estimator, X, y, cv=cv, n_jobs=n_jobs, train_sizes=train_sizes)\n",
    "    train_scores_mean = np.mean(train_scores, axis=1)\n",
    "    train_scores_std = np.std(train_scores, axis=1)\n",
    "    test_scores_mean = np.mean(test_scores, axis=1)\n",
    "    test_scores_std = np.std(test_scores, axis=1)\n",
    "    plt.grid()\n",
    "\n",
    "    plt.fill_between(train_sizes, train_scores_mean - train_scores_std,\n",
    "                     train_scores_mean + train_scores_std, alpha=0.1,\n",
    "                     color=\"r\")\n",
    "    plt.fill_between(train_sizes, test_scores_mean - test_scores_std,\n",
    "                     test_scores_mean + test_scores_std, alpha=0.1, color=\"g\")\n",
    "    plt.plot(train_sizes, train_scores_mean, 'o-', color=\"r\",\n",
    "             label=\"Training score\")\n",
    "    plt.plot(train_sizes, test_scores_mean, 'o-', color=\"g\",\n",
    "             label=\"Cross-validation score\")\n",
    "\n",
    "    plt.legend(loc=\"best\")\n",
    "    return plt\n",
    "\n",
    "plot_learning_curve(voting_classifier, \"Learning Curve (Voting Classifier)\", X_train, y_train.values.ravel(), cv=5)\n",
    "\n",
    "plt.show()"
   ]
  },
  {
   "cell_type": "markdown",
   "id": "fb5264f1",
   "metadata": {},
   "source": [
    "# Regressor\n",
    "Despite the problems with the classifier, I symbolically build a regressor here to show the possible function of predicting the taste vector of a specific food based on the input wine."
   ]
  },
  {
   "cell_type": "code",
   "execution_count": 25,
   "id": "932d86ee",
   "metadata": {},
   "outputs": [
    {
     "data": {
      "text/html": [
       "<div>\n",
       "<style scoped>\n",
       "    .dataframe tbody tr th:only-of-type {\n",
       "        vertical-align: middle;\n",
       "    }\n",
       "\n",
       "    .dataframe tbody tr th {\n",
       "        vertical-align: top;\n",
       "    }\n",
       "\n",
       "    .dataframe thead th {\n",
       "        text-align: right;\n",
       "    }\n",
       "</style>\n",
       "<table border=\"1\" class=\"dataframe\">\n",
       "  <thead>\n",
       "    <tr style=\"text-align: right;\">\n",
       "      <th></th>\n",
       "      <th>Pairing Food</th>\n",
       "      <th>name_pair</th>\n",
       "      <th>sweetness</th>\n",
       "      <th>acidity</th>\n",
       "      <th>piquancy</th>\n",
       "      <th>fattiness</th>\n",
       "      <th>bitterness</th>\n",
       "      <th>sweetness_food</th>\n",
       "      <th>acidity_food</th>\n",
       "      <th>salinity_food</th>\n",
       "      <th>piquancy_food</th>\n",
       "      <th>fattiness_food</th>\n",
       "      <th>bitterness_food</th>\n",
       "    </tr>\n",
       "  </thead>\n",
       "  <tbody>\n",
       "    <tr>\n",
       "      <th>1</th>\n",
       "      <td>beef and venison</td>\n",
       "      <td>Bordeaux Blend Red Chateau Lafite Rothschild P...</td>\n",
       "      <td>0.382941</td>\n",
       "      <td>0.998532</td>\n",
       "      <td>0.000442</td>\n",
       "      <td>0.000235</td>\n",
       "      <td>0.000475</td>\n",
       "      <td>0.141897</td>\n",
       "      <td>0.318145</td>\n",
       "      <td>0.655264</td>\n",
       "      <td>0.473096</td>\n",
       "      <td>0.420863</td>\n",
       "      <td>0.228206</td>\n",
       "    </tr>\n",
       "  </tbody>\n",
       "</table>\n",
       "</div>"
      ],
      "text/plain": [
       "       Pairing Food                                          name_pair  \\\n",
       "1  beef and venison  Bordeaux Blend Red Chateau Lafite Rothschild P...   \n",
       "\n",
       "   sweetness   acidity  piquancy  fattiness  bitterness  sweetness_food  \\\n",
       "1   0.382941  0.998532  0.000442   0.000235    0.000475        0.141897   \n",
       "\n",
       "   acidity_food  salinity_food  piquancy_food  fattiness_food  bitterness_food  \n",
       "1      0.318145       0.655264       0.473096        0.420863         0.228206  "
      ]
     },
     "execution_count": 25,
     "metadata": {},
     "output_type": "execute_result"
    }
   ],
   "source": [
    "df_regression.head(1)"
   ]
  },
  {
   "cell_type": "markdown",
   "id": "b21c7519",
   "metadata": {},
   "source": [
    "<br>\n",
    "Split training / test sets and train a randon forest regressor."
   ]
  },
  {
   "cell_type": "code",
   "execution_count": 26,
   "id": "52af12bf",
   "metadata": {},
   "outputs": [],
   "source": [
    "X_re = df_regression[['sweetness', 'acidity', 'piquancy', 'fattiness', 'bitterness']]\n",
    "y_re = df_regression[['sweetness_food', 'acidity_food', 'salinity_food', 'piquancy_food', 'fattiness_food', 'bitterness_food']]\n",
    "\n",
    "X_re_train, X_re_test, y_re_train, y_re_test = train_test_split(X_re, y_re, test_size=0.2, random_state=42)"
   ]
  },
  {
   "cell_type": "code",
   "execution_count": 27,
   "id": "2874dd4b",
   "metadata": {},
   "outputs": [
    {
     "name": "stdout",
     "output_type": "stream",
     "text": [
      "Mean Squared Error: 0.017735338633084432\n",
      "R-squared (R2) Score: 0.32509071647307636\n"
     ]
    }
   ],
   "source": [
    "rf_regressor = RandomForestRegressor(n_estimators=1000, random_state=42)\n",
    "\n",
    "rf_regressor.fit(X_re_train, y_re_train)\n",
    "\n",
    "y_re_pred = rf_regressor.predict(X_re_test)\n",
    "\n",
    "mse = mean_squared_error(y_re_test, y_re_pred)\n",
    "r2 = r2_score(y_re_test, y_re_pred)\n",
    "\n",
    "print(\"Mean Squared Error:\", mse)\n",
    "print(\"R-squared (R2) Score:\", r2)"
   ]
  },
  {
   "cell_type": "markdown",
   "id": "8938d999",
   "metadata": {},
   "source": [
    "<br>\n",
    "Learning curve of the regressor:"
   ]
  },
  {
   "cell_type": "code",
   "execution_count": 28,
   "id": "ce0b1948",
   "metadata": {},
   "outputs": [
    {
     "data": {
      "image/png": "[encoded data removed]",
      "text/plain": [
       "<Figure size 432x288 with 1 Axes>"
      ]
     },
     "metadata": {
      "needs_background": "light"
     },
     "output_type": "display_data"
    }
   ],
   "source": [
    "def plot_learning_curve(estimator, title, X, y, cv=None, n_jobs=-1, train_sizes=np.linspace(0.1, 1.0, 5)):\n",
    "    plt.figure()\n",
    "    plt.title(title)\n",
    "    plt.xlabel(\"Training examples\")\n",
    "    plt.ylabel(\"Mean Squared Error\")\n",
    "    \n",
    "    train_sizes, train_scores, test_scores = learning_curve(estimator, X, y, cv=cv, n_jobs=n_jobs, train_sizes=train_sizes, scoring='neg_mean_squared_error')\n",
    "    \n",
    "    train_scores_mean = -np.mean(train_scores, axis=1)\n",
    "    train_scores_std = np.std(train_scores, axis=1)\n",
    "    test_scores_mean = -np.mean(test_scores, axis=1)\n",
    "    test_scores_std = np.std(test_scores, axis=1)\n",
    "    \n",
    "    plt.grid()\n",
    "\n",
    "    plt.fill_between(train_sizes, train_scores_mean - train_scores_std, train_scores_mean + train_scores_std, alpha=0.1, color=\"r\")\n",
    "    plt.fill_between(train_sizes, test_scores_mean - test_scores_std, test_scores_mean + test_scores_std, alpha=0.1, color=\"g\")\n",
    "    \n",
    "    plt.plot(train_sizes, train_scores_mean, 'o-', color=\"r\", label=\"Training error\")\n",
    "    plt.plot(train_sizes, test_scores_mean, 'o-', color=\"g\", label=\"Cross-validation error\")\n",
    "\n",
    "    plt.legend(loc=\"best\")\n",
    "    return plt\n",
    "\n",
    "plot_learning_curve(rf_regressor, \"Learning Curve (Random Forest Regressor)\", X_re_train, y_re_train, cv=5, n_jobs=-1)\n",
    "plt.show()"
   ]
  },
  {
   "cell_type": "markdown",
   "id": "401d3692",
   "metadata": {},
   "source": [
    "# How to use?\n",
    "For example, we now have a bottle of wine which is shown in the 1st line of the dataset, then it's name should be:"
   ]
  },
  {
   "cell_type": "code",
   "execution_count": 29,
   "id": "76fc6a36",
   "metadata": {},
   "outputs": [
    {
     "data": {
      "text/plain": [
       "'Bordeaux Blend Red Chateau Lafite Rothschild Pauillac France'"
      ]
     },
     "execution_count": 29,
     "metadata": {},
     "output_type": "execute_result"
    }
   ],
   "source": [
    "df_classification['name_pair'].iloc[0]"
   ]
  },
  {
   "cell_type": "markdown",
   "id": "3b1aad3d",
   "metadata": {},
   "source": [
    "<br>\n",
    "Use the pre-trained voting_classifier and get y_use = 0, which represents beef and venison."
   ]
  },
  {
   "cell_type": "code",
   "execution_count": 30,
   "id": "5ebc8496",
   "metadata": {},
   "outputs": [
    {
     "data": {
      "text/html": [
       "<div>\n",
       "<style scoped>\n",
       "    .dataframe tbody tr th:only-of-type {\n",
       "        vertical-align: middle;\n",
       "    }\n",
       "\n",
       "    .dataframe tbody tr th {\n",
       "        vertical-align: top;\n",
       "    }\n",
       "\n",
       "    .dataframe thead th {\n",
       "        text-align: right;\n",
       "    }\n",
       "</style>\n",
       "<table border=\"1\" class=\"dataframe\">\n",
       "  <thead>\n",
       "    <tr style=\"text-align: right;\">\n",
       "      <th></th>\n",
       "      <th>sweetness</th>\n",
       "      <th>acidity</th>\n",
       "      <th>piquancy</th>\n",
       "      <th>fattiness</th>\n",
       "      <th>bitterness</th>\n",
       "      <th>dbscan_cluster</th>\n",
       "    </tr>\n",
       "  </thead>\n",
       "  <tbody>\n",
       "    <tr>\n",
       "      <th>1</th>\n",
       "      <td>0.382941</td>\n",
       "      <td>0.998532</td>\n",
       "      <td>0.000442</td>\n",
       "      <td>0.000235</td>\n",
       "      <td>0.000475</td>\n",
       "      <td>1</td>\n",
       "    </tr>\n",
       "  </tbody>\n",
       "</table>\n",
       "</div>"
      ],
      "text/plain": [
       "   sweetness   acidity  piquancy  fattiness  bitterness  dbscan_cluster\n",
       "1   0.382941  0.998532  0.000442   0.000235    0.000475               1"
      ]
     },
     "execution_count": 30,
     "metadata": {},
     "output_type": "execute_result"
    }
   ],
   "source": [
    "X_use = df_classification[['sweetness', 'acidity', 'piquancy', 'fattiness', 'bitterness', 'dbscan_cluster']].head(1)\n",
    "X_use"
   ]
  },
  {
   "cell_type": "code",
   "execution_count": 31,
   "id": "21f53868",
   "metadata": {},
   "outputs": [
    {
     "data": {
      "text/plain": [
       "array([0])"
      ]
     },
     "execution_count": 31,
     "metadata": {},
     "output_type": "execute_result"
    }
   ],
   "source": [
    "y_use = voting_classifier.predict(X_use)\n",
    "y_use"
   ]
  },
  {
   "cell_type": "markdown",
   "id": "bb63c171",
   "metadata": {},
   "source": [
    "<br>\n",
    "Similarly, apply the pre-trained regressor."
   ]
  },
  {
   "cell_type": "code",
   "execution_count": 32,
   "id": "40afeaf7",
   "metadata": {},
   "outputs": [
    {
     "data": {
      "text/html": [
       "<div>\n",
       "<style scoped>\n",
       "    .dataframe tbody tr th:only-of-type {\n",
       "        vertical-align: middle;\n",
       "    }\n",
       "\n",
       "    .dataframe tbody tr th {\n",
       "        vertical-align: top;\n",
       "    }\n",
       "\n",
       "    .dataframe thead th {\n",
       "        text-align: right;\n",
       "    }\n",
       "</style>\n",
       "<table border=\"1\" class=\"dataframe\">\n",
       "  <thead>\n",
       "    <tr style=\"text-align: right;\">\n",
       "      <th></th>\n",
       "      <th>sweetness</th>\n",
       "      <th>acidity</th>\n",
       "      <th>piquancy</th>\n",
       "      <th>fattiness</th>\n",
       "      <th>bitterness</th>\n",
       "    </tr>\n",
       "  </thead>\n",
       "  <tbody>\n",
       "    <tr>\n",
       "      <th>1</th>\n",
       "      <td>0.382941</td>\n",
       "      <td>0.998532</td>\n",
       "      <td>0.000442</td>\n",
       "      <td>0.000235</td>\n",
       "      <td>0.000475</td>\n",
       "    </tr>\n",
       "  </tbody>\n",
       "</table>\n",
       "</div>"
      ],
      "text/plain": [
       "   sweetness   acidity  piquancy  fattiness  bitterness\n",
       "1   0.382941  0.998532  0.000442   0.000235    0.000475"
      ]
     },
     "execution_count": 32,
     "metadata": {},
     "output_type": "execute_result"
    }
   ],
   "source": [
    "X_re_use = df_regression[['sweetness', 'acidity', 'piquancy', 'fattiness', 'bitterness']].head(1)\n",
    "X_re_use"
   ]
  },
  {
   "cell_type": "code",
   "execution_count": 33,
   "id": "d76c883e",
   "metadata": {},
   "outputs": [
    {
     "data": {
      "text/plain": [
       "array([[0.10203317, 0.27231234, 0.52522591, 0.4192189 , 0.36747407,\n",
       "        0.15657317]])"
      ]
     },
     "execution_count": 33,
     "metadata": {},
     "output_type": "execute_result"
    }
   ],
   "source": [
    "y_re_use = rf_regressor.predict(X_re_use)\n",
    "y_re_use"
   ]
  },
  {
   "cell_type": "markdown",
   "id": "04130f3a",
   "metadata": {},
   "source": [
    "<br>\n",
    "Compare to the true features of the pairing food."
   ]
  },
  {
   "cell_type": "code",
   "execution_count": 34,
   "id": "b11ee5f1",
   "metadata": {},
   "outputs": [
    {
     "data": {
      "text/html": [
       "<div>\n",
       "<style scoped>\n",
       "    .dataframe tbody tr th:only-of-type {\n",
       "        vertical-align: middle;\n",
       "    }\n",
       "\n",
       "    .dataframe tbody tr th {\n",
       "        vertical-align: top;\n",
       "    }\n",
       "\n",
       "    .dataframe thead th {\n",
       "        text-align: right;\n",
       "    }\n",
       "</style>\n",
       "<table border=\"1\" class=\"dataframe\">\n",
       "  <thead>\n",
       "    <tr style=\"text-align: right;\">\n",
       "      <th></th>\n",
       "      <th>sweetness_food</th>\n",
       "      <th>acidity_food</th>\n",
       "      <th>salinity_food</th>\n",
       "      <th>piquancy_food</th>\n",
       "      <th>fattiness_food</th>\n",
       "      <th>bitterness_food</th>\n",
       "    </tr>\n",
       "  </thead>\n",
       "  <tbody>\n",
       "    <tr>\n",
       "      <th>1</th>\n",
       "      <td>0.141897</td>\n",
       "      <td>0.318145</td>\n",
       "      <td>0.655264</td>\n",
       "      <td>0.473096</td>\n",
       "      <td>0.420863</td>\n",
       "      <td>0.228206</td>\n",
       "    </tr>\n",
       "  </tbody>\n",
       "</table>\n",
       "</div>"
      ],
      "text/plain": [
       "   sweetness_food  acidity_food  salinity_food  piquancy_food  fattiness_food  \\\n",
       "1        0.141897      0.318145       0.655264       0.473096        0.420863   \n",
       "\n",
       "   bitterness_food  \n",
       "1         0.228206  "
      ]
     },
     "execution_count": 34,
     "metadata": {},
     "output_type": "execute_result"
    }
   ],
   "source": [
    "df_regression[['sweetness_food', 'acidity_food', 'salinity_food', 'piquancy_food', 'fattiness_food', 'bitterness_food']].head(1)"
   ]
  },
  {
   "cell_type": "markdown",
   "id": "e7879529",
   "metadata": {},
   "source": [
    "<br>\n",
    "Scale from 0 to 10 and visualize"
   ]
  },
  {
   "cell_type": "code",
   "execution_count": 35,
   "id": "08a998f7",
   "metadata": {},
   "outputs": [
    {
     "data": {
      "text/plain": [
       "array([[1. , 2.7, 5.3, 4.2, 3.7, 1.6]])"
      ]
     },
     "execution_count": 35,
     "metadata": {},
     "output_type": "execute_result"
    }
   ],
   "source": [
    "scaled_data = np.round(y_re_use * 10, 1)\n",
    "scaled_data"
   ]
  },
  {
   "cell_type": "code",
   "execution_count": 36,
   "id": "c17a298d",
   "metadata": {},
   "outputs": [
    {
     "name": "stderr",
     "output_type": "stream",
     "text": [
      "C:\\Users\\KARLZH~1\\AppData\\Local\\Temp/ipykernel_4924/2313917341.py:13: UserWarning: color is redundantly defined by the 'color' keyword argument and the fmt string \"bo-\" (-> color='b'). The keyword argument will take precedence.\n",
      "  plt.plot(angles,data,'bo-',color ='g',linewidth=2)\n"
     ]
    },
    {
     "data": {
      "image/png": "[encoded data removed]",
      "text/plain": [
       "<Figure size 720x720 with 1 Axes>"
      ]
     },
     "metadata": {},
     "output_type": "display_data"
    }
   ],
   "source": [
    "labels = np.array(['sweetness_food', 'acidity_food', 'salinity_food', 'piquancy_food', 'fattiness_food', 'bitterness_food'])\n",
    "dataLenth  = 6      \n",
    "data = np.array(scaled_data[0])\n",
    "angles = np.linspace(0,2*np.pi,dataLenth,endpoint=False)   \n",
    " \n",
    "data = np.concatenate((data,[data[0]])) \n",
    "angles = np.concatenate((angles,[angles[0]]))\n",
    "labels=np.concatenate((labels,[labels[0]]))  \n",
    "plt.rc('font', size=20) \n",
    "\n",
    "fig = plt.figure(figsize=(10, 10), facecolor=\"white\")    \n",
    "plt.subplot(111,polar=True)    \n",
    "plt.plot(angles,data,'bo-',color ='g',linewidth=2)\n",
    "plt.fill(angles,data,facecolor='g',alpha=0.25)    \n",
    "plt.thetagrids(angles*180/np.pi,labels)          \n",
    "plt.figtext(0.52,0.95,'Radar Chart for Food Tastes',ha='center', fontsize=28)  \n",
    "plt.grid(True)\n",
    "plt.show()"
   ]
  }
 ],
 "metadata": {
  "kernelspec": {
   "display_name": "Python 3 (ipykernel)",
   "language": "python",
   "name": "python3"
  },
  "language_info": {
   "codemirror_mode": {
    "name": "ipython",
    "version": 3
   },
   "file_extension": ".py",
   "mimetype": "text/x-python",
   "name": "python",
   "nbconvert_exporter": "python",
   "pygments_lexer": "ipython3",
   "version": "3.8.5"
  }
 },
 "nbformat": 4,
 "nbformat_minor": 5
}
