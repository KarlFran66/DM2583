{
 "cells": [
  {
   "cell_type": "code",
   "execution_count": 27,
   "metadata": {},
   "outputs": [],
   "source": [
    "import pandas as pd\n",
    "import numpy as np\n",
    "import seaborn as sns\n",
    "import matplotlib.pyplot as plt\n",
    "from sklearn import tree, svm\n",
    "from sklearn.model_selection import train_test_split, RandomizedSearchCV, GridSearchCV, cross_val_score\n",
    "from sklearn.tree import DecisionTreeRegressor\n",
    "from sklearn.preprocessing import LabelEncoder, StandardScaler\n",
    "from sklearn.ensemble import RandomForestClassifier\n",
    "from sklearn.metrics import accuracy_score, confusion_matrix, precision_score, recall_score, f1_score\n",
    "from scipy.stats import randint\n",
    "from sklearn.datasets import make_classification\n",
    "from sklearn.linear_model import LogisticRegression\n",
    "from sklearn.multiclass import OneVsRestClassifier\n",
    "from sklearn.naive_bayes import GaussianNB\n",
    "from sklearn.neighbors import KNeighborsClassifier\n",
    "\n",
    "\n"
   ]
  },
  {
   "cell_type": "code",
   "execution_count": 2,
   "metadata": {},
   "outputs": [
    {
     "data": {
      "text/html": [
       "<div>\n",
       "<style scoped>\n",
       "    .dataframe tbody tr th:only-of-type {\n",
       "        vertical-align: middle;\n",
       "    }\n",
       "\n",
       "    .dataframe tbody tr th {\n",
       "        vertical-align: top;\n",
       "    }\n",
       "\n",
       "    .dataframe thead th {\n",
       "        text-align: right;\n",
       "    }\n",
       "</style>\n",
       "<table border=\"1\" class=\"dataframe\">\n",
       "  <thead>\n",
       "    <tr style=\"text-align: right;\">\n",
       "      <th></th>\n",
       "      <th>Pairing Food</th>\n",
       "      <th>sweetness</th>\n",
       "      <th>acidity</th>\n",
       "      <th>piquancy</th>\n",
       "      <th>fattiness</th>\n",
       "      <th>bitterness</th>\n",
       "    </tr>\n",
       "  </thead>\n",
       "  <tbody>\n",
       "    <tr>\n",
       "      <th>0</th>\n",
       "      <td>beef and venison</td>\n",
       "      <td>-27.316847</td>\n",
       "      <td>-0.000972</td>\n",
       "      <td>-5.653030</td>\n",
       "      <td>-4.383264</td>\n",
       "      <td>-10.966054</td>\n",
       "    </tr>\n",
       "    <tr>\n",
       "      <th>1</th>\n",
       "      <td>beef and venison</td>\n",
       "      <td>-0.000151</td>\n",
       "      <td>-0.000972</td>\n",
       "      <td>-5.653030</td>\n",
       "      <td>-4.383264</td>\n",
       "      <td>-10.966054</td>\n",
       "    </tr>\n",
       "    <tr>\n",
       "      <th>2</th>\n",
       "      <td>beef and venison</td>\n",
       "      <td>-0.000151</td>\n",
       "      <td>-3.860945</td>\n",
       "      <td>-5.653030</td>\n",
       "      <td>-4.383264</td>\n",
       "      <td>27.357079</td>\n",
       "    </tr>\n",
       "    <tr>\n",
       "      <th>3</th>\n",
       "      <td>beef and venison</td>\n",
       "      <td>-0.000151</td>\n",
       "      <td>-3.860945</td>\n",
       "      <td>53.069004</td>\n",
       "      <td>-4.383264</td>\n",
       "      <td>-10.966054</td>\n",
       "    </tr>\n",
       "    <tr>\n",
       "      <th>4</th>\n",
       "      <td>beef and venison</td>\n",
       "      <td>-0.000151</td>\n",
       "      <td>-3.860945</td>\n",
       "      <td>-5.653030</td>\n",
       "      <td>-4.383264</td>\n",
       "      <td>-10.966054</td>\n",
       "    </tr>\n",
       "  </tbody>\n",
       "</table>\n",
       "</div>"
      ],
      "text/plain": [
       "       Pairing Food  sweetness   acidity   piquancy  fattiness  bitterness\n",
       "0  beef and venison -27.316847 -0.000972  -5.653030  -4.383264  -10.966054\n",
       "1  beef and venison  -0.000151 -0.000972  -5.653030  -4.383264  -10.966054\n",
       "2  beef and venison  -0.000151 -3.860945  -5.653030  -4.383264   27.357079\n",
       "3  beef and venison  -0.000151 -3.860945  53.069004  -4.383264  -10.966054\n",
       "4  beef and venison  -0.000151 -3.860945  -5.653030  -4.383264  -10.966054"
      ]
     },
     "execution_count": 2,
     "metadata": {},
     "output_type": "execute_result"
    }
   ],
   "source": [
    "#the dataset that we got to work with:\n",
    "df = pd.read_csv('pairing_food_final.csv')\n",
    "df.head(5)\n",
    "\n",
    "#first, let's filter on only those columns that we need for now\n",
    "columns = ['Pairing Food','sweetness', 'acidity', 'piquancy', 'fattiness', 'bitterness']\n",
    "df = df.loc[:, columns]\n",
    "df.head(5)"
   ]
  },
  {
   "cell_type": "code",
   "execution_count": 3,
   "metadata": {},
   "outputs": [
    {
     "data": {
      "text/html": [
       "<div>\n",
       "<style scoped>\n",
       "    .dataframe tbody tr th:only-of-type {\n",
       "        vertical-align: middle;\n",
       "    }\n",
       "\n",
       "    .dataframe tbody tr th {\n",
       "        vertical-align: top;\n",
       "    }\n",
       "\n",
       "    .dataframe thead th {\n",
       "        text-align: right;\n",
       "    }\n",
       "</style>\n",
       "<table border=\"1\" class=\"dataframe\">\n",
       "  <thead>\n",
       "    <tr style=\"text-align: right;\">\n",
       "      <th></th>\n",
       "      <th>Pairing Food</th>\n",
       "      <th>sweetness</th>\n",
       "      <th>acidity</th>\n",
       "      <th>piquancy</th>\n",
       "      <th>fattiness</th>\n",
       "      <th>bitterness</th>\n",
       "      <th>Pairing Food str</th>\n",
       "    </tr>\n",
       "  </thead>\n",
       "  <tbody>\n",
       "    <tr>\n",
       "      <th>0</th>\n",
       "      <td>beef and venison</td>\n",
       "      <td>-27.316847</td>\n",
       "      <td>-0.000972</td>\n",
       "      <td>-5.653030</td>\n",
       "      <td>-4.383264</td>\n",
       "      <td>-10.966054</td>\n",
       "      <td>1</td>\n",
       "    </tr>\n",
       "    <tr>\n",
       "      <th>1</th>\n",
       "      <td>beef and venison</td>\n",
       "      <td>-0.000151</td>\n",
       "      <td>-0.000972</td>\n",
       "      <td>-5.653030</td>\n",
       "      <td>-4.383264</td>\n",
       "      <td>-10.966054</td>\n",
       "      <td>1</td>\n",
       "    </tr>\n",
       "    <tr>\n",
       "      <th>2</th>\n",
       "      <td>beef and venison</td>\n",
       "      <td>-0.000151</td>\n",
       "      <td>-3.860945</td>\n",
       "      <td>-5.653030</td>\n",
       "      <td>-4.383264</td>\n",
       "      <td>27.357079</td>\n",
       "      <td>1</td>\n",
       "    </tr>\n",
       "    <tr>\n",
       "      <th>3</th>\n",
       "      <td>beef and venison</td>\n",
       "      <td>-0.000151</td>\n",
       "      <td>-3.860945</td>\n",
       "      <td>53.069004</td>\n",
       "      <td>-4.383264</td>\n",
       "      <td>-10.966054</td>\n",
       "      <td>1</td>\n",
       "    </tr>\n",
       "    <tr>\n",
       "      <th>4</th>\n",
       "      <td>beef and venison</td>\n",
       "      <td>-0.000151</td>\n",
       "      <td>-3.860945</td>\n",
       "      <td>-5.653030</td>\n",
       "      <td>-4.383264</td>\n",
       "      <td>-10.966054</td>\n",
       "      <td>1</td>\n",
       "    </tr>\n",
       "    <tr>\n",
       "      <th>5</th>\n",
       "      <td>beef and venison</td>\n",
       "      <td>-0.000151</td>\n",
       "      <td>-0.000972</td>\n",
       "      <td>-5.653030</td>\n",
       "      <td>-4.383264</td>\n",
       "      <td>-10.966054</td>\n",
       "      <td>1</td>\n",
       "    </tr>\n",
       "    <tr>\n",
       "      <th>6</th>\n",
       "      <td>beef and venison</td>\n",
       "      <td>-0.000151</td>\n",
       "      <td>-3.860945</td>\n",
       "      <td>-5.653030</td>\n",
       "      <td>-4.383264</td>\n",
       "      <td>-10.966054</td>\n",
       "      <td>1</td>\n",
       "    </tr>\n",
       "    <tr>\n",
       "      <th>7</th>\n",
       "      <td>beef and venison</td>\n",
       "      <td>-0.000151</td>\n",
       "      <td>-0.000972</td>\n",
       "      <td>-5.653030</td>\n",
       "      <td>-4.383264</td>\n",
       "      <td>27.357079</td>\n",
       "      <td>1</td>\n",
       "    </tr>\n",
       "    <tr>\n",
       "      <th>8</th>\n",
       "      <td>beef and venison</td>\n",
       "      <td>-27.316847</td>\n",
       "      <td>-0.000972</td>\n",
       "      <td>-5.653030</td>\n",
       "      <td>-4.383264</td>\n",
       "      <td>-10.966054</td>\n",
       "      <td>1</td>\n",
       "    </tr>\n",
       "    <tr>\n",
       "      <th>9</th>\n",
       "      <td>beef and venison</td>\n",
       "      <td>-27.316847</td>\n",
       "      <td>-0.000972</td>\n",
       "      <td>-5.653030</td>\n",
       "      <td>-4.383264</td>\n",
       "      <td>-10.966054</td>\n",
       "      <td>1</td>\n",
       "    </tr>\n",
       "  </tbody>\n",
       "</table>\n",
       "</div>"
      ],
      "text/plain": [
       "       Pairing Food  sweetness   acidity   piquancy  fattiness  bitterness  \\\n",
       "0  beef and venison -27.316847 -0.000972  -5.653030  -4.383264  -10.966054   \n",
       "1  beef and venison  -0.000151 -0.000972  -5.653030  -4.383264  -10.966054   \n",
       "2  beef and venison  -0.000151 -3.860945  -5.653030  -4.383264   27.357079   \n",
       "3  beef and venison  -0.000151 -3.860945  53.069004  -4.383264  -10.966054   \n",
       "4  beef and venison  -0.000151 -3.860945  -5.653030  -4.383264  -10.966054   \n",
       "5  beef and venison  -0.000151 -0.000972  -5.653030  -4.383264  -10.966054   \n",
       "6  beef and venison  -0.000151 -3.860945  -5.653030  -4.383264  -10.966054   \n",
       "7  beef and venison  -0.000151 -0.000972  -5.653030  -4.383264   27.357079   \n",
       "8  beef and venison -27.316847 -0.000972  -5.653030  -4.383264  -10.966054   \n",
       "9  beef and venison -27.316847 -0.000972  -5.653030  -4.383264  -10.966054   \n",
       "\n",
       "   Pairing Food str  \n",
       "0                 1  \n",
       "1                 1  \n",
       "2                 1  \n",
       "3                 1  \n",
       "4                 1  \n",
       "5                 1  \n",
       "6                 1  \n",
       "7                 1  \n",
       "8                 1  \n",
       "9                 1  "
      ]
     },
     "execution_count": 3,
     "metadata": {},
     "output_type": "execute_result"
    }
   ],
   "source": [
    "#Replacing the strings in \"Pairing food\" to integers, such that the model can actually predict them\n",
    "pairing_foods = df['Pairing Food'].unique()\n",
    "pairing_foods\n",
    "#there are 21 unique pairing foods, so time to give them a number 1-21\n",
    "    # 1 = beef and venison\n",
    "    # 2 = blue cheeses\n",
    "    # 3 = brie and camembert\n",
    "    # 4 = cakes and cream\n",
    "    # 5 = cheddar and gruyere\n",
    "    # 6 = chicken and turkey\n",
    "    # 7 = chilis and hot spicy foods\n",
    "    # 8 = chocolate and caramel\n",
    "    # 9 = duck, goose and game birds\n",
    "    # 10 = fruit-based desserts\n",
    "    # 11 = goats' cheese and feta\n",
    "    # 12 = lamb\n",
    "    # 13 = manchego and parmesan\n",
    "    # 14 = meaty and oily fish\n",
    "    # 15 = mushrooms\n",
    "    # 16 = pork, ham and cold meats\n",
    "    # 17 = root vegetables and squashes\n",
    "    # 18 = salads and green vegetables\n",
    "    # 19 = shellfish, crab and lobster\n",
    "    # 20 = tomato-based dishes\n",
    "    # 21 = white fish'\n",
    "\n",
    "#df['Pairing Food str'] = None\n",
    "label_encoder = LabelEncoder()\n",
    "label_encoder.fit(df['Pairing Food'])\n",
    "df['Pairing Food str'] = label_encoder.transform(df['Pairing Food']) + 1\n",
    "df.head(10)\n",
    "#seems to have worked! Our models can now use the columns 'Pairing Food str' as class"
   ]
  },
  {
   "cell_type": "markdown",
   "metadata": {},
   "source": [
    "What we want to accomplish: We want to first divide the dataset above into a train and test dataset. Next, we want to train a classification model that predicts the pairing food based on the 6 characteristics of the wine (sweetness, acidity, piquancy, fattiness, bitterness). Then, we want to test the model on the test dataset. Finally, we want to compare the results from this model with a ruleset for food pairing made by sommeliers. \n",
    "\n",
    "The models we are going to use are: (to be updated with results)\n",
    "- Decision tree (R2 = 0.013 at best)\n",
    "- Random forest (R2 = 0.12)\n",
    "- SVM (R2 = 0.11 for RBF kernel)\n",
    "- ~~Multinomial Logistic Regression -> only works for numeric target variable~~ \n",
    "- Logistic regression with multiclass classification (R2 = 0.08)\n",
    "- Naive Bayes (R2 = 0.122)\n",
    "- K-nearest neighbour (R2 = 0.095)"
   ]
  },
  {
   "cell_type": "markdown",
   "metadata": {},
   "source": [
    "## Splitting the data into a test and a train dataset"
   ]
  },
  {
   "cell_type": "code",
   "execution_count": 4,
   "metadata": {},
   "outputs": [
    {
     "name": "stderr",
     "output_type": "stream",
     "text": [
      "C:\\ProgramData\\Anaconda3\\lib\\site-packages\\sklearn\\model_selection\\_split.py:2179: FutureWarning: From version 0.21, test_size will always complement train_size unless both are specified.\n",
      "  FutureWarning)\n"
     ]
    },
    {
     "data": {
      "text/html": [
       "<div>\n",
       "<style scoped>\n",
       "    .dataframe tbody tr th:only-of-type {\n",
       "        vertical-align: middle;\n",
       "    }\n",
       "\n",
       "    .dataframe tbody tr th {\n",
       "        vertical-align: top;\n",
       "    }\n",
       "\n",
       "    .dataframe thead th {\n",
       "        text-align: right;\n",
       "    }\n",
       "</style>\n",
       "<table border=\"1\" class=\"dataframe\">\n",
       "  <thead>\n",
       "    <tr style=\"text-align: right;\">\n",
       "      <th></th>\n",
       "      <th>sweetness</th>\n",
       "      <th>acidity</th>\n",
       "      <th>piquancy</th>\n",
       "      <th>fattiness</th>\n",
       "      <th>bitterness</th>\n",
       "    </tr>\n",
       "  </thead>\n",
       "  <tbody>\n",
       "    <tr>\n",
       "      <th>5764</th>\n",
       "      <td>-0.000151</td>\n",
       "      <td>-3.860945</td>\n",
       "      <td>-5.65303</td>\n",
       "      <td>-4.383264</td>\n",
       "      <td>-10.966054</td>\n",
       "    </tr>\n",
       "    <tr>\n",
       "      <th>7524</th>\n",
       "      <td>20.239079</td>\n",
       "      <td>-0.000972</td>\n",
       "      <td>-5.65303</td>\n",
       "      <td>-4.383264</td>\n",
       "      <td>-10.966054</td>\n",
       "    </tr>\n",
       "    <tr>\n",
       "      <th>8568</th>\n",
       "      <td>-0.000151</td>\n",
       "      <td>-3.860945</td>\n",
       "      <td>-5.65303</td>\n",
       "      <td>-4.383264</td>\n",
       "      <td>27.357079</td>\n",
       "    </tr>\n",
       "    <tr>\n",
       "      <th>3700</th>\n",
       "      <td>-0.000151</td>\n",
       "      <td>-3.860954</td>\n",
       "      <td>-5.65303</td>\n",
       "      <td>-4.383264</td>\n",
       "      <td>-10.966054</td>\n",
       "    </tr>\n",
       "    <tr>\n",
       "      <th>2509</th>\n",
       "      <td>-0.000151</td>\n",
       "      <td>-0.000972</td>\n",
       "      <td>-5.65303</td>\n",
       "      <td>-4.383264</td>\n",
       "      <td>27.357079</td>\n",
       "    </tr>\n",
       "  </tbody>\n",
       "</table>\n",
       "</div>"
      ],
      "text/plain": [
       "      sweetness   acidity  piquancy  fattiness  bitterness\n",
       "5764  -0.000151 -3.860945  -5.65303  -4.383264  -10.966054\n",
       "7524  20.239079 -0.000972  -5.65303  -4.383264  -10.966054\n",
       "8568  -0.000151 -3.860945  -5.65303  -4.383264   27.357079\n",
       "3700  -0.000151 -3.860954  -5.65303  -4.383264  -10.966054\n",
       "2509  -0.000151 -0.000972  -5.65303  -4.383264   27.357079"
      ]
     },
     "execution_count": 4,
     "metadata": {},
     "output_type": "execute_result"
    }
   ],
   "source": [
    "#let's start with a split of 75% training data and 25% test data\n",
    "features = ['sweetness','acidity','piquancy','fattiness','bitterness']\n",
    "X = df.loc[:, features]\n",
    "y = df.loc[:, ['Pairing Food str']]\n",
    "X_train, X_test, y_train, y_test = train_test_split(X, y, random_state=0, train_size = .75)\n",
    "X_train.head(5)"
   ]
  },
  {
   "cell_type": "markdown",
   "metadata": {},
   "source": [
    "Now that we have a train and a test dataset that only contain the values we are interested in, we can start exploring different models for our classifier"
   ]
  },
  {
   "cell_type": "markdown",
   "metadata": {},
   "source": [
    "_note: we could also use a cross-validation for the train and test split. Maybe look into that later>_"
   ]
  },
  {
   "cell_type": "markdown",
   "metadata": {},
   "source": [
    "### Decision tree classifier"
   ]
  },
  {
   "cell_type": "code",
   "execution_count": 5,
   "metadata": {},
   "outputs": [
    {
     "data": {
      "text/plain": [
       "0.009723048307546223"
      ]
     },
     "execution_count": 5,
     "metadata": {},
     "output_type": "execute_result"
    }
   ],
   "source": [
    "reg = DecisionTreeRegressor(max_depth = 10, random_state = 0)\n",
    "reg.fit(X_train, y_train)\n",
    "#testing the model:\n",
    "score = reg.score(X_test, y_test)\n",
    "score\n",
    "#oof not really great. ALthough who would have expected something great from a decision tree."
   ]
  },
  {
   "cell_type": "code",
   "execution_count": 6,
   "metadata": {},
   "outputs": [
    {
     "data": {
      "text/plain": [
       "0.012657162836058777"
      ]
     },
     "execution_count": 6,
     "metadata": {},
     "output_type": "execute_result"
    }
   ],
   "source": [
    "#the model with different max depths:\n",
    "\n",
    "reg = DecisionTreeRegressor(max_depth = 120, random_state = 0)\n",
    "reg.fit(X_train, y_train)\n",
    "score = reg.score(X_test, y_test)\n",
    "score\n",
    "#Max depth of 120 gives a slightly better R2 of 0.013; Still bad though\n",
    "reg = DecisionTreeRegressor(max_depth = 1200, random_state = 0)\n",
    "reg.fit(X_train, y_train)\n",
    "score = reg.score(X_test, y_test)\n",
    "score\n",
    "#A higher max depth does not increase the accuracy score further, so this is the best it's going to get"
   ]
  },
  {
   "cell_type": "markdown",
   "metadata": {},
   "source": [
    "### Random forest classifier"
   ]
  },
  {
   "cell_type": "code",
   "execution_count": 7,
   "metadata": {},
   "outputs": [
    {
     "name": "stdout",
     "output_type": "stream",
     "text": [
      "Accuracy: 0.12022979072630283\n"
     ]
    },
    {
     "name": "stderr",
     "output_type": "stream",
     "text": [
      "C:\\ProgramData\\Anaconda3\\lib\\site-packages\\sklearn\\ensemble\\forest.py:246: FutureWarning: The default value of n_estimators will change from 10 in version 0.20 to 100 in 0.22.\n",
      "  \"10 in version 0.20 to 100 in 0.22.\", FutureWarning)\n"
     ]
    }
   ],
   "source": [
    "rf = RandomForestClassifier()\n",
    "rf.fit(X_train, y_train.values.ravel())\n",
    "y_pred = rf.predict(X_test)\n",
    "accuracy = accuracy_score(y_test, y_pred)\n",
    "print(\"Accuracy:\", accuracy)\n",
    "#accuracy of 0.12 for the basic model. Already a big improvement from the simple tree"
   ]
  },
  {
   "cell_type": "code",
   "execution_count": 8,
   "metadata": {},
   "outputs": [],
   "source": [
    "#let's try to tune the hyperparameters a bit:\n",
    "# param_dist = {'n_estimators': randint(50,500), 'max_depth': randint(1,20)}\n",
    "# rf = RandomForestClassifier()\n",
    "# # Use random search to find the best hyperparameters\n",
    "# rand_search = RandomizedSearchCV(rf, param_distributions = param_dist, n_iter=5, cv=5)\n",
    "# rand_search.fit(X_train, y_train.values.ravel())\n",
    "# # Create a variable for the best model\n",
    "# best_rf = rand_search.best_estimator_\n",
    "# # Print the best hyperparameters\n",
    "# print('Best hyperparameters:',  rand_search.best_params_)\n",
    "\n",
    "# #best hyperparameters: {'max_depth': 5, 'n_estimators': 87}"
   ]
  },
  {
   "cell_type": "code",
   "execution_count": 8,
   "metadata": {},
   "outputs": [
    {
     "name": "stdout",
     "output_type": "stream",
     "text": [
      "Accuracy: 0.12187115305703734\n"
     ]
    }
   ],
   "source": [
    "#let's test those hyperparameters above to see if the model get's better than the basic one above!\n",
    "rf = RandomForestClassifier(n_estimators=87, max_depth = 5)\n",
    "rf.fit(X_train, y_train.values.ravel())\n",
    "y_pred = rf.predict(X_test)\n",
    "accuracy = accuracy_score(y_test, y_pred)\n",
    "print(\"Accuracy:\", accuracy)\n",
    "#accuracy is: R2 = 0.12, so not much better"
   ]
  },
  {
   "cell_type": "markdown",
   "metadata": {},
   "source": [
    "### SVM classifier"
   ]
  },
  {
   "cell_type": "code",
   "execution_count": null,
   "metadata": {},
   "outputs": [],
   "source": [
    "#we will try both a polynomial kernel as well as an RBF kernel.\n",
    "\n",
    "# #let's start with a poly kernel.\n",
    "# poly = svm.SVC(kernel='poly', degree=3, C=1).fit(X_train, y_train.values.ravel())\n",
    "# #now, testing the classifiers\n",
    "# poly_pred = poly.predict(X_test)\n",
    "# #accuracy scores:\n",
    "# poly_accuracy = accuracy_score(y_test, poly_pred)\n",
    "# poly_f1 = f1_score(y_test, poly_pred, average='weighted')\n",
    "# print('Accuracy (Polynomial Kernel): ', \"%.2f\" % (poly_accuracy*100))\n",
    "# print('F1 (Polynomial Kernel): ', \"%.2f\" % (poly_f1*100))\n",
    "# poly_accuracy\n",
    "\n",
    "\n",
    "#Commented away for now because it keeps running forever without result. Idk why though\n"
   ]
  },
  {
   "cell_type": "code",
   "execution_count": 10,
   "metadata": {},
   "outputs": [
    {
     "name": "stdout",
     "output_type": "stream",
     "text": [
      "Accuracy (RBF Kernel):  0.11\n",
      "F1 (RBF Kernel):  7.34\n"
     ]
    },
    {
     "name": "stderr",
     "output_type": "stream",
     "text": [
      "C:\\ProgramData\\Anaconda3\\lib\\site-packages\\sklearn\\metrics\\classification.py:1143: UndefinedMetricWarning: F-score is ill-defined and being set to 0.0 in labels with no predicted samples.\n",
      "  'precision', 'predicted', average, warn_for)\n"
     ]
    }
   ],
   "source": [
    "#RBF kernel:\n",
    "rbf = svm.SVC(kernel='rbf', gamma=0.5, C=0.1).fit(X_train, y_train.values.ravel())\n",
    "rbf_pred = rbf.predict(X_test)\n",
    "rbf_accuracy = accuracy_score(y_test, rbf_pred)\n",
    "rbf_f1 = f1_score(y_test, rbf_pred, average='weighted')\n",
    "print('Accuracy (RBF Kernel): ', \"%.2f\" % (rbf_accuracy))\n",
    "print('F1 (RBF Kernel): ', \"%.2f\" % (rbf_f1*100))\n",
    "#accuracy of 0.11\n",
    "#F1 of 7.34"
   ]
  },
  {
   "cell_type": "code",
   "execution_count": null,
   "metadata": {},
   "outputs": [],
   "source": []
  },
  {
   "cell_type": "markdown",
   "metadata": {},
   "source": [
    "### Logistic regression"
   ]
  },
  {
   "cell_type": "code",
   "execution_count": 11,
   "metadata": {},
   "outputs": [
    {
     "name": "stderr",
     "output_type": "stream",
     "text": [
      "C:\\ProgramData\\Anaconda3\\lib\\site-packages\\sklearn\\linear_model\\logistic.py:433: FutureWarning: Default solver will be changed to 'lbfgs' in 0.22. Specify a solver to silence this warning.\n",
      "  FutureWarning)\n",
      "C:\\ProgramData\\Anaconda3\\lib\\site-packages\\sklearn\\linear_model\\logistic.py:433: FutureWarning: Default solver will be changed to 'lbfgs' in 0.22. Specify a solver to silence this warning.\n",
      "  FutureWarning)\n",
      "C:\\ProgramData\\Anaconda3\\lib\\site-packages\\sklearn\\linear_model\\logistic.py:433: FutureWarning: Default solver will be changed to 'lbfgs' in 0.22. Specify a solver to silence this warning.\n",
      "  FutureWarning)\n",
      "C:\\ProgramData\\Anaconda3\\lib\\site-packages\\sklearn\\linear_model\\logistic.py:433: FutureWarning: Default solver will be changed to 'lbfgs' in 0.22. Specify a solver to silence this warning.\n",
      "  FutureWarning)\n",
      "C:\\ProgramData\\Anaconda3\\lib\\site-packages\\sklearn\\linear_model\\logistic.py:433: FutureWarning: Default solver will be changed to 'lbfgs' in 0.22. Specify a solver to silence this warning.\n",
      "  FutureWarning)\n",
      "C:\\ProgramData\\Anaconda3\\lib\\site-packages\\sklearn\\linear_model\\logistic.py:433: FutureWarning: Default solver will be changed to 'lbfgs' in 0.22. Specify a solver to silence this warning.\n",
      "  FutureWarning)\n",
      "C:\\ProgramData\\Anaconda3\\lib\\site-packages\\sklearn\\linear_model\\logistic.py:433: FutureWarning: Default solver will be changed to 'lbfgs' in 0.22. Specify a solver to silence this warning.\n",
      "  FutureWarning)\n",
      "C:\\ProgramData\\Anaconda3\\lib\\site-packages\\sklearn\\linear_model\\logistic.py:433: FutureWarning: Default solver will be changed to 'lbfgs' in 0.22. Specify a solver to silence this warning.\n",
      "  FutureWarning)\n",
      "C:\\ProgramData\\Anaconda3\\lib\\site-packages\\sklearn\\linear_model\\logistic.py:433: FutureWarning: Default solver will be changed to 'lbfgs' in 0.22. Specify a solver to silence this warning.\n",
      "  FutureWarning)\n",
      "C:\\ProgramData\\Anaconda3\\lib\\site-packages\\sklearn\\linear_model\\logistic.py:433: FutureWarning: Default solver will be changed to 'lbfgs' in 0.22. Specify a solver to silence this warning.\n",
      "  FutureWarning)\n",
      "C:\\ProgramData\\Anaconda3\\lib\\site-packages\\sklearn\\linear_model\\logistic.py:433: FutureWarning: Default solver will be changed to 'lbfgs' in 0.22. Specify a solver to silence this warning.\n",
      "  FutureWarning)\n",
      "C:\\ProgramData\\Anaconda3\\lib\\site-packages\\sklearn\\linear_model\\logistic.py:433: FutureWarning: Default solver will be changed to 'lbfgs' in 0.22. Specify a solver to silence this warning.\n",
      "  FutureWarning)\n",
      "C:\\ProgramData\\Anaconda3\\lib\\site-packages\\sklearn\\linear_model\\logistic.py:433: FutureWarning: Default solver will be changed to 'lbfgs' in 0.22. Specify a solver to silence this warning.\n",
      "  FutureWarning)\n",
      "C:\\ProgramData\\Anaconda3\\lib\\site-packages\\sklearn\\linear_model\\logistic.py:433: FutureWarning: Default solver will be changed to 'lbfgs' in 0.22. Specify a solver to silence this warning.\n",
      "  FutureWarning)\n",
      "C:\\ProgramData\\Anaconda3\\lib\\site-packages\\sklearn\\linear_model\\logistic.py:433: FutureWarning: Default solver will be changed to 'lbfgs' in 0.22. Specify a solver to silence this warning.\n",
      "  FutureWarning)\n",
      "C:\\ProgramData\\Anaconda3\\lib\\site-packages\\sklearn\\linear_model\\logistic.py:433: FutureWarning: Default solver will be changed to 'lbfgs' in 0.22. Specify a solver to silence this warning.\n",
      "  FutureWarning)\n",
      "C:\\ProgramData\\Anaconda3\\lib\\site-packages\\sklearn\\linear_model\\logistic.py:433: FutureWarning: Default solver will be changed to 'lbfgs' in 0.22. Specify a solver to silence this warning.\n",
      "  FutureWarning)\n",
      "C:\\ProgramData\\Anaconda3\\lib\\site-packages\\sklearn\\linear_model\\logistic.py:433: FutureWarning: Default solver will be changed to 'lbfgs' in 0.22. Specify a solver to silence this warning.\n",
      "  FutureWarning)\n",
      "C:\\ProgramData\\Anaconda3\\lib\\site-packages\\sklearn\\linear_model\\logistic.py:433: FutureWarning: Default solver will be changed to 'lbfgs' in 0.22. Specify a solver to silence this warning.\n",
      "  FutureWarning)\n",
      "C:\\ProgramData\\Anaconda3\\lib\\site-packages\\sklearn\\linear_model\\logistic.py:433: FutureWarning: Default solver will be changed to 'lbfgs' in 0.22. Specify a solver to silence this warning.\n",
      "  FutureWarning)\n"
     ]
    },
    {
     "name": "stdout",
     "output_type": "stream",
     "text": [
      "Accuracy:  0.08\n",
      "F1:  5.03\n"
     ]
    },
    {
     "name": "stderr",
     "output_type": "stream",
     "text": [
      "C:\\ProgramData\\Anaconda3\\lib\\site-packages\\sklearn\\linear_model\\logistic.py:433: FutureWarning: Default solver will be changed to 'lbfgs' in 0.22. Specify a solver to silence this warning.\n",
      "  FutureWarning)\n",
      "C:\\ProgramData\\Anaconda3\\lib\\site-packages\\sklearn\\metrics\\classification.py:1143: UndefinedMetricWarning: F-score is ill-defined and being set to 0.0 in labels with no predicted samples.\n",
      "  'precision', 'predicted', average, warn_for)\n"
     ]
    }
   ],
   "source": [
    "#Logistic regression for multi-class classification: (with one-vs-rest)\n",
    "\n",
    "# define dataset\n",
    "X, y = make_classification(n_samples=1000, n_features=10, n_informative=5, n_redundant=5, n_classes=3, random_state=1)\n",
    "# define model\n",
    "model = LogisticRegression()\n",
    "# define the ovr strategy\n",
    "ovr = OneVsRestClassifier(model)\n",
    "# fit model\n",
    "ovr.fit(X_train, y_train.values.ravel())\n",
    "# make predictions\n",
    "ovr_pred = ovr.predict(X_test)\n",
    "accuracy = accuracy_score(y_test, ovr_pred)\n",
    "f1 = f1_score(y_test, ovr_pred, average='weighted')\n",
    "print('Accuracy: ', \"%.2f\" % (accuracy))\n",
    "print('F1: ', \"%.2f\" % (f1*100))\n",
    "#accuracy = 0.08\n",
    "#F1 = 5.03"
   ]
  },
  {
   "cell_type": "markdown",
   "metadata": {},
   "source": [
    "### Naive Bayes Classifier"
   ]
  },
  {
   "cell_type": "code",
   "execution_count": 13,
   "metadata": {},
   "outputs": [
    {
     "name": "stdout",
     "output_type": "stream",
     "text": [
      "Accuracy: 0.12187115305703734\n"
     ]
    }
   ],
   "source": [
    "# Build a Gaussian Classifier\n",
    "model = GaussianNB()\n",
    "model.fit(X_train, y_train.values.ravel())\n",
    "y_pred = rf.predict(X_test)\n",
    "accuracy = accuracy_score(y_test, y_pred)\n",
    "print(\"Accuracy:\", accuracy)\n",
    "#accuracy = 0.122\n",
    "#I don't think the NB classifier has hyperparameters to tune? At least not what I can find"
   ]
  },
  {
   "cell_type": "markdown",
   "metadata": {},
   "source": [
    "### K-NN classifier"
   ]
  },
  {
   "cell_type": "code",
   "execution_count": 22,
   "metadata": {},
   "outputs": [
    {
     "name": "stdout",
     "output_type": "stream",
     "text": [
      "Accuracy: 0.07632334837915469\n"
     ]
    }
   ],
   "source": [
    "knn = KNeighborsClassifier(n_neighbors=3)\n",
    "knn.fit(X_train, y_train.values.ravel())\n",
    "y_pred = knn.predict(X_test)\n",
    "accuracy = accuracy_score(y_test, y_pred)\n",
    "print(\"Accuracy:\", accuracy)\n",
    "#accuracy = 0.076"
   ]
  },
  {
   "cell_type": "code",
   "execution_count": 28,
   "metadata": {},
   "outputs": [
    {
     "data": {
      "text/plain": [
       "Text(0, 0.5, 'Accuracy Score')"
      ]
     },
     "execution_count": 28,
     "metadata": {},
     "output_type": "execute_result"
    },
    {
     "data": {
      "image/png": "[encoded data removed]",
      "text/plain": [
       "<Figure size 432x288 with 1 Axes>"
      ]
     },
     "metadata": {
      "needs_background": "light"
     },
     "output_type": "display_data"
    }
   ],
   "source": [
    "#now let's tune the hyperparameters (using cross-validation):\n",
    "k_values = [i for i in range (1,31)]\n",
    "scores = []\n",
    "\n",
    "scaler = StandardScaler()\n",
    "X = scaler.fit_transform(X)\n",
    "\n",
    "for k in k_values:\n",
    "    knn = KNeighborsClassifier(n_neighbors=k)\n",
    "    score = cross_val_score(knn, X, y, cv=5)\n",
    "    scores.append(np.mean(score))\n",
    "    \n",
    "sns.lineplot(x = k_values, y = scores, marker = 'o')\n",
    "plt.xlabel(\"K Values\")\n",
    "plt.ylabel(\"Accuracy Score\")\n",
    "#we can see from the plot that the best accuracy score is for k=15"
   ]
  },
  {
   "cell_type": "code",
   "execution_count": 29,
   "metadata": {},
   "outputs": [
    {
     "name": "stdout",
     "output_type": "stream",
     "text": [
      "Accuracy: 0.09478867459991794\n"
     ]
    }
   ],
   "source": [
    "knn = KNeighborsClassifier(n_neighbors=15)\n",
    "knn.fit(X_train, y_train.values.ravel())\n",
    "y_pred = knn.predict(X_test)\n",
    "accuracy = accuracy_score(y_test, y_pred)\n",
    "print(\"Accuracy:\", accuracy)\n",
    "#accuracy = 0.095"
   ]
  },
  {
   "cell_type": "code",
   "execution_count": null,
   "metadata": {},
   "outputs": [],
   "source": []
  },
  {
   "cell_type": "markdown",
   "metadata": {},
   "source": [
    "In the end, we can try to predict for the 6 food categories, what factors of the 5 wine categories influence how the food category changes for a good pair? -> using regression probably"
   ]
  }
 ],
 "metadata": {
  "kernelspec": {
   "display_name": "Python 3",
   "language": "python",
   "name": "python3"
  },
  "language_info": {
   "codemirror_mode": {
    "name": "ipython",
    "version": 3
   },
   "file_extension": ".py",
   "mimetype": "text/x-python",
   "name": "python",
   "nbconvert_exporter": "python",
   "pygments_lexer": "ipython3",
   "version": "3.7.3"
  }
 },
 "nbformat": 4,
 "nbformat_minor": 2
}
