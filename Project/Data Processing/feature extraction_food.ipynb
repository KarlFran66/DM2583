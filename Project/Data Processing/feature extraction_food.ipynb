{
 "cells": [
  {
   "cell_type": "code",
   "execution_count": 1,
   "id": "78dc9996",
   "metadata": {},
   "outputs": [
    {
     "name": "stderr",
     "output_type": "stream",
     "text": [
      "C:\\Users\\Karl Zhang\\anaconda3\\lib\\site-packages\\numpy\\_distributor_init.py:30: UserWarning: loaded more than 1 DLL from .libs:\n",
      "C:\\Users\\Karl Zhang\\anaconda3\\lib\\site-packages\\numpy\\.libs\\libopenblas.NOIJJG62EMASZI6NYURL6JBKM4EVBGM7.gfortran-win_amd64.dll\n",
      "C:\\Users\\Karl Zhang\\anaconda3\\lib\\site-packages\\numpy\\.libs\\libopenblas64__v0.3.21-gcc_10_3_0.dll\n",
      "  warnings.warn(\"loaded more than 1 DLL from .libs:\"\n",
      "[nltk_data] Downloading package punkt to C:\\Users\\Karl\n",
      "[nltk_data]     Zhang\\AppData\\Roaming\\nltk_data...\n",
      "[nltk_data]   Package punkt is already up-to-date!\n",
      "[nltk_data] Downloading package stopwords to C:\\Users\\Karl\n",
      "[nltk_data]     Zhang\\AppData\\Roaming\\nltk_data...\n",
      "[nltk_data]   Package stopwords is already up-to-date!\n"
     ]
    }
   ],
   "source": [
    "import os\n",
    "import pandas as pd\n",
    "import re\n",
    "import string\n",
    "from tqdm import tqdm\n",
    "from gensim.models.phrases import Phrases, Phraser\n",
    "from gensim.models import Word2Vec\n",
    "import logging\n",
    "from wordcloud import WordCloud\n",
    "import matplotlib.pyplot as plt\n",
    "import pickle\n",
    "from sklearn.feature_extraction.text import TfidfVectorizer\n",
    "import numpy as np\n",
    "from sklearn.decomposition import PCA\n",
    "from sklearn.preprocessing import StandardScaler\n",
    "import random\n",
    "from collections import defaultdict\n",
    "from multiprocessing import Pool\n",
    "import functools\n",
    "from scipy import spatial\n",
    "import ast\n",
    "\n",
    "\n",
    "import nltk\n",
    "from nltk.tokenize import word_tokenize, sent_tokenize\n",
    "from nltk.corpus import stopwords\n",
    "from nltk.stem import SnowballStemmer\n",
    "nltk.download('punkt')\n",
    "nltk.download('stopwords')\n",
    "\n",
    "pd.set_option('display.max_columns', None)"
   ]
  },
  {
   "cell_type": "markdown",
   "id": "6db49ac7",
   "metadata": {},
   "source": [
    "# Feature extraction for food\n",
    "This is the method from Roald."
   ]
  },
  {
   "cell_type": "code",
   "execution_count": 2,
   "id": "6cb99d8d",
   "metadata": {},
   "outputs": [],
   "source": [
    "stop_words = set(stopwords.words('english')) \n",
    "\n",
    "punctuation_table = str.maketrans({key: None for key in string.punctuation})\n",
    "sno = SnowballStemmer('english')\n",
    "\n",
    "def normalize_text(raw_text):\n",
    "    try:\n",
    "        word_list = word_tokenize(raw_text)\n",
    "        normalized_sentence = []\n",
    "        for w in word_list:\n",
    "            try:\n",
    "                w = str(w)\n",
    "                lower_case_word = str.lower(w)\n",
    "                stemmed_word = sno.stem(lower_case_word)\n",
    "                no_punctuation = stemmed_word.translate(punctuation_table)\n",
    "                if len(no_punctuation) > 1 and no_punctuation not in stop_words:\n",
    "                    normalized_sentence.append(no_punctuation)\n",
    "            except:\n",
    "                continue\n",
    "        return normalized_sentence\n",
    "    except:\n",
    "        return ''"
   ]
  },
  {
   "cell_type": "code",
   "execution_count": 3,
   "id": "cf165c0f",
   "metadata": {},
   "outputs": [],
   "source": [
    "food_trigram_model = Phraser.load('food_trigram_model.pkl')"
   ]
  },
  {
   "cell_type": "code",
   "execution_count": 4,
   "id": "521a682e",
   "metadata": {},
   "outputs": [],
   "source": [
    "wine_word2vec_model = Word2Vec.load(\"word2vec.model\")"
   ]
  },
  {
   "cell_type": "code",
   "execution_count": 5,
   "id": "df5ed8a5",
   "metadata": {},
   "outputs": [],
   "source": [
    "foods = pd.read_csv('list_of_foods.csv')\n",
    "foods_list = list(foods['Food'])\n",
    "foods_list_normalized = [normalize_text(f) for f in foods_list]\n",
    "foods_list_preprocessed = [food_trigram_model[f][0] for f in foods_list_normalized]\n",
    "foods_list_preprocessed = list(set(foods_list_preprocessed))"
   ]
  },
  {
   "cell_type": "code",
   "execution_count": 6,
   "id": "b4c16783",
   "metadata": {},
   "outputs": [],
   "source": [
    "foods_vecs = dict()\n",
    "\n",
    "word_vectors = wine_word2vec_model.wv\n",
    "for f in foods_list_preprocessed:\n",
    "    try:\n",
    "        food_vec = word_vectors[f]\n",
    "        foods_vecs[f] = food_vec\n",
    "    except:\n",
    "        continue"
   ]
  },
  {
   "cell_type": "code",
   "execution_count": 7,
   "id": "ae8a390e",
   "metadata": {},
   "outputs": [],
   "source": [
    "core_tastes_revised = {'weight': ['heavy', 'cassoulet', 'cassoulet', 'full_bodied', 'thick', 'milk', 'fat', 'mincemeat', 'steak', 'bold', 'pizza', 'pasta', 'creamy', 'bread'],\n",
    "                       'sweet': ['sweet', 'sugar', 'cake', 'mango', 'stevia'], \n",
    "                       'acid': ['acid', 'sour', 'vinegar', 'yoghurt', 'cevich', 'cevich'],\n",
    "                       'salt': ['salty', 'salty', 'parmesan', 'oyster', 'pizza', 'bacon', 'cured_meat', 'potato_chip'], \n",
    "                       'piquant': ['spicy'], \n",
    "                       'fat': ['fat', 'creamy', 'cassoulet', 'foie_gras', 'cake', 'foie_gras', 'brie', 'carbonara'], \n",
    "                       'bitter': ['bitter', 'kale']\n",
    "                      }\n",
    "\n",
    "average_taste_vecs = dict()\n",
    "core_tastes_distances = dict()\n",
    "for taste, keywords in core_tastes_revised.items():\n",
    "    \n",
    "    all_keyword_vecs = []\n",
    "    for keyword in keywords:\n",
    "        c_vec = word_vectors[keyword]\n",
    "        all_keyword_vecs.append(c_vec)\n",
    "    \n",
    "    avg_taste_vec = np.average(all_keyword_vecs, axis=0)\n",
    "    average_taste_vecs[taste] = avg_taste_vec\n",
    "        \n",
    "    taste_distances = dict()\n",
    "    for k, v in foods_vecs.items():\n",
    "        similarity = 1- spatial.distance.cosine(avg_taste_vec, v)\n",
    "        taste_distances[k] = similarity\n",
    "        \n",
    "    core_tastes_distances[taste] = taste_distances      "
   ]
  },
  {
   "cell_type": "code",
   "execution_count": 8,
   "id": "58f51716",
   "metadata": {},
   "outputs": [
    {
     "name": "stdout",
     "output_type": "stream",
     "text": [
      "weight dragonfruit pizza\n",
      "sweet venison honey\n",
      "acid hungri tart\n",
      "salt ice bacon\n",
      "piquant gelatin teriyaki\n",
      "fat pain cake\n",
      "bitter biscuit kale\n"
     ]
    }
   ],
   "source": [
    "food_nonaroma_infos = dict()\n",
    "# for each core taste, identify the food item that is farthest and closest. We will need this to create a normalized scale between 0 and 1\n",
    "for key, value in core_tastes_revised.items():\n",
    "    dict_taste = dict()\n",
    "    farthest = min(core_tastes_distances[key], key=core_tastes_distances[key].get)\n",
    "    farthest_distance = core_tastes_distances[key][farthest]\n",
    "    closest = max(core_tastes_distances[key], key=core_tastes_distances[key].get)\n",
    "    closest_distance = core_tastes_distances[key][closest]\n",
    "    print(key, farthest, closest)\n",
    "    dict_taste['farthest'] = farthest_distance\n",
    "    dict_taste['closest'] = closest_distance\n",
    "    dict_taste['average_vec'] = average_taste_vecs[key]\n",
    "    food_nonaroma_infos[key] = dict_taste"
   ]
  },
  {
   "cell_type": "code",
   "execution_count": 9,
   "id": "a1d4fdc7",
   "metadata": {},
   "outputs": [],
   "source": [
    "food_nonaroma_infos_df = pd.DataFrame(food_nonaroma_infos).T"
   ]
  },
  {
   "cell_type": "code",
   "execution_count": 10,
   "id": "612b88ed",
   "metadata": {},
   "outputs": [],
   "source": [
    "food_nonaroma_infos_df.to_csv('average_nonaroma_vectors.csv')"
   ]
  },
  {
   "cell_type": "code",
   "execution_count": 11,
   "id": "c60d9480",
   "metadata": {},
   "outputs": [],
   "source": [
    "food_nonaroma_infos = pd.read_csv('average_nonaroma_vectors.csv', index_col='Unnamed: 0')"
   ]
  },
  {
   "cell_type": "code",
   "execution_count": 12,
   "id": "d6c5adfe",
   "metadata": {},
   "outputs": [
    {
     "data": {
      "text/html": [
       "<div>\n",
       "<style scoped>\n",
       "    .dataframe tbody tr th:only-of-type {\n",
       "        vertical-align: middle;\n",
       "    }\n",
       "\n",
       "    .dataframe tbody tr th {\n",
       "        vertical-align: top;\n",
       "    }\n",
       "\n",
       "    .dataframe thead th {\n",
       "        text-align: right;\n",
       "    }\n",
       "</style>\n",
       "<table border=\"1\" class=\"dataframe\">\n",
       "  <thead>\n",
       "    <tr style=\"text-align: right;\">\n",
       "      <th></th>\n",
       "      <th>farthest</th>\n",
       "      <th>closest</th>\n",
       "      <th>average_vec</th>\n",
       "    </tr>\n",
       "  </thead>\n",
       "  <tbody>\n",
       "    <tr>\n",
       "      <th>weight</th>\n",
       "      <td>-0.110404</td>\n",
       "      <td>0.543864</td>\n",
       "      <td>[ 0.24076359  0.43425325 -0.04434961  0.090069...</td>\n",
       "    </tr>\n",
       "    <tr>\n",
       "      <th>sweet</th>\n",
       "      <td>-0.184637</td>\n",
       "      <td>0.560057</td>\n",
       "      <td>[-6.23854458e-01  1.26031005e+00  3.08796410e-...</td>\n",
       "    </tr>\n",
       "    <tr>\n",
       "      <th>acid</th>\n",
       "      <td>-0.122985</td>\n",
       "      <td>0.598332</td>\n",
       "      <td>[ 0.8224229   0.5588506   0.44359994 -0.222883...</td>\n",
       "    </tr>\n",
       "    <tr>\n",
       "      <th>salt</th>\n",
       "      <td>-0.135441</td>\n",
       "      <td>0.613997</td>\n",
       "      <td>[ 1.04816127e+00  6.13947153e-01 -3.70970070e-...</td>\n",
       "    </tr>\n",
       "    <tr>\n",
       "      <th>piquant</th>\n",
       "      <td>-0.153211</td>\n",
       "      <td>0.275217</td>\n",
       "      <td>[ 0.82449615  0.17294654  0.5056956   0.997986...</td>\n",
       "    </tr>\n",
       "    <tr>\n",
       "      <th>fat</th>\n",
       "      <td>-0.085688</td>\n",
       "      <td>0.578953</td>\n",
       "      <td>[ 6.1073273e-02  4.0769193e-01 -8.8821433e-02 ...</td>\n",
       "    </tr>\n",
       "    <tr>\n",
       "      <th>bitter</th>\n",
       "      <td>-0.166239</td>\n",
       "      <td>0.532240</td>\n",
       "      <td>[ 6.24758244e-01  1.39185119e+00  2.27915198e-...</td>\n",
       "    </tr>\n",
       "  </tbody>\n",
       "</table>\n",
       "</div>"
      ],
      "text/plain": [
       "         farthest   closest                                        average_vec\n",
       "weight  -0.110404  0.543864  [ 0.24076359  0.43425325 -0.04434961  0.090069...\n",
       "sweet   -0.184637  0.560057  [-6.23854458e-01  1.26031005e+00  3.08796410e-...\n",
       "acid    -0.122985  0.598332  [ 0.8224229   0.5588506   0.44359994 -0.222883...\n",
       "salt    -0.135441  0.613997  [ 1.04816127e+00  6.13947153e-01 -3.70970070e-...\n",
       "piquant -0.153211  0.275217  [ 0.82449615  0.17294654  0.5056956   0.997986...\n",
       "fat     -0.085688  0.578953  [ 6.1073273e-02  4.0769193e-01 -8.8821433e-02 ...\n",
       "bitter  -0.166239  0.532240  [ 6.24758244e-01  1.39185119e+00  2.27915198e-..."
      ]
     },
     "execution_count": 12,
     "metadata": {},
     "output_type": "execute_result"
    }
   ],
   "source": [
    "food_nonaroma_infos"
   ]
  },
  {
   "cell_type": "code",
   "execution_count": 13,
   "id": "33e0ae6c",
   "metadata": {},
   "outputs": [],
   "source": [
    "# this function scales each nonaroma between 0 and 1\n",
    "def minmax_scaler(val, minval, maxval):\n",
    "    val = max(min(val, maxval), minval)\n",
    "    normalized_val = (val - minval)/(maxval - minval)\n",
    "    return normalized_val\n",
    "\n",
    "# this function makes sure that a scaled value (between 0 and 1) is returned for a food nonaroma\n",
    "def check_in_range(label_range_dict, value):\n",
    "    for label, value_range_tuple in label_range_dict.items():\n",
    "        lower_end = value_range_tuple[0]\n",
    "        upper_end = value_range_tuple[1]\n",
    "        if value >= lower_end and value <= upper_end:\n",
    "            return label\n",
    "        else:\n",
    "            continue\n",
    "\n",
    "# this function calculates the average word embedding of all foods supplied as input\n",
    "def calculate_avg_food_vec(sample_foods):\n",
    "    sample_food_vecs = []\n",
    "    for s in sample_foods:\n",
    "        sample_food_vec = word_vectors[s]\n",
    "        sample_food_vecs.append(sample_food_vec)\n",
    "    sample_food_vecs_avg = np.average(sample_food_vecs, axis=0)\n",
    "    return sample_food_vecs_avg\n",
    "\n",
    "# this function returns two things: a score (between 0 and 1) and a normalized value (integer between 1 and 4) for a given nonaroma\n",
    "def nonaroma_values(nonaroma, average_food_embedding):\n",
    "    average_taste_vec = food_nonaroma_infos.at[nonaroma, 'average_vec']\n",
    "    average_taste_vec = re.sub('\\s+', ',', average_taste_vec)\n",
    "    average_taste_vec = average_taste_vec.replace('[,', '[')\n",
    "    average_taste_vec  = np.array(ast.literal_eval(average_taste_vec))\n",
    "\n",
    "    similarity = 1 - spatial.distance.cosine(average_taste_vec, average_food_embedding)\n",
    "    # scale the similarity using our minmax scaler\n",
    "    scaled_similarity = minmax_scaler(similarity, food_nonaroma_infos.at[nonaroma, 'farthest'], \n",
    "                                      food_nonaroma_infos.at[nonaroma, 'closest'])\n",
    "    standardized_similarity = check_in_range(food_weights[nonaroma], scaled_similarity)\n",
    "    similarity_and_scalar = (scaled_similarity, standardized_similarity)\n",
    "    return similarity_and_scalar\n",
    "\n",
    "# this function loops through the various nonaromas, returning the nonaroma scores & normalized values, the body/weight of the food and the average food embedding \n",
    "def return_all_food_values(sample_foods):\n",
    "    food_nonaromas = dict()\n",
    "    average_food_embedding = calculate_avg_food_vec(sample_foods)\n",
    "    for nonaroma in ['sweet', 'acid', 'salt', 'piquant', 'fat', 'bitter']:\n",
    "        food_nonaromas[nonaroma] = nonaroma_values(nonaroma, average_food_embedding)\n",
    "    food_weight = nonaroma_values('weight', average_food_embedding)\n",
    "    return food_nonaromas, food_weight, average_food_embedding"
   ]
  },
  {
   "cell_type": "code",
   "execution_count": 14,
   "id": "5d6c00c0",
   "metadata": {},
   "outputs": [],
   "source": [
    "# this is the mapping of food similarities to the normalized ordinal integer values between 1 and 4\n",
    "food_weights = {\n",
    "    'weight': {1: (0, 0.3), 2: (0.3, 0.5), 3: (0.5, 0.7), 4: (0.7, 1)},\n",
    "    'sweet': {1: (0, 0.45), 2: (0.45, 0.6), 3: (0.6, 0.8), 4: (0.8, 1)},\n",
    "    'acid': {1: (0, 0.4), 2: (0.4, 0.55), 3: (0.55, 0.7), 4: (0.7, 1)},\n",
    "    'salt': {1: (0, 0.3), 2: (0.3, 0.55), 3: (0.55, 0.8), 4: (0.8, 1)},\n",
    "    'piquant': {1: (0, 0.4), 2: (0.4, 0.6), 3: (0.6, 0.8), 4: (0.8, 1)},\n",
    "    'fat': {1: (0, 0.4), 2: (0.4, 0.5), 3: (0.5, 0.6), 4: (0.6, 1)},\n",
    "    'bitter': {1: (0, 0.3), 2: (0.3, 0.5), 3: (0.5, 0.65), 4: (0.65, 1)}\n",
    "}"
   ]
  },
  {
   "cell_type": "code",
   "execution_count": 18,
   "id": "7eb5b5da",
   "metadata": {},
   "outputs": [
    {
     "data": {
      "text/html": [
       "<div>\n",
       "<style scoped>\n",
       "    .dataframe tbody tr th:only-of-type {\n",
       "        vertical-align: middle;\n",
       "    }\n",
       "\n",
       "    .dataframe tbody tr th {\n",
       "        vertical-align: top;\n",
       "    }\n",
       "\n",
       "    .dataframe thead th {\n",
       "        text-align: right;\n",
       "    }\n",
       "</style>\n",
       "<table border=\"1\" class=\"dataframe\">\n",
       "  <thead>\n",
       "    <tr style=\"text-align: right;\">\n",
       "      <th></th>\n",
       "      <th>Pairing Food</th>\n",
       "      <th>Grape</th>\n",
       "      <th>Popularity</th>\n",
       "      <th>Critics' Score</th>\n",
       "      <th>Avg. Price kr / 750ml</th>\n",
       "      <th>Wine</th>\n",
       "      <th>Region</th>\n",
       "      <th>Country</th>\n",
       "      <th>name_pair</th>\n",
       "      <th>sweetness</th>\n",
       "      <th>acidity</th>\n",
       "      <th>piquancy</th>\n",
       "      <th>fattiness</th>\n",
       "      <th>bitterness</th>\n",
       "      <th>Alcohol</th>\n",
       "      <th>Price_Review</th>\n",
       "      <th>Vintage</th>\n",
       "      <th>name_wine_review</th>\n",
       "    </tr>\n",
       "  </thead>\n",
       "  <tbody>\n",
       "    <tr>\n",
       "      <th>0</th>\n",
       "      <td>beef and venison</td>\n",
       "      <td>Bordeaux Blend Red</td>\n",
       "      <td>1st</td>\n",
       "      <td>96 / 100</td>\n",
       "      <td>7,926</td>\n",
       "      <td>Chateau Mouton Rothschild</td>\n",
       "      <td>Pauillac</td>\n",
       "      <td>France</td>\n",
       "      <td>Bordeaux Blend Red Chateau Mouton Rothschild P...</td>\n",
       "      <td>-27.316847</td>\n",
       "      <td>-0.000972</td>\n",
       "      <td>-5.65303</td>\n",
       "      <td>-4.383264</td>\n",
       "      <td>-10.966054</td>\n",
       "      <td>14%</td>\n",
       "      <td>$675</td>\n",
       "      <td>2016.0</td>\n",
       "      <td>Bordeaux-style Red Blend ChÃ¢teau Mouton Roths...</td>\n",
       "    </tr>\n",
       "    <tr>\n",
       "      <th>1</th>\n",
       "      <td>beef and venison</td>\n",
       "      <td>Bordeaux Blend Red</td>\n",
       "      <td>3rd</td>\n",
       "      <td>96 / 100</td>\n",
       "      <td>10,564</td>\n",
       "      <td>Chateau Lafite Rothschild</td>\n",
       "      <td>Pauillac</td>\n",
       "      <td>France</td>\n",
       "      <td>Bordeaux Blend Red Chateau Lafite Rothschild P...</td>\n",
       "      <td>-0.000151</td>\n",
       "      <td>-0.000972</td>\n",
       "      <td>-5.65303</td>\n",
       "      <td>-4.383264</td>\n",
       "      <td>-10.966054</td>\n",
       "      <td>NaN</td>\n",
       "      <td>$869</td>\n",
       "      <td>2016.0</td>\n",
       "      <td>Bordeaux-style Red Blend ChÃ¢teau Lafite Roths...</td>\n",
       "    </tr>\n",
       "    <tr>\n",
       "      <th>2</th>\n",
       "      <td>beef and venison</td>\n",
       "      <td>Merlot</td>\n",
       "      <td>4th</td>\n",
       "      <td>96 / 100</td>\n",
       "      <td>47,971</td>\n",
       "      <td>Petrus</td>\n",
       "      <td>Pomerol</td>\n",
       "      <td>France</td>\n",
       "      <td>Merlot Petrus Pomerol France</td>\n",
       "      <td>-0.000151</td>\n",
       "      <td>-3.860945</td>\n",
       "      <td>-5.65303</td>\n",
       "      <td>-4.383264</td>\n",
       "      <td>27.357079</td>\n",
       "      <td>14%</td>\n",
       "      <td>$65</td>\n",
       "      <td>2014.0</td>\n",
       "      <td>Merlot ChÃ¢teau Fayat Pomerol France</td>\n",
       "    </tr>\n",
       "  </tbody>\n",
       "</table>\n",
       "</div>"
      ],
      "text/plain": [
       "       Pairing Food               Grape Popularity Critics' Score  \\\n",
       "0  beef and venison  Bordeaux Blend Red        1st       96 / 100   \n",
       "1  beef and venison  Bordeaux Blend Red        3rd       96 / 100   \n",
       "2  beef and venison              Merlot        4th       96 / 100   \n",
       "\n",
       "  Avg. Price kr / 750ml                       Wine     Region  Country  \\\n",
       "0                 7,926  Chateau Mouton Rothschild   Pauillac   France   \n",
       "1                10,564  Chateau Lafite Rothschild   Pauillac   France   \n",
       "2                47,971                     Petrus    Pomerol   France   \n",
       "\n",
       "                                           name_pair  sweetness   acidity  \\\n",
       "0  Bordeaux Blend Red Chateau Mouton Rothschild P... -27.316847 -0.000972   \n",
       "1  Bordeaux Blend Red Chateau Lafite Rothschild P...  -0.000151 -0.000972   \n",
       "2                       Merlot Petrus Pomerol France  -0.000151 -3.860945   \n",
       "\n",
       "   piquancy  fattiness  bitterness Alcohol Price_Review  Vintage  \\\n",
       "0  -5.65303  -4.383264  -10.966054     14%         $675   2016.0   \n",
       "1  -5.65303  -4.383264  -10.966054     NaN         $869   2016.0   \n",
       "2  -5.65303  -4.383264   27.357079     14%          $65   2014.0   \n",
       "\n",
       "                                    name_wine_review  \n",
       "0  Bordeaux-style Red Blend ChÃ¢teau Mouton Roths...  \n",
       "1  Bordeaux-style Red Blend ChÃ¢teau Lafite Roths...  \n",
       "2               Merlot ChÃ¢teau Fayat Pomerol France  "
      ]
     },
     "execution_count": 18,
     "metadata": {},
     "output_type": "execute_result"
    }
   ],
   "source": [
    "pair_df = pd.read_csv('pairing_food_append_wine_taste.csv')\n",
    "pair_df = pair_df.drop(columns=['Unnamed: 0'])\n",
    "pair_df.head(3)"
   ]
  },
  {
   "cell_type": "code",
   "execution_count": 19,
   "id": "12785818",
   "metadata": {},
   "outputs": [
    {
     "data": {
      "text/plain": [
       "array(['beef and venison', 'blue cheeses', 'brie and camembert',\n",
       "       'cakes and cream', 'cheddar and gruyere', 'chicken and turkey',\n",
       "       'chilis and hot spicy foods', 'chocolate and caramel',\n",
       "       'duck, goose and game birds', 'fruit-based desserts',\n",
       "       \"goats' cheese and feta\", 'lamb', 'manchego and parmesan',\n",
       "       'meaty and oily fish', 'mushrooms', 'pork, ham and cold meats',\n",
       "       'root vegetables and squashes', 'salads and green vegetables',\n",
       "       'shellfish, crab and lobster', 'tomato-based dishes', 'white fish'],\n",
       "      dtype=object)"
      ]
     },
     "execution_count": 19,
     "metadata": {},
     "output_type": "execute_result"
    }
   ],
   "source": [
    "pair_df['Pairing Food'].unique()"
   ]
  },
  {
   "cell_type": "code",
   "execution_count": 29,
   "id": "f6df01a4",
   "metadata": {},
   "outputs": [
    {
     "data": {
      "text/plain": [
       "{'sweet': (0.14189681132049217, 1),\n",
       " 'acid': (0.3181446620030892, 1),\n",
       " 'salt': (0.6552644575786216, 3),\n",
       " 'piquant': (0.4730964736715084, 2),\n",
       " 'fat': (0.42086276068404743, 2),\n",
       " 'bitter': (0.2282057906088553, 1)}"
      ]
     },
     "execution_count": 29,
     "metadata": {},
     "output_type": "execute_result"
    }
   ],
   "source": [
    "food_beef = ['beef']\n",
    "food_nonaromas_beef_and_vension, food_weight, aroma_embedding = return_all_food_values(food_beef)\n",
    "food_nonaromas_beef_and_vension"
   ]
  },
  {
   "cell_type": "code",
   "execution_count": 33,
   "id": "8cb84011",
   "metadata": {},
   "outputs": [
    {
     "data": {
      "text/plain": [
       "{'sweet': (0.3561509274468511, 1),\n",
       " 'acid': (0.48954826863947964, 2),\n",
       " 'salt': (0.794095945943736, 3),\n",
       " 'piquant': (0.5442537591518815, 2),\n",
       " 'fat': (0.6118928098591325, 4),\n",
       " 'bitter': (0.34129564233626464, 2)}"
      ]
     },
     "execution_count": 33,
     "metadata": {},
     "output_type": "execute_result"
    }
   ],
   "source": [
    "food_blue_cheese = ['blue', 'cheese']\n",
    "food_nonaromas_blue_cheese, food_weight, aroma_embedding = return_all_food_values(food_blue_cheese)\n",
    "food_nonaromas_blue_cheese"
   ]
  },
  {
   "cell_type": "code",
   "execution_count": 87,
   "id": "a1f0f341",
   "metadata": {},
   "outputs": [
    {
     "data": {
      "text/plain": [
       "{'sweet': (0.44752871316299375, 1),\n",
       " 'acid': (0.4732374658476264, 2),\n",
       " 'salt': (0.8269178097409339, 4),\n",
       " 'piquant': (0.5804622838269446, 2),\n",
       " 'fat': (0.874639255187634, 4),\n",
       " 'bitter': (0.44008251165727613, 2)}"
      ]
     },
     "execution_count": 87,
     "metadata": {},
     "output_type": "execute_result"
    }
   ],
   "source": [
    "food_brie = ['brie', 'camembert']\n",
    "food_nonaromas_brie, food_weight, aroma_embedding = return_all_food_values(food_brie)\n",
    "food_nonaromas_brie"
   ]
  },
  {
   "cell_type": "code",
   "execution_count": 88,
   "id": "ecef2ec4",
   "metadata": {},
   "outputs": [
    {
     "data": {
      "text/plain": [
       "{'sweet': (1.0, 4),\n",
       " 'acid': (0.5398360444227153, 2),\n",
       " 'salt': (0.36940689218868045, 2),\n",
       " 'piquant': (0.4043840806390277, 2),\n",
       " 'fat': (0.9831584853419457, 4),\n",
       " 'bitter': (0.5535153083946551, 3)}"
      ]
     },
     "execution_count": 88,
     "metadata": {},
     "output_type": "execute_result"
    }
   ],
   "source": [
    "food_cake = ['cake', 'cream']\n",
    "food_nonaromas_cake, food_weight, aroma_embedding = return_all_food_values(food_cake)\n",
    "food_nonaromas_cake"
   ]
  },
  {
   "cell_type": "code",
   "execution_count": 89,
   "id": "b8878cfb",
   "metadata": {},
   "outputs": [
    {
     "data": {
      "text/plain": [
       "{'sweet': (0.33049645627921886, 1),\n",
       " 'acid': (0.46982335962171695, 2),\n",
       " 'salt': (0.8239100300075216, 4),\n",
       " 'piquant': (0.5459273538390678, 2),\n",
       " 'fat': (0.37280288881269075, 1),\n",
       " 'bitter': (0.39679119061213425, 2)}"
      ]
     },
     "execution_count": 89,
     "metadata": {},
     "output_type": "execute_result"
    }
   ],
   "source": [
    "food_cheddar = ['cheddar']\n",
    "food_nonaromas_cheddar, food_weight, aroma_embedding = return_all_food_values(food_cheddar)\n",
    "food_nonaromas_cheddar"
   ]
  },
  {
   "cell_type": "code",
   "execution_count": 90,
   "id": "7091c771",
   "metadata": {},
   "outputs": [
    {
     "data": {
      "text/plain": [
       "{'sweet': (0.10357514003649179, 1),\n",
       " 'acid': (0.30835336383947537, 1),\n",
       " 'salt': (0.6163068269126257, 3),\n",
       " 'piquant': (0.4584774697842983, 2),\n",
       " 'fat': (0.4604437268746159, 2),\n",
       " 'bitter': (0.12284443616566292, 1)}"
      ]
     },
     "execution_count": 90,
     "metadata": {},
     "output_type": "execute_result"
    }
   ],
   "source": [
    "food_chicken = ['chicken', 'turkey']\n",
    "food_nonaromas_chicken, food_weight, aroma_embedding = return_all_food_values(food_chicken)\n",
    "food_nonaromas_chicken"
   ]
  },
  {
   "cell_type": "code",
   "execution_count": 91,
   "id": "db1f2861",
   "metadata": {},
   "outputs": [
    {
     "data": {
      "text/plain": [
       "{'sweet': (0.3696166277970507, 1),\n",
       " 'acid': (0.5984811130561692, 3),\n",
       " 'salt': (0.5137539752638228, 2),\n",
       " 'piquant': (1.0, 4),\n",
       " 'fat': (0.27171653135120505, 1),\n",
       " 'bitter': (0.44757731955647717, 2)}"
      ]
     },
     "execution_count": 91,
     "metadata": {},
     "output_type": "execute_result"
    }
   ],
   "source": [
    "food_spicy = ['spicy']\n",
    "food_nonaromas_spicy, food_weight, aroma_embedding = return_all_food_values(food_spicy)\n",
    "food_nonaromas_spicy"
   ]
  },
  {
   "cell_type": "code",
   "execution_count": 92,
   "id": "be5fe9f3",
   "metadata": {},
   "outputs": [
    {
     "data": {
      "text/plain": [
       "{'sweet': (0.9619885370890124, 4),\n",
       " 'acid': (0.5346639758154086, 2),\n",
       " 'salt': (0.34472727025370425, 2),\n",
       " 'piquant': (0.5446808439097817, 2),\n",
       " 'fat': (0.6016893690396977, 4),\n",
       " 'bitter': (0.6046423661708037, 3)}"
      ]
     },
     "execution_count": 92,
     "metadata": {},
     "output_type": "execute_result"
    }
   ],
   "source": [
    "food_chocolate = ['chocolate', 'caramel']\n",
    "food_nonaromas_chocolate, food_weight, aroma_embedding = return_all_food_values(food_chocolate)\n",
    "food_nonaromas_chocolate"
   ]
  },
  {
   "cell_type": "code",
   "execution_count": 93,
   "id": "3d47049f",
   "metadata": {},
   "outputs": [
    {
     "data": {
      "text/plain": [
       "{'sweet': (0.006519498643254949, 1),\n",
       " 'acid': (0.14808009760578617, 1),\n",
       " 'salt': (0.3354980267619829, 2),\n",
       " 'piquant': (0.3341350524962817, 1),\n",
       " 'fat': (0.26348944259850626, 1),\n",
       " 'bitter': (0.0617347617266899, 1)}"
      ]
     },
     "execution_count": 93,
     "metadata": {},
     "output_type": "execute_result"
    }
   ],
   "source": [
    "food_duck = ['duck']\n",
    "food_nonaromas_duck, food_weight, aroma_embedding = return_all_food_values(food_duck)\n",
    "food_nonaromas_duck"
   ]
  },
  {
   "cell_type": "code",
   "execution_count": 94,
   "id": "d74b3b16",
   "metadata": {},
   "outputs": [
    {
     "data": {
      "text/plain": [
       "{'sweet': (0.978387497024766, 4),\n",
       " 'acid': (0.6293638409611867, 3),\n",
       " 'salt': (0.42815593983853517, 2),\n",
       " 'piquant': (0.42915533347168816, 2),\n",
       " 'fat': (0.7217314266133997, 4),\n",
       " 'bitter': (0.5908920905401812, 3)}"
      ]
     },
     "execution_count": 94,
     "metadata": {},
     "output_type": "execute_result"
    }
   ],
   "source": [
    "food_fruit = ['fruit', 'dessert']\n",
    "food_nonaromas_fruit, food_weight, aroma_embedding = return_all_food_values(food_fruit)\n",
    "food_nonaromas_fruit"
   ]
  },
  {
   "cell_type": "code",
   "execution_count": 95,
   "id": "d9ab2722",
   "metadata": {},
   "outputs": [
    {
     "data": {
      "text/plain": [
       "{'sweet': (0.2761369535840878, 1),\n",
       " 'acid': (0.5709529035105834, 3),\n",
       " 'salt': (1.0, 4),\n",
       " 'piquant': (0.677527011966388, 3),\n",
       " 'fat': (0.7577317609516822, 4),\n",
       " 'bitter': (0.4364221261900417, 2)}"
      ]
     },
     "execution_count": 95,
     "metadata": {},
     "output_type": "execute_result"
    }
   ],
   "source": [
    "food_feta = ['goat', 'cheese', 'feta']\n",
    "food_nonaromas_feta, food_weight, aroma_embedding = return_all_food_values(food_feta)\n",
    "food_nonaromas_feta"
   ]
  },
  {
   "cell_type": "code",
   "execution_count": 101,
   "id": "f90d9d41",
   "metadata": {},
   "outputs": [
    {
     "data": {
      "text/plain": [
       "{'sweet': (0.14689989733093714, 1),\n",
       " 'acid': (0.2997187967763121, 1),\n",
       " 'salt': (0.43185307605279594, 2),\n",
       " 'piquant': (0.38606852823728444, 1),\n",
       " 'fat': (0.2929943318067957, 1),\n",
       " 'bitter': (0.19335981965436308, 1)}"
      ]
     },
     "execution_count": 101,
     "metadata": {},
     "output_type": "execute_result"
    }
   ],
   "source": [
    "food_lamb = ['lamb']\n",
    "food_nonaromas_lamb, food_weight, aroma_embedding = return_all_food_values(food_lamb)\n",
    "food_nonaromas_lamb"
   ]
  },
  {
   "cell_type": "code",
   "execution_count": 102,
   "id": "971e1cbe",
   "metadata": {},
   "outputs": [
    {
     "data": {
      "text/plain": [
       "{'sweet': (0.3540694814984046, 1),\n",
       " 'acid': (0.45162284884951104, 2),\n",
       " 'salt': (1.0, 4),\n",
       " 'piquant': (0.7049649581010795, 3),\n",
       " 'fat': (0.6297846027058643, 4),\n",
       " 'bitter': (0.47389320995147527, 2)}"
      ]
     },
     "execution_count": 102,
     "metadata": {},
     "output_type": "execute_result"
    }
   ],
   "source": [
    "food_manchego = ['manchego', 'parmesan']\n",
    "food_nonaromas_manchego, food_weight, aroma_embedding = return_all_food_values(food_manchego)\n",
    "food_nonaromas_manchego"
   ]
  },
  {
   "cell_type": "code",
   "execution_count": 103,
   "id": "6fa51fb1",
   "metadata": {},
   "outputs": [
    {
     "data": {
      "text/plain": [
       "{'sweet': (0.3202083886685246, 1),\n",
       " 'acid': (0.6615979737723163, 3),\n",
       " 'salt': (0.7957911707831249, 3),\n",
       " 'piquant': (0.7640370104140831, 3),\n",
       " 'fat': (0.5989390316912432, 3),\n",
       " 'bitter': (0.5537217723742949, 3)}"
      ]
     },
     "execution_count": 103,
     "metadata": {},
     "output_type": "execute_result"
    }
   ],
   "source": [
    "food_meaty_fish = ['meaty', 'oily', 'fish']\n",
    "food_nonaromas_meaty_fish, food_weight, aroma_embedding = return_all_food_values(food_meaty_fish)\n",
    "food_nonaromas_meaty_fish"
   ]
  },
  {
   "cell_type": "code",
   "execution_count": 104,
   "id": "5e1f575d",
   "metadata": {},
   "outputs": [
    {
     "data": {
      "text/plain": [
       "{'sweet': (0.361848989146613, 1),\n",
       " 'acid': (0.479173818922394, 2),\n",
       " 'salt': (0.7496693811845111, 3),\n",
       " 'piquant': (0.5399000867685624, 2),\n",
       " 'fat': (0.43088640507474885, 2),\n",
       " 'bitter': (0.5209780065296126, 3)}"
      ]
     },
     "execution_count": 104,
     "metadata": {},
     "output_type": "execute_result"
    }
   ],
   "source": [
    "food_mushroom = ['mushroom']\n",
    "food_nonaromas_mushroom, food_weight, aroma_embedding = return_all_food_values(food_mushroom)\n",
    "food_nonaromas_mushroom"
   ]
  },
  {
   "cell_type": "code",
   "execution_count": 105,
   "id": "90c1832d",
   "metadata": {},
   "outputs": [
    {
     "data": {
      "text/plain": [
       "{'sweet': (0.31027021038634073, 1),\n",
       " 'acid': (0.5597675761205688, 3),\n",
       " 'salt': (0.8700898812079234, 4),\n",
       " 'piquant': (0.6295898342339498, 3),\n",
       " 'fat': (0.6636865853814002, 4),\n",
       " 'bitter': (0.3264533391751719, 2)}"
      ]
     },
     "execution_count": 105,
     "metadata": {},
     "output_type": "execute_result"
    }
   ],
   "source": [
    "food_pork = ['pork', 'ham', 'cold', 'meat']\n",
    "food_nonaromas_pork, food_weight, aroma_embedding = return_all_food_values(food_pork)\n",
    "food_nonaromas_pork"
   ]
  },
  {
   "cell_type": "code",
   "execution_count": 106,
   "id": "d8a9fc79",
   "metadata": {},
   "outputs": [
    {
     "data": {
      "text/plain": [
       "{'sweet': (0.42822638614486414, 1),\n",
       " 'acid': (0.3959429097602086, 1),\n",
       " 'salt': (0.28749200998007457, 1),\n",
       " 'piquant': (0.3203732204110389, 1),\n",
       " 'fat': (0.25390341769213076, 1),\n",
       " 'bitter': (0.5044450157468893, 3)}"
      ]
     },
     "execution_count": 106,
     "metadata": {},
     "output_type": "execute_result"
    }
   ],
   "source": [
    "food_root = ['root', 'squash']\n",
    "food_nonaromas_root, food_weight, aroma_embedding = return_all_food_values(food_root)\n",
    "food_nonaromas_root"
   ]
  },
  {
   "cell_type": "code",
   "execution_count": 107,
   "id": "254fbef9",
   "metadata": {},
   "outputs": [
    {
     "data": {
      "text/plain": [
       "{'sweet': (0.47989491174210985, 2),\n",
       " 'acid': (0.7278642649875963, 4),\n",
       " 'salt': (0.597343756936542, 3),\n",
       " 'piquant': (0.6360630099264419, 3),\n",
       " 'fat': (0.40935283955266005, 2),\n",
       " 'bitter': (0.7332720299365881, 4)}"
      ]
     },
     "execution_count": 107,
     "metadata": {},
     "output_type": "execute_result"
    }
   ],
   "source": [
    "food_salad = ['salad', 'green']\n",
    "food_nonaromas_salad, food_weight, aroma_embedding = return_all_food_values(food_salad)\n",
    "food_nonaromas_salad"
   ]
  },
  {
   "cell_type": "code",
   "execution_count": 108,
   "id": "f8ef4840",
   "metadata": {},
   "outputs": [
    {
     "data": {
      "text/plain": [
       "{'sweet': (0.22437525283996917, 1),\n",
       " 'acid': (0.4497198446719201, 2),\n",
       " 'salt': (0.8525323433010747, 4),\n",
       " 'piquant': (0.5834674660754088, 2),\n",
       " 'fat': (0.7013883705494809, 4),\n",
       " 'bitter': (0.19277164838102537, 1)}"
      ]
     },
     "execution_count": 108,
     "metadata": {},
     "output_type": "execute_result"
    }
   ],
   "source": [
    "food_shellfish = ['shellfish', 'crab', 'lobster']\n",
    "food_nonaromas_shellfish, food_weight, aroma_embedding = return_all_food_values(food_shellfish)\n",
    "food_nonaromas_shellfish"
   ]
  },
  {
   "cell_type": "code",
   "execution_count": 109,
   "id": "0ae6d734",
   "metadata": {},
   "outputs": [
    {
     "data": {
      "text/plain": [
       "{'sweet': (0.4765833638726764, 2),\n",
       " 'acid': (0.7596654492321429, 4),\n",
       " 'salt': (0.7186933433053033, 3),\n",
       " 'piquant': (0.6381221551947095, 3),\n",
       " 'fat': (0.383053442232683, 1),\n",
       " 'bitter': (0.6509030771098047, 4)}"
      ]
     },
     "execution_count": 109,
     "metadata": {},
     "output_type": "execute_result"
    }
   ],
   "source": [
    "food_tomato = ['tomato']\n",
    "food_nonaromas_tomato, food_weight, aroma_embedding = return_all_food_values(food_tomato)\n",
    "food_nonaromas_tomato"
   ]
  },
  {
   "cell_type": "code",
   "execution_count": 110,
   "id": "ca43d76c",
   "metadata": {},
   "outputs": [
    {
     "data": {
      "text/plain": [
       "{'sweet': (0.39061669372189767, 1),\n",
       " 'acid': (0.5242231768059176, 2),\n",
       " 'salt': (0.5495168175988254, 2),\n",
       " 'piquant': (0.372132901898822, 1),\n",
       " 'fat': (0.5151510563577111, 3),\n",
       " 'bitter': (0.3689318223691101, 2)}"
      ]
     },
     "execution_count": 110,
     "metadata": {},
     "output_type": "execute_result"
    }
   ],
   "source": [
    "food_white_fish = ['white', 'fish']\n",
    "food_nonaromas_white_fish, food_weight, aroma_embedding = return_all_food_values(food_white_fish)\n",
    "food_nonaromas_white_fish"
   ]
  },
  {
   "cell_type": "code",
   "execution_count": 112,
   "id": "84ecf2f7",
   "metadata": {},
   "outputs": [
    {
     "name": "stderr",
     "output_type": "stream",
     "text": [
      "9747it [00:00, 19731.66it/s]\n"
     ]
    }
   ],
   "source": [
    "sweetness_list_food = []\n",
    "acidity_list_food = []\n",
    "salinity_list_food = []\n",
    "piquancy_list_food = []\n",
    "fattiness_list_food = []\n",
    "bitterness_list_food = []\n",
    "\n",
    "for index, row in tqdm(pair_df.iterrows()):\n",
    "    food_name = row['Pairing Food']\n",
    "    \n",
    "    if food_name == 'beef and venison':\n",
    "        sweetness_list_food.append(food_nonaromas_beef_and_vension['sweet'][0])\n",
    "        acidity_list_food.append(food_nonaromas_beef_and_vension['acid'][0])\n",
    "        salinity_list_food.append(food_nonaromas_beef_and_vension['salt'][0])\n",
    "        piquancy_list_food.append(food_nonaromas_beef_and_vension['piquant'][0])\n",
    "        fattiness_list_food.append(food_nonaromas_beef_and_vension['fat'][0])\n",
    "        bitterness_list_food.append(food_nonaromas_beef_and_vension['bitter'][0])\n",
    "    if food_name == 'blue cheeses':\n",
    "        sweetness_list_food.append(food_nonaromas_blue_cheese['sweet'][0])\n",
    "        acidity_list_food.append(food_nonaromas_blue_cheese['acid'][0])\n",
    "        salinity_list_food.append(food_nonaromas_blue_cheese['salt'][0])\n",
    "        piquancy_list_food.append(food_nonaromas_blue_cheese['piquant'][0])\n",
    "        fattiness_list_food.append(food_nonaromas_blue_cheese['fat'][0])\n",
    "        bitterness_list_food.append(food_nonaromas_blue_cheese['bitter'][0])\n",
    "    if food_name == 'brie and camembert':\n",
    "        sweetness_list_food.append(food_nonaromas_brie['sweet'][0])\n",
    "        acidity_list_food.append(food_nonaromas_brie['acid'][0])\n",
    "        salinity_list_food.append(food_nonaromas_brie['salt'][0])\n",
    "        piquancy_list_food.append(food_nonaromas_brie['piquant'][0])\n",
    "        fattiness_list_food.append(food_nonaromas_brie['fat'][0])\n",
    "        bitterness_list_food.append(food_nonaromas_brie['bitter'][0])\n",
    "    if food_name == 'cakes and cream':\n",
    "        sweetness_list_food.append(food_nonaromas_cake['sweet'][0])\n",
    "        acidity_list_food.append(food_nonaromas_cake['acid'][0])\n",
    "        salinity_list_food.append(food_nonaromas_cake['salt'][0])\n",
    "        piquancy_list_food.append(food_nonaromas_cake['piquant'][0])\n",
    "        fattiness_list_food.append(food_nonaromas_cake['fat'][0])\n",
    "        bitterness_list_food.append(food_nonaromas_cake['bitter'][0])\n",
    "    if food_name == 'cheddar and gruyere':\n",
    "        sweetness_list_food.append(food_nonaromas_cheddar['sweet'][0])\n",
    "        acidity_list_food.append(food_nonaromas_cheddar['acid'][0])\n",
    "        salinity_list_food.append(food_nonaromas_cheddar['salt'][0])\n",
    "        piquancy_list_food.append(food_nonaromas_cheddar['piquant'][0])\n",
    "        fattiness_list_food.append(food_nonaromas_cheddar['fat'][0])\n",
    "        bitterness_list_food.append(food_nonaromas_cheddar['bitter'][0])\n",
    "    if food_name == 'chicken and turkey':\n",
    "        sweetness_list_food.append(food_nonaromas_chicken['sweet'][0])\n",
    "        acidity_list_food.append(food_nonaromas_chicken['acid'][0])\n",
    "        salinity_list_food.append(food_nonaromas_chicken['salt'][0])\n",
    "        piquancy_list_food.append(food_nonaromas_chicken['piquant'][0])\n",
    "        fattiness_list_food.append(food_nonaromas_chicken['fat'][0])\n",
    "        bitterness_list_food.append(food_nonaromas_chicken['bitter'][0])\n",
    "    if food_name == 'chilis and hot spicy foods':\n",
    "        sweetness_list_food.append(food_nonaromas_spicy['sweet'][0])\n",
    "        acidity_list_food.append(food_nonaromas_spicy['acid'][0])\n",
    "        salinity_list_food.append(food_nonaromas_spicy['salt'][0])\n",
    "        piquancy_list_food.append(food_nonaromas_spicy['piquant'][0])\n",
    "        fattiness_list_food.append(food_nonaromas_spicy['fat'][0])\n",
    "        bitterness_list_food.append(food_nonaromas_spicy['bitter'][0])\n",
    "    if food_name == 'chocolate and caramel':\n",
    "        sweetness_list_food.append(food_nonaromas_chocolate['sweet'][0])\n",
    "        acidity_list_food.append(food_nonaromas_chocolate['acid'][0])\n",
    "        salinity_list_food.append(food_nonaromas_chocolate['salt'][0])\n",
    "        piquancy_list_food.append(food_nonaromas_chocolate['piquant'][0])\n",
    "        fattiness_list_food.append(food_nonaromas_chocolate['fat'][0])\n",
    "        bitterness_list_food.append(food_nonaromas_chocolate['bitter'][0])\n",
    "    if food_name == 'duck, goose and game birds':\n",
    "        sweetness_list_food.append(food_nonaromas_duck['sweet'][0])\n",
    "        acidity_list_food.append(food_nonaromas_duck['acid'][0])\n",
    "        salinity_list_food.append(food_nonaromas_duck['salt'][0])\n",
    "        piquancy_list_food.append(food_nonaromas_duck['piquant'][0])\n",
    "        fattiness_list_food.append(food_nonaromas_duck['fat'][0])\n",
    "        bitterness_list_food.append(food_nonaromas_duck['bitter'][0])\n",
    "    if food_name == 'fruit-based desserts':\n",
    "        sweetness_list_food.append(food_nonaromas_fruit['sweet'][0])\n",
    "        acidity_list_food.append(food_nonaromas_fruit['acid'][0])\n",
    "        salinity_list_food.append(food_nonaromas_fruit['salt'][0])\n",
    "        piquancy_list_food.append(food_nonaromas_fruit['piquant'][0])\n",
    "        fattiness_list_food.append(food_nonaromas_fruit['fat'][0])\n",
    "        bitterness_list_food.append(food_nonaromas_fruit['bitter'][0])\n",
    "    if food_name == \"goats' cheese and feta\":\n",
    "        sweetness_list_food.append(food_nonaromas_feta['sweet'][0])\n",
    "        acidity_list_food.append(food_nonaromas_feta['acid'][0])\n",
    "        salinity_list_food.append(food_nonaromas_feta['salt'][0])\n",
    "        piquancy_list_food.append(food_nonaromas_feta['piquant'][0])\n",
    "        fattiness_list_food.append(food_nonaromas_feta['fat'][0])\n",
    "        bitterness_list_food.append(food_nonaromas_feta['bitter'][0])\n",
    "    if food_name == 'lamb':\n",
    "        sweetness_list_food.append(food_nonaromas_lamb['sweet'][0])\n",
    "        acidity_list_food.append(food_nonaromas_lamb['acid'][0])\n",
    "        salinity_list_food.append(food_nonaromas_lamb['salt'][0])\n",
    "        piquancy_list_food.append(food_nonaromas_lamb['piquant'][0])\n",
    "        fattiness_list_food.append(food_nonaromas_lamb['fat'][0])\n",
    "        bitterness_list_food.append(food_nonaromas_lamb['bitter'][0])\n",
    "    if food_name == 'manchego and parmesan':\n",
    "        sweetness_list_food.append(food_nonaromas_manchego['sweet'][0])\n",
    "        acidity_list_food.append(food_nonaromas_manchego['acid'][0])\n",
    "        salinity_list_food.append(food_nonaromas_manchego['salt'][0])\n",
    "        piquancy_list_food.append(food_nonaromas_manchego['piquant'][0])\n",
    "        fattiness_list_food.append(food_nonaromas_manchego['fat'][0])\n",
    "        bitterness_list_food.append(food_nonaromas_manchego['bitter'][0])\n",
    "    if food_name == 'meaty and oily fish':\n",
    "        sweetness_list_food.append(food_nonaromas_meaty_fish['sweet'][0])\n",
    "        acidity_list_food.append(food_nonaromas_meaty_fish['acid'][0])\n",
    "        salinity_list_food.append(food_nonaromas_meaty_fish['salt'][0])\n",
    "        piquancy_list_food.append(food_nonaromas_meaty_fish['piquant'][0])\n",
    "        fattiness_list_food.append(food_nonaromas_meaty_fish['fat'][0])\n",
    "        bitterness_list_food.append(food_nonaromas_meaty_fish['bitter'][0])\n",
    "    if food_name == 'mushrooms':\n",
    "        sweetness_list_food.append(food_nonaromas_mushroom['sweet'][0])\n",
    "        acidity_list_food.append(food_nonaromas_mushroom['acid'][0])\n",
    "        salinity_list_food.append(food_nonaromas_mushroom['salt'][0])\n",
    "        piquancy_list_food.append(food_nonaromas_mushroom['piquant'][0])\n",
    "        fattiness_list_food.append(food_nonaromas_mushroom['fat'][0])\n",
    "        bitterness_list_food.append(food_nonaromas_mushroom['bitter'][0])\n",
    "    if food_name == 'pork, ham and cold meats':\n",
    "        sweetness_list_food.append(food_nonaromas_pork['sweet'][0])\n",
    "        acidity_list_food.append(food_nonaromas_pork['acid'][0])\n",
    "        salinity_list_food.append(food_nonaromas_pork['salt'][0])\n",
    "        piquancy_list_food.append(food_nonaromas_pork['piquant'][0])\n",
    "        fattiness_list_food.append(food_nonaromas_pork['fat'][0])\n",
    "        bitterness_list_food.append(food_nonaromas_pork['bitter'][0])\n",
    "    if food_name == 'root vegetables and squashes':\n",
    "        sweetness_list_food.append(food_nonaromas_root['sweet'][0])\n",
    "        acidity_list_food.append(food_nonaromas_root['acid'][0])\n",
    "        salinity_list_food.append(food_nonaromas_root['salt'][0])\n",
    "        piquancy_list_food.append(food_nonaromas_root['piquant'][0])\n",
    "        fattiness_list_food.append(food_nonaromas_root['fat'][0])\n",
    "        bitterness_list_food.append(food_nonaromas_root['bitter'][0])\n",
    "    if food_name == 'salads and green vegetables':\n",
    "        sweetness_list_food.append(food_nonaromas_salad['sweet'][0])\n",
    "        acidity_list_food.append(food_nonaromas_salad['acid'][0])\n",
    "        salinity_list_food.append(food_nonaromas_salad['salt'][0])\n",
    "        piquancy_list_food.append(food_nonaromas_salad['piquant'][0])\n",
    "        fattiness_list_food.append(food_nonaromas_salad['fat'][0])\n",
    "        bitterness_list_food.append(food_nonaromas_salad['bitter'][0])\n",
    "    if food_name == 'shellfish, crab and lobster':\n",
    "        sweetness_list_food.append(food_nonaromas_shellfish['sweet'][0])\n",
    "        acidity_list_food.append(food_nonaromas_shellfish['acid'][0])\n",
    "        salinity_list_food.append(food_nonaromas_shellfish['salt'][0])\n",
    "        piquancy_list_food.append(food_nonaromas_shellfish['piquant'][0])\n",
    "        fattiness_list_food.append(food_nonaromas_shellfish['fat'][0])\n",
    "        bitterness_list_food.append(food_nonaromas_shellfish['bitter'][0])\n",
    "    if food_name == 'tomato-based dishes':\n",
    "        sweetness_list_food.append(food_nonaromas_tomato['sweet'][0])\n",
    "        acidity_list_food.append(food_nonaromas_tomato['acid'][0])\n",
    "        salinity_list_food.append(food_nonaromas_tomato['salt'][0])\n",
    "        piquancy_list_food.append(food_nonaromas_tomato['piquant'][0])\n",
    "        fattiness_list_food.append(food_nonaromas_tomato['fat'][0])\n",
    "        bitterness_list_food.append(food_nonaromas_tomato['bitter'][0])\n",
    "    if food_name == 'white fish':\n",
    "        sweetness_list_food.append(food_nonaromas_white_fish['sweet'][0])\n",
    "        acidity_list_food.append(food_nonaromas_white_fish['acid'][0])\n",
    "        salinity_list_food.append(food_nonaromas_white_fish['salt'][0])\n",
    "        piquancy_list_food.append(food_nonaromas_white_fish['piquant'][0])\n",
    "        fattiness_list_food.append(food_nonaromas_white_fish['fat'][0])\n",
    "        bitterness_list_food.append(food_nonaromas_white_fish['bitter'][0])"
   ]
  },
  {
   "cell_type": "code",
   "execution_count": 113,
   "id": "34954441",
   "metadata": {},
   "outputs": [],
   "source": [
    "pair_df_test = pair_df.copy()\n",
    "pair_df_test['sweetness_food'] = sweetness_list_food\n",
    "pair_df_test['acidity_food'] = acidity_list_food\n",
    "pair_df_test['salinity_food'] = salinity_list_food\n",
    "pair_df_test['piquancy_food'] = piquancy_list_food\n",
    "pair_df_test['fattiness_food'] = fattiness_list_food\n",
    "pair_df_test['bitterness_food'] = bitterness_list_food"
   ]
  },
  {
   "cell_type": "code",
   "execution_count": 115,
   "id": "e808d59c",
   "metadata": {},
   "outputs": [
    {
     "data": {
      "text/html": [
       "<div>\n",
       "<style scoped>\n",
       "    .dataframe tbody tr th:only-of-type {\n",
       "        vertical-align: middle;\n",
       "    }\n",
       "\n",
       "    .dataframe tbody tr th {\n",
       "        vertical-align: top;\n",
       "    }\n",
       "\n",
       "    .dataframe thead th {\n",
       "        text-align: right;\n",
       "    }\n",
       "</style>\n",
       "<table border=\"1\" class=\"dataframe\">\n",
       "  <thead>\n",
       "    <tr style=\"text-align: right;\">\n",
       "      <th></th>\n",
       "      <th>Pairing Food</th>\n",
       "      <th>Grape</th>\n",
       "      <th>Popularity</th>\n",
       "      <th>Critics' Score</th>\n",
       "      <th>Avg. Price kr / 750ml</th>\n",
       "      <th>Wine</th>\n",
       "      <th>Region</th>\n",
       "      <th>Country</th>\n",
       "      <th>name_pair</th>\n",
       "      <th>sweetness</th>\n",
       "      <th>acidity</th>\n",
       "      <th>piquancy</th>\n",
       "      <th>fattiness</th>\n",
       "      <th>bitterness</th>\n",
       "      <th>Alcohol</th>\n",
       "      <th>Price_Review</th>\n",
       "      <th>Vintage</th>\n",
       "      <th>name_wine_review</th>\n",
       "      <th>sweetness_food</th>\n",
       "      <th>acidity_food</th>\n",
       "      <th>salinity_food</th>\n",
       "      <th>piquancy_food</th>\n",
       "      <th>fattiness_food</th>\n",
       "      <th>bitterness_food</th>\n",
       "    </tr>\n",
       "  </thead>\n",
       "  <tbody>\n",
       "    <tr>\n",
       "      <th>0</th>\n",
       "      <td>beef and venison</td>\n",
       "      <td>Bordeaux Blend Red</td>\n",
       "      <td>1st</td>\n",
       "      <td>96 / 100</td>\n",
       "      <td>7,926</td>\n",
       "      <td>Chateau Mouton Rothschild</td>\n",
       "      <td>Pauillac</td>\n",
       "      <td>France</td>\n",
       "      <td>Bordeaux Blend Red Chateau Mouton Rothschild P...</td>\n",
       "      <td>-27.316847</td>\n",
       "      <td>-0.000972</td>\n",
       "      <td>-5.65303</td>\n",
       "      <td>-4.383264</td>\n",
       "      <td>-10.966054</td>\n",
       "      <td>14%</td>\n",
       "      <td>$675</td>\n",
       "      <td>2016.0</td>\n",
       "      <td>Bordeaux-style Red Blend ChÃ¢teau Mouton Roths...</td>\n",
       "      <td>0.141897</td>\n",
       "      <td>0.318145</td>\n",
       "      <td>0.655264</td>\n",
       "      <td>0.473096</td>\n",
       "      <td>0.420863</td>\n",
       "      <td>0.228206</td>\n",
       "    </tr>\n",
       "    <tr>\n",
       "      <th>1</th>\n",
       "      <td>beef and venison</td>\n",
       "      <td>Bordeaux Blend Red</td>\n",
       "      <td>3rd</td>\n",
       "      <td>96 / 100</td>\n",
       "      <td>10,564</td>\n",
       "      <td>Chateau Lafite Rothschild</td>\n",
       "      <td>Pauillac</td>\n",
       "      <td>France</td>\n",
       "      <td>Bordeaux Blend Red Chateau Lafite Rothschild P...</td>\n",
       "      <td>-0.000151</td>\n",
       "      <td>-0.000972</td>\n",
       "      <td>-5.65303</td>\n",
       "      <td>-4.383264</td>\n",
       "      <td>-10.966054</td>\n",
       "      <td>NaN</td>\n",
       "      <td>$869</td>\n",
       "      <td>2016.0</td>\n",
       "      <td>Bordeaux-style Red Blend ChÃ¢teau Lafite Roths...</td>\n",
       "      <td>0.141897</td>\n",
       "      <td>0.318145</td>\n",
       "      <td>0.655264</td>\n",
       "      <td>0.473096</td>\n",
       "      <td>0.420863</td>\n",
       "      <td>0.228206</td>\n",
       "    </tr>\n",
       "    <tr>\n",
       "      <th>2</th>\n",
       "      <td>beef and venison</td>\n",
       "      <td>Merlot</td>\n",
       "      <td>4th</td>\n",
       "      <td>96 / 100</td>\n",
       "      <td>47,971</td>\n",
       "      <td>Petrus</td>\n",
       "      <td>Pomerol</td>\n",
       "      <td>France</td>\n",
       "      <td>Merlot Petrus Pomerol France</td>\n",
       "      <td>-0.000151</td>\n",
       "      <td>-3.860945</td>\n",
       "      <td>-5.65303</td>\n",
       "      <td>-4.383264</td>\n",
       "      <td>27.357079</td>\n",
       "      <td>14%</td>\n",
       "      <td>$65</td>\n",
       "      <td>2014.0</td>\n",
       "      <td>Merlot ChÃ¢teau Fayat Pomerol France</td>\n",
       "      <td>0.141897</td>\n",
       "      <td>0.318145</td>\n",
       "      <td>0.655264</td>\n",
       "      <td>0.473096</td>\n",
       "      <td>0.420863</td>\n",
       "      <td>0.228206</td>\n",
       "    </tr>\n",
       "  </tbody>\n",
       "</table>\n",
       "</div>"
      ],
      "text/plain": [
       "       Pairing Food               Grape Popularity Critics' Score  \\\n",
       "0  beef and venison  Bordeaux Blend Red        1st       96 / 100   \n",
       "1  beef and venison  Bordeaux Blend Red        3rd       96 / 100   \n",
       "2  beef and venison              Merlot        4th       96 / 100   \n",
       "\n",
       "  Avg. Price kr / 750ml                       Wine     Region  Country  \\\n",
       "0                 7,926  Chateau Mouton Rothschild   Pauillac   France   \n",
       "1                10,564  Chateau Lafite Rothschild   Pauillac   France   \n",
       "2                47,971                     Petrus    Pomerol   France   \n",
       "\n",
       "                                           name_pair  sweetness   acidity  \\\n",
       "0  Bordeaux Blend Red Chateau Mouton Rothschild P... -27.316847 -0.000972   \n",
       "1  Bordeaux Blend Red Chateau Lafite Rothschild P...  -0.000151 -0.000972   \n",
       "2                       Merlot Petrus Pomerol France  -0.000151 -3.860945   \n",
       "\n",
       "   piquancy  fattiness  bitterness Alcohol Price_Review  Vintage  \\\n",
       "0  -5.65303  -4.383264  -10.966054     14%         $675   2016.0   \n",
       "1  -5.65303  -4.383264  -10.966054     NaN         $869   2016.0   \n",
       "2  -5.65303  -4.383264   27.357079     14%          $65   2014.0   \n",
       "\n",
       "                                    name_wine_review  sweetness_food  \\\n",
       "0  Bordeaux-style Red Blend ChÃ¢teau Mouton Roths...        0.141897   \n",
       "1  Bordeaux-style Red Blend ChÃ¢teau Lafite Roths...        0.141897   \n",
       "2               Merlot ChÃ¢teau Fayat Pomerol France        0.141897   \n",
       "\n",
       "   acidity_food  salinity_food  piquancy_food  fattiness_food  bitterness_food  \n",
       "0      0.318145       0.655264       0.473096        0.420863         0.228206  \n",
       "1      0.318145       0.655264       0.473096        0.420863         0.228206  \n",
       "2      0.318145       0.655264       0.473096        0.420863         0.228206  "
      ]
     },
     "execution_count": 115,
     "metadata": {},
     "output_type": "execute_result"
    }
   ],
   "source": [
    "pair_df_test.head(3)"
   ]
  },
  {
   "cell_type": "code",
   "execution_count": 116,
   "id": "5a8a7cc3",
   "metadata": {},
   "outputs": [],
   "source": [
    "pair_df_test.to_csv('pairing_food_final.csv', index=False)"
   ]
  }
 ],
 "metadata": {
  "kernelspec": {
   "display_name": "Python 3 (ipykernel)",
   "language": "python",
   "name": "python3"
  },
  "language_info": {
   "codemirror_mode": {
    "name": "ipython",
    "version": 3
   },
   "file_extension": ".py",
   "mimetype": "text/x-python",
   "name": "python",
   "nbconvert_exporter": "python",
   "pygments_lexer": "ipython3",
   "version": "3.8.5"
  }
 },
 "nbformat": 4,
 "nbformat_minor": 5
}
