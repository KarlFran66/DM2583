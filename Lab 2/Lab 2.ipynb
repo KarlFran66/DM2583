{
 "cells": [
  {
   "cell_type": "code",
   "execution_count": 1,
   "id": "cc8c3fea",
   "metadata": {},
   "outputs": [],
   "source": [
    "import pandas as pd\n",
    "import re\n",
    "from sklearn.feature_extraction.text import TfidfVectorizer\n",
    "from sklearn.naive_bayes import MultinomialNB\n",
    "from sklearn.svm import SVC\n",
    "from sklearn.metrics import accuracy_score, classification_report, roc_curve, roc_auc_score, confusion_matrix\n",
    "from sklearn.model_selection import GridSearchCV\n",
    "from sklearn.feature_selection import SelectKBest, chi2, mutual_info_classif, VarianceThreshold\n",
    "import matplotlib.pyplot as plt\n",
    "import seaborn as sns"
   ]
  },
  {
   "cell_type": "markdown",
   "id": "fd951ccc",
   "metadata": {},
   "source": [
    "<br/>\n",
    "Uncomment the following cell to always display the whole dataframe, but this makes my laptop run slowly."
   ]
  },
  {
   "cell_type": "code",
   "execution_count": 2,
   "id": "f5325397",
   "metadata": {},
   "outputs": [],
   "source": [
    "# pd.set_option('display.max_rows', None)\n",
    "# pd.set_option('display.max_columns', None)\n",
    "# pd.set_option('display.expand_frame_repr', False) \n",
    "# pd.set_option('display.max_colwidth', None)"
   ]
  },
  {
   "cell_type": "markdown",
   "id": "3e9d0732",
   "metadata": {},
   "source": [
    "# Data cleaning\n",
    "Read training, test, evaluation sets, check whether there exist nulls or abnormal values. It seems that the given datasets are very clean."
   ]
  },
  {
   "cell_type": "code",
   "execution_count": 3,
   "id": "bbb9acca",
   "metadata": {},
   "outputs": [
    {
     "name": "stdout",
     "output_type": "stream",
     "text": [
      "1    3752\n",
      "0    3748\n",
      "Name: score, dtype: int64 \n",
      " score    0\n",
      "text     0\n",
      "dtype: int64\n",
      " \n",
      "0    1252\n",
      "1    1248\n",
      "Name: score, dtype: int64 \n",
      " score    0\n",
      "text     0\n",
      "dtype: int64\n",
      " \n",
      "1    2518\n",
      "0    2482\n",
      "Name: score, dtype: int64 \n",
      " score    0\n",
      "text     0\n",
      "dtype: int64\n"
     ]
    }
   ],
   "source": [
    "training_set = pd.read_csv('train.csv')\n",
    "test_set = pd.read_csv('test.csv')\n",
    "evaluation_set = pd.read_csv('evaluation.csv')\n",
    "\n",
    "print(training_set['score'].value_counts(), '\\n', # This is to count all different values in 'score'.\n",
    "      training_set.isna().sum())                  # This is to count all nulls.\n",
    "print(' ')\n",
    "print(test_set['score'].value_counts(), '\\n',\n",
    "      test_set.isna().sum())\n",
    "print(' ')\n",
    "print(evaluation_set['score'].value_counts(), '\\n',\n",
    "      evaluation_set.isna().sum())"
   ]
  },
  {
   "cell_type": "markdown",
   "id": "e8f75f61",
   "metadata": {},
   "source": [
    "\n",
    "<br/>\n",
    "Defining a function for cleaning the 'text' feature.\n"
   ]
  },
  {
   "cell_type": "code",
   "execution_count": 4,
   "id": "bf28ced6",
   "metadata": {},
   "outputs": [],
   "source": [
    "def clean_text(text):\n",
    "    text = re.sub(r'<.*?>', ' ', text)                           # substitute HTML tags with spaces\n",
    "    text = re.sub(r'@[\\w_]+', ' ', text)                         # substitute mentions with spaces\n",
    "    text = re.sub(r'http[s]?://\\S+|www\\.\\S+', ' ', text)         # substitute URLs with spaces\n",
    "    text = re.sub(r'[^\\w\\s\\d\\U0001F000-\\U0001F9FF]', ' ', text)  # substitute punctuations with spaces\n",
    "    return text"
   ]
  },
  {
   "cell_type": "markdown",
   "id": "49398ca9",
   "metadata": {},
   "source": [
    "<br/>\n",
    "Apply clean_text function to all datasets."
   ]
  },
  {
   "cell_type": "code",
   "execution_count": 5,
   "id": "fcadd353",
   "metadata": {},
   "outputs": [],
   "source": [
    "training_set['text'] = training_set['text'].apply(clean_text)\n",
    "test_set['text'] = test_set['text'].apply(clean_text)\n",
    "evaluation_set['text'] = evaluation_set['text'].apply(clean_text)"
   ]
  },
  {
   "cell_type": "markdown",
   "id": "a702e6a4",
   "metadata": {},
   "source": [
    "# Feature engineering\n",
    "Use TF-IDF to encode the 'text' features, with 6000 as max features, 'english' library as stop words, and consider both 1 and 2 grams. The encoding method is then fit for the training set and saved in tfidf_vectorizer. After that, use the same tfidf_vectorizer (the same encoding method) to encode the test and evaluation set."
   ]
  },
  {
   "cell_type": "code",
   "execution_count": 6,
   "id": "0eb7648c",
   "metadata": {},
   "outputs": [],
   "source": [
    "# tfidf_vectorizer = TfidfVectorizer(max_features=6000, stop_words='english', ngram_range=(1, 2))\n",
    "\n",
    "# X_train = tfidf_vectorizer.fit_transform(training_set['text'])\n",
    "# y_train = training_set['score']\n",
    "\n",
    "# X_test = tfidf_vectorizer.transform(test_set['text'])\n",
    "# y_test = test_set['score']\n",
    "\n",
    "# X_evaluation = tfidf_vectorizer.transform(evaluation_set['text'])\n",
    "# y_evaluation = evaluation_set['score']"
   ]
  },
  {
   "cell_type": "markdown",
   "id": "85b1bce5",
   "metadata": {},
   "source": [
    "<br/>\n",
    "An interesting trial with unlimited max features and no stop words for TfidfVectorizer, and save it as tfidf_vectorizer_trial."
   ]
  },
  {
   "cell_type": "code",
   "execution_count": 7,
   "id": "75cadeb0",
   "metadata": {},
   "outputs": [],
   "source": [
    "tfidf_vectorizer_trial = TfidfVectorizer(ngram_range=(1, 2))\n",
    "\n",
    "X_train_trial = tfidf_vectorizer_trial.fit_transform(training_set['text'])\n",
    "y_train_trial = training_set['score']\n",
    "\n",
    "X_test_trial = tfidf_vectorizer_trial.transform(test_set['text'])\n",
    "y_test_trial = test_set['score']\n",
    "\n",
    "X_evaluation_trial = tfidf_vectorizer_trial.transform(evaluation_set['text'])\n",
    "y_evaluation_trial = evaluation_set['score']"
   ]
  },
  {
   "cell_type": "markdown",
   "id": "7669a831",
   "metadata": {},
   "source": [
    "# Training\n",
    "Use MultnomialNB as the naive bayes classifier. Apply grid search with 5-fold cross validation to find the best smoothing paramter alpha for MultnomialNB. It turns out that the best alpha is 2.9."
   ]
  },
  {
   "cell_type": "code",
   "execution_count": 8,
   "id": "c0a61b69",
   "metadata": {},
   "outputs": [],
   "source": [
    "# param_grid = {'alpha': [0.1, 0.5, 1.0, 2.0, 2.8, 2.9, 3.0, 4.0]}\n",
    "# grid_search = GridSearchCV(MultinomialNB(), param_grid, cv=5)\n",
    "# grid_search.fit(X_train, y_train)\n",
    "\n",
    "# best_alpha = grid_search.best_params_['alpha']\n",
    "# best_alpha"
   ]
  },
  {
   "cell_type": "markdown",
   "id": "60c817c1",
   "metadata": {},
   "source": [
    "<br/>\n",
    "For the trial with tfidf_vectorizer_trial, this time the best alpha is 0.2:"
   ]
  },
  {
   "cell_type": "code",
   "execution_count": 9,
   "id": "e424dd0b",
   "metadata": {},
   "outputs": [
    {
     "data": {
      "text/plain": [
       "0.2"
      ]
     },
     "execution_count": 9,
     "metadata": {},
     "output_type": "execute_result"
    }
   ],
   "source": [
    "param_grid_trial = {'alpha': [0.1, 0.2, 0.3, 0.5, 1.0]}\n",
    "grid_search_trial = GridSearchCV(MultinomialNB(), param_grid_trial, cv=5)\n",
    "grid_search_trial.fit(X_train_trial, y_train_trial)\n",
    "\n",
    "best_alpha_trial = grid_search_trial.best_params_['alpha']\n",
    "best_alpha_trial"
   ]
  },
  {
   "cell_type": "markdown",
   "id": "6f4d0e1f",
   "metadata": {},
   "source": [
    "<br/>\n",
    "Then train MultinomialNB with the best alpha 2.9, and save the model as nb_classifier."
   ]
  },
  {
   "cell_type": "code",
   "execution_count": 10,
   "id": "6c6afecd",
   "metadata": {},
   "outputs": [],
   "source": [
    "# nb_classifier = MultinomialNB(alpha=best_alpha)\n",
    "# nb_classifier.fit(X_train, y_train)"
   ]
  },
  {
   "cell_type": "markdown",
   "id": "1e66bad7",
   "metadata": {},
   "source": [
    "<br/>\n",
    "For the trial with best_alpha_trial:"
   ]
  },
  {
   "cell_type": "code",
   "execution_count": 11,
   "id": "e350aac9",
   "metadata": {},
   "outputs": [
    {
     "data": {
      "text/plain": [
       "MultinomialNB(alpha=0.2)"
      ]
     },
     "execution_count": 11,
     "metadata": {},
     "output_type": "execute_result"
    }
   ],
   "source": [
    "nb_classifier_trial = MultinomialNB(alpha=best_alpha_trial)\n",
    "nb_classifier_trial.fit(X_train_trial, y_train_trial)"
   ]
  },
  {
   "cell_type": "markdown",
   "id": "161c216d",
   "metadata": {},
   "source": [
    "<br/>\n",
    "Based on what we got from lab 1, the trial one with no stop words works better, thus only consider this one in lab 2."
   ]
  },
  {
   "cell_type": "markdown",
   "id": "95944cd0",
   "metadata": {},
   "source": [
    "# Testing and evaluation\n",
    "Use nb_classifier to predict for test and evaluation set, and check the accuracy."
   ]
  },
  {
   "cell_type": "code",
   "execution_count": 12,
   "id": "31749b44",
   "metadata": {},
   "outputs": [],
   "source": [
    "# y_pred = nb_classifier.predict(X_test)\n",
    "\n",
    "# accuracy = accuracy_score(y_test, y_pred)\n",
    "# print(accuracy)"
   ]
  },
  {
   "cell_type": "code",
   "execution_count": 13,
   "id": "c9f04e3f",
   "metadata": {},
   "outputs": [],
   "source": [
    "# y_pred_evaluation = nb_classifier.predict(X_evaluation)\n",
    "\n",
    "# accuracy_evaluation = accuracy_score(y_evaluation, y_pred_evaluation)\n",
    "# print(accuracy_evaluation)"
   ]
  },
  {
   "cell_type": "markdown",
   "id": "299d2fc6",
   "metadata": {},
   "source": [
    "<br/>\n",
    "For the trial with tfidf_vectorizer_trial:"
   ]
  },
  {
   "cell_type": "code",
   "execution_count": 14,
   "id": "1f348ea4",
   "metadata": {},
   "outputs": [
    {
     "name": "stdout",
     "output_type": "stream",
     "text": [
      "0.8492\n",
      "              precision    recall  f1-score   support\n",
      "\n",
      "           0       0.82      0.90      0.86      1252\n",
      "           1       0.89      0.80      0.84      1248\n",
      "\n",
      "    accuracy                           0.85      2500\n",
      "   macro avg       0.85      0.85      0.85      2500\n",
      "weighted avg       0.85      0.85      0.85      2500\n",
      "\n"
     ]
    }
   ],
   "source": [
    "y_pred_trial = nb_classifier_trial.predict(X_test_trial)\n",
    "\n",
    "accuracy_trial = accuracy_score(y_test_trial, y_pred_trial)\n",
    "print(accuracy_trial)\n",
    "print(classification_report(y_test_trial, y_pred_trial))"
   ]
  },
  {
   "cell_type": "code",
   "execution_count": 15,
   "id": "f1f15bdf",
   "metadata": {},
   "outputs": [
    {
     "name": "stdout",
     "output_type": "stream",
     "text": [
      "0.839\n",
      "              precision    recall  f1-score   support\n",
      "\n",
      "           0       0.78      0.94      0.85      2482\n",
      "           1       0.92      0.74      0.82      2518\n",
      "\n",
      "    accuracy                           0.84      5000\n",
      "   macro avg       0.85      0.84      0.84      5000\n",
      "weighted avg       0.85      0.84      0.84      5000\n",
      "\n"
     ]
    }
   ],
   "source": [
    "y_pred_evaluation_trial = nb_classifier_trial.predict(X_evaluation_trial)\n",
    "\n",
    "accuracy_evaluation_trial = accuracy_score(y_evaluation_trial, y_pred_evaluation_trial)\n",
    "print(accuracy_evaluation_trial)\n",
    "print(classification_report(y_evaluation_trial, y_pred_evaluation_trial))"
   ]
  },
  {
   "cell_type": "markdown",
   "id": "f197245e",
   "metadata": {},
   "source": [
    "<br/>\n",
    "Calculate AUC values and plot ROC curves."
   ]
  },
  {
   "cell_type": "code",
   "execution_count": 16,
   "id": "9784f5b8",
   "metadata": {},
   "outputs": [],
   "source": [
    "# y_prob_test = nb_classifier.predict_proba(X_test)[:, 1]  # obtain probability of positive\n",
    "# fpr_test_1, tpr_test_1, _ = roc_curve(y_test, y_prob_test)\n",
    "# auc_test_1 = roc_auc_score(y_test, y_prob_test)\n",
    "\n",
    "# y_prob_test_trial = nb_classifier_trial.predict_proba(X_test_trial)[:, 1] \n",
    "# fpr_test_2, tpr_test_2, _ = roc_curve(y_test_trial, y_prob_test_trial)\n",
    "# auc_test_2 = roc_auc_score(y_test_trial, y_prob_test_trial)\n",
    "\n",
    "# y_prob_evaluation = nb_classifier.predict_proba(X_evaluation)[:, 1]\n",
    "# fpr_evaluation_1, tpr_evaluation_1, _ = roc_curve(y_evaluation, y_prob_evaluation)\n",
    "# auc_evaluation_1 = roc_auc_score(y_evaluation, y_prob_evaluation)\n",
    "\n",
    "# y_prob_evaluation_trial = nb_classifier_trial.predict_proba(X_evaluation_trial)[:, 1]\n",
    "# fpr_evaluation_2, tpr_evaluation_2, _ = roc_curve(y_evaluation_trial, y_prob_evaluation_trial)\n",
    "# auc_evaluation_2 = roc_auc_score(y_evaluation_trial, y_prob_evaluation_trial)"
   ]
  },
  {
   "cell_type": "code",
   "execution_count": 17,
   "id": "f11af289",
   "metadata": {},
   "outputs": [],
   "source": [
    "# plt.figure(figsize=(10, 8))\n",
    "# plt.plot(fpr_test_1, tpr_test_1, label=f'Test Model (AUC = {auc_test_1:.2f})')\n",
    "# plt.plot(fpr_test_2, tpr_test_2, label=f'Test Model with Trial (AUC = {auc_test_2:.2f})')\n",
    "# plt.xlabel('False Positive Rate')\n",
    "# plt.ylabel('True Positive Rate')\n",
    "# plt.title('ROC Curve - Test Set')\n",
    "# plt.legend()\n",
    "# plt.show()\n",
    "\n",
    "# plt.figure(figsize=(10, 8))\n",
    "# plt.plot(fpr_evaluation_1, tpr_evaluation_1, label=f'Evaluation Model (AUC = {auc_evaluation_1:.2f})')\n",
    "# plt.plot(fpr_evaluation_2, tpr_evaluation_2, label=f'Evaluation Model with Trial (AUC = {auc_evaluation_2:.2f})')\n",
    "# plt.xlabel('False Positive Rate')\n",
    "# plt.ylabel('True Positive Rate')\n",
    "# plt.title('ROC Curve - Evaluation Set')\n",
    "# plt.legend()\n",
    "# plt.show()"
   ]
  },
  {
   "cell_type": "markdown",
   "id": "9bdd680b",
   "metadata": {},
   "source": [
    "<br/>\n",
    "In the end, plot the confusion matrices here."
   ]
  },
  {
   "cell_type": "code",
   "execution_count": 18,
   "id": "d19cad65",
   "metadata": {},
   "outputs": [],
   "source": [
    "# cm_test_1 = confusion_matrix(y_test, y_pred)\n",
    "\n",
    "# cm_test_2 = confusion_matrix(y_test_trial, y_pred_trial)\n",
    "\n",
    "# cm_evaluation_1 = confusion_matrix(y_evaluation, y_pred_evaluation)\n",
    "\n",
    "# cm_evaluation_2 = confusion_matrix(y_evaluation_trial, y_pred_evaluation_trial)\n",
    "\n",
    "# plt.figure(figsize=(8, 6))\n",
    "# sns.heatmap(cm_test_1, annot=True, fmt='d', cmap='Blues', cbar=False)\n",
    "# plt.xlabel('Predicted')\n",
    "# plt.ylabel('True')\n",
    "# plt.title('Confusion Matrix - Test Set')\n",
    "# plt.show()\n",
    "\n",
    "# plt.figure(figsize=(8, 6))\n",
    "# sns.heatmap(cm_test_2, annot=True, fmt='d', cmap='Blues', cbar=False)\n",
    "# plt.xlabel('Predicted')\n",
    "# plt.ylabel('True')\n",
    "# plt.title('Confusion Matrix - Test Set with Trial')\n",
    "# plt.show()\n",
    "\n",
    "# plt.figure(figsize=(8, 6))\n",
    "# sns.heatmap(cm_evaluation_1, annot=True, fmt='d', cmap='Blues', cbar=False)\n",
    "# plt.xlabel('Predicted')\n",
    "# plt.ylabel('True')\n",
    "# plt.title('Confusion Matrix - Evaluation Set')\n",
    "# plt.show()\n",
    "\n",
    "# plt.figure(figsize=(8, 6))\n",
    "# sns.heatmap(cm_evaluation_2, annot=True, fmt='d', cmap='Blues', cbar=False)\n",
    "# plt.xlabel('Predicted')\n",
    "# plt.ylabel('True')\n",
    "# plt.title('Confusion Matrix - Evaluation Set with Trial')\n",
    "# plt.show()"
   ]
  },
  {
   "cell_type": "markdown",
   "id": "6079b88c",
   "metadata": {},
   "source": [
    "# SVM\n",
    "After that, let's come to lab 2 SVM. Similarly, we use TF-IDF to encode the text, pay attention to the max features and the usage of stop words. Besides, select k best features from the vectorized training set based on different criteria."
   ]
  },
  {
   "cell_type": "code",
   "execution_count": 19,
   "id": "92e50a4c",
   "metadata": {},
   "outputs": [],
   "source": [
    "tfidf_vectorizer_svm = TfidfVectorizer(max_features=5000)\n",
    "\n",
    "X_train_svm = tfidf_vectorizer_svm.fit_transform(training_set['text'])\n",
    "y_train_svm = training_set['score']\n",
    "\n",
    "X_test_svm = tfidf_vectorizer_svm.transform(test_set['text'])\n",
    "y_test_svm = test_set['score']\n",
    "\n",
    "X_evaluation_svm = tfidf_vectorizer_svm.transform(evaluation_set['text'])\n",
    "y_evaluation_svm = evaluation_set['score']\n",
    "\n",
    "k_best = SelectKBest(score_func=chi2, k=1600)  # select k best features from the vectorized training set\n",
    "# k_best = SelectKBest(score_func=mutual_info_classif, k=1500)\n",
    "# k_best = VarianceThreshold(threshold=0.0001)\n",
    "X_train_svm = k_best.fit_transform(X_train_svm, y_train_svm)\n",
    "X_test_svm = k_best.transform(X_test_svm)\n",
    "X_evaluation_svm = k_best.transform(X_evaluation_svm)"
   ]
  },
  {
   "cell_type": "markdown",
   "id": "7ce458a7",
   "metadata": {},
   "source": [
    "<br/>\n",
    "When training the model, use grid search with different combinations of (C: tolerance of soft margin, kernel, gamma for rbf, degree for polynomial)."
   ]
  },
  {
   "cell_type": "code",
   "execution_count": 20,
   "id": "ea3dea11",
   "metadata": {},
   "outputs": [
    {
     "name": "stdout",
     "output_type": "stream",
     "text": [
      "Parameters: {'C': 15, 'gamma': 0.1, 'kernel': 'rbf'}\n",
      "Mean Test Score (Accuracy): 0.8663\n",
      "\n",
      "{'C': 15, 'gamma': 0.1, 'kernel': 'rbf'}\n"
     ]
    }
   ],
   "source": [
    "svm_classifier = SVC(random_state=42, probability=True)\n",
    "\n",
    "param_grid_svm = {\n",
    "    'C': [15],\n",
    "    'kernel': ['rbf'],\n",
    "    'gamma': [0.1]  # gamma for rbf kernel\n",
    "    \n",
    "#     'C': [20],\n",
    "#     'kernel': ['poly'],\n",
    "#     'degree': [2]  # degree for polynomial kernel\n",
    "    \n",
    "#     'C': [1],\n",
    "#     'kernel': ['sigmoid']\n",
    "    \n",
    "#     'C': [1],\n",
    "#     'kernel': ['linear']\n",
    "}\n",
    "\n",
    "grid_search_svm = GridSearchCV(svm_classifier, param_grid_svm, cv=5, scoring='accuracy', n_jobs=-1)\n",
    "\n",
    "grid_search_svm.fit(X_train_svm, y_train_svm)\n",
    "\n",
    "results_grid_search_svm = grid_search_svm.cv_results_\n",
    "for i in range(len(results_grid_search_svm['params'])):\n",
    "    print(f\"Parameters: {results_grid_search_svm['params'][i]}\")\n",
    "    print(f\"Mean Test Score (Accuracy): {results_grid_search_svm['mean_test_score'][i]:.4f}\")\n",
    "    print()\n",
    "\n",
    "print(grid_search_svm.best_params_)"
   ]
  },
  {
   "cell_type": "markdown",
   "id": "515b987a",
   "metadata": {},
   "source": [
    "<br/>\n",
    "It seems that select 1600 features based on chi2, use rbf kernel with C=15, gamma=0.1 gives the best result for the test set. Besides, we again didn't use stop words for TfidfVectorizer (notice all parameters for TfidfVectorizer)."
   ]
  },
  {
   "cell_type": "code",
   "execution_count": 21,
   "id": "881b07d0",
   "metadata": {},
   "outputs": [
    {
     "name": "stdout",
     "output_type": "stream",
     "text": [
      "0.8588\n",
      "              precision    recall  f1-score   support\n",
      "\n",
      "           0       0.85      0.87      0.86      1252\n",
      "           1       0.86      0.85      0.86      1248\n",
      "\n",
      "    accuracy                           0.86      2500\n",
      "   macro avg       0.86      0.86      0.86      2500\n",
      "weighted avg       0.86      0.86      0.86      2500\n",
      "\n"
     ]
    }
   ],
   "source": [
    "best_svm_model = grid_search_svm.best_estimator_\n",
    "y_pred_svm = best_svm_model.predict(X_test_svm)\n",
    "\n",
    "accracy_svm = accuracy_score(y_test_svm, y_pred_svm)\n",
    "print(accracy_svm)\n",
    "print(classification_report(y_test_svm, y_pred_svm))"
   ]
  },
  {
   "cell_type": "markdown",
   "id": "e26c67fa",
   "metadata": {},
   "source": [
    "<br/>\n",
    "This gives 0.8524 accuracy for the evaluation set."
   ]
  },
  {
   "cell_type": "code",
   "execution_count": 22,
   "id": "0af9026e",
   "metadata": {},
   "outputs": [
    {
     "name": "stdout",
     "output_type": "stream",
     "text": [
      "0.8524\n",
      "              precision    recall  f1-score   support\n",
      "\n",
      "           0       0.85      0.86      0.85      2482\n",
      "           1       0.86      0.84      0.85      2518\n",
      "\n",
      "    accuracy                           0.85      5000\n",
      "   macro avg       0.85      0.85      0.85      5000\n",
      "weighted avg       0.85      0.85      0.85      5000\n",
      "\n"
     ]
    }
   ],
   "source": [
    "y_pred_evaluation_svm = best_svm_model.predict(X_evaluation_svm)\n",
    "\n",
    "accracy_evaluation_svm = accuracy_score(y_evaluation_svm, y_pred_evaluation_svm)\n",
    "print(accracy_evaluation_svm)\n",
    "print(classification_report(y_evaluation_svm, y_pred_evaluation_svm))"
   ]
  },
  {
   "cell_type": "markdown",
   "id": "545a5d00",
   "metadata": {},
   "source": [
    "<br/>\n",
    "Calculate AUC values and plot ROC curves."
   ]
  },
  {
   "cell_type": "code",
   "execution_count": 23,
   "id": "b534a562",
   "metadata": {},
   "outputs": [
    {
     "data": {
      "image/png": "[encoded data removed]",
      "text/plain": [
       "<Figure size 720x576 with 1 Axes>"
      ]
     },
     "metadata": {
      "needs_background": "light"
     },
     "output_type": "display_data"
    },
    {
     "data": {
      "image/png": "[encoded data removed]",
      "text/plain": [
       "<Figure size 720x576 with 1 Axes>"
      ]
     },
     "metadata": {
      "needs_background": "light"
     },
     "output_type": "display_data"
    }
   ],
   "source": [
    "y_prob_test_trial = nb_classifier_trial.predict_proba(X_test_trial)[:, 1]  # obtain probability of positive\n",
    "fpr_test_1, tpr_test_1, _ = roc_curve(y_test_trial, y_prob_test_trial)\n",
    "auc_test_1 = roc_auc_score(y_test_trial, y_prob_test_trial)\n",
    "\n",
    "y_prob_test_svm = best_svm_model.predict_proba(X_test_svm)[:, 1]\n",
    "fpr_test_2, tpr_test_2, _ = roc_curve(y_test_svm, y_prob_test_svm)\n",
    "auc_test_2 = roc_auc_score(y_test_svm, y_prob_test_svm)\n",
    "\n",
    "y_prob_evaluation_trial = nb_classifier_trial.predict_proba(X_evaluation_trial)[:, 1]\n",
    "fpr_evaluation_1, tpr_evaluation_1, _ = roc_curve(y_evaluation_trial, y_prob_evaluation_trial)\n",
    "auc_evaluation_1 = roc_auc_score(y_evaluation_trial, y_prob_evaluation_trial)\n",
    "\n",
    "y_prob_evaluation_svm = best_svm_model.predict_proba(X_evaluation_svm)[:, 1]\n",
    "fpr_evaluation_2, tpr_evaluation_2, _ = roc_curve(y_evaluation_svm, y_prob_evaluation_svm)\n",
    "auc_evaluation_2 = roc_auc_score(y_evaluation_svm, y_prob_evaluation_svm)\n",
    "\n",
    "plt.figure(figsize=(10, 8))\n",
    "plt.plot(fpr_test_1, tpr_test_1, label=f'Test Model with NB (AUC = {auc_test_1:.2f})')\n",
    "plt.plot(fpr_test_2, tpr_test_2, label=f'Test Model with SVM (AUC = {auc_test_2:.2f})')\n",
    "plt.xlabel('False Positive Rate')\n",
    "plt.ylabel('True Positive Rate')\n",
    "plt.title('ROC Curve - Test Set')\n",
    "plt.legend()\n",
    "plt.show()\n",
    "\n",
    "plt.figure(figsize=(10, 8))\n",
    "plt.plot(fpr_evaluation_1, tpr_evaluation_1, label=f'Evaluation Model with NB (AUC = {auc_evaluation_1:.2f})')\n",
    "plt.plot(fpr_evaluation_2, tpr_evaluation_2, label=f'Evaluation Model with SVM (AUC = {auc_evaluation_2:.2f})')\n",
    "plt.xlabel('False Positive Rate')\n",
    "plt.ylabel('True Positive Rate')\n",
    "plt.title('ROC Curve - Evaluation Set')\n",
    "plt.legend()\n",
    "plt.show()"
   ]
  },
  {
   "cell_type": "markdown",
   "id": "b013bdb7",
   "metadata": {},
   "source": [
    "<br/>\n",
    "In the end, plot the confusion matrices here."
   ]
  },
  {
   "cell_type": "code",
   "execution_count": 24,
   "id": "a616687a",
   "metadata": {},
   "outputs": [
    {
     "data": {
      "image/png": "[encoded data removed]",
      "text/plain": [
       "<Figure size 576x432 with 1 Axes>"
      ]
     },
     "metadata": {
      "needs_background": "light"
     },
     "output_type": "display_data"
    },
    {
     "data": {
      "image/png": "[encoded data removed]",
      "text/plain": [
       "<Figure size 576x432 with 1 Axes>"
      ]
     },
     "metadata": {
      "needs_background": "light"
     },
     "output_type": "display_data"
    },
    {
     "data": {
      "image/png": "[encoded data removed]",
      "text/plain": [
       "<Figure size 576x432 with 1 Axes>"
      ]
     },
     "metadata": {
      "needs_background": "light"
     },
     "output_type": "display_data"
    },
    {
     "data": {
      "image/png": "[encoded data removed]",
      "text/plain": [
       "<Figure size 576x432 with 1 Axes>"
      ]
     },
     "metadata": {
      "needs_background": "light"
     },
     "output_type": "display_data"
    }
   ],
   "source": [
    "cm_test_1 = confusion_matrix(y_test_trial, y_pred_trial)\n",
    "\n",
    "cm_test_2 = confusion_matrix(y_test_svm, y_pred_svm)\n",
    "\n",
    "cm_evaluation_1 = confusion_matrix(y_evaluation_trial, y_pred_evaluation_trial)\n",
    "\n",
    "cm_evaluation_2 = confusion_matrix(y_evaluation_svm, y_pred_evaluation_svm)\n",
    "\n",
    "plt.figure(figsize=(8, 6))\n",
    "sns.heatmap(cm_test_1, annot=True, fmt='d', cmap='Blues', cbar=False)\n",
    "plt.xlabel('Predicted')\n",
    "plt.ylabel('True')\n",
    "plt.title('Confusion Matrix - Test Set with NB')\n",
    "plt.show()\n",
    "\n",
    "plt.figure(figsize=(8, 6))\n",
    "sns.heatmap(cm_test_2, annot=True, fmt='d', cmap='Blues', cbar=False)\n",
    "plt.xlabel('Predicted')\n",
    "plt.ylabel('True')\n",
    "plt.title('Confusion Matrix - Test Set with SVM')\n",
    "plt.show()\n",
    "\n",
    "plt.figure(figsize=(8, 6))\n",
    "sns.heatmap(cm_evaluation_1, annot=True, fmt='d', cmap='Blues', cbar=False)\n",
    "plt.xlabel('Predicted')\n",
    "plt.ylabel('True')\n",
    "plt.title('Confusion Matrix - Evaluation Set with NB')\n",
    "plt.show()\n",
    "\n",
    "plt.figure(figsize=(8, 6))\n",
    "sns.heatmap(cm_evaluation_2, annot=True, fmt='d', cmap='Blues', cbar=False)\n",
    "plt.xlabel('Predicted')\n",
    "plt.ylabel('True')\n",
    "plt.title('Confusion Matrix - Evaluation Set with SVM')\n",
    "plt.show()"
   ]
  }
 ],
 "metadata": {
  "kernelspec": {
   "display_name": "Python 3 (ipykernel)",
   "language": "python",
   "name": "python3"
  },
  "language_info": {
   "codemirror_mode": {
    "name": "ipython",
    "version": 3
   },
   "file_extension": ".py",
   "mimetype": "text/x-python",
   "name": "python",
   "nbconvert_exporter": "python",
   "pygments_lexer": "ipython3",
   "version": "3.8.5"
  }
 },
 "nbformat": 4,
 "nbformat_minor": 5
}
